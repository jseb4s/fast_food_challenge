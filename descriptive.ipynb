{
 "cells": [
  {
   "cell_type": "code",
   "execution_count": 856,
   "metadata": {},
   "outputs": [],
   "source": [
    "import pandas as pd\n",
    "import numpy as np\n",
    "import matplotlib.pyplot as plt\n",
    "import openpyxl\n",
    "import os\n",
    "import plotly.express as px\n",
    "import pandas as pd\n",
    "from sklearn.preprocessing import StandardScaler"
   ]
  },
  {
   "cell_type": "code",
   "execution_count": 857,
   "metadata": {},
   "outputs": [],
   "source": [
    "pd.options.display.float_format = '{:.2f}'.format"
   ]
  },
  {
   "cell_type": "code",
   "execution_count": 858,
   "metadata": {},
   "outputs": [],
   "source": [
    "data = pd.read_csv(\"data/Base Comida Rapida.csv\", encoding='utf-8', sep = \";\")\n",
    "classification = pd.read_excel(\"data/clasificacion_productos.xlsx\")"
   ]
  },
  {
   "cell_type": "markdown",
   "metadata": {},
   "source": [
    "# 1. Limpieza y transformación de datos"
   ]
  },
  {
   "cell_type": "code",
   "execution_count": 859,
   "metadata": {},
   "outputs": [
    {
     "data": {
      "text/html": [
       "<div>\n",
       "<style scoped>\n",
       "    .dataframe tbody tr th:only-of-type {\n",
       "        vertical-align: middle;\n",
       "    }\n",
       "\n",
       "    .dataframe tbody tr th {\n",
       "        vertical-align: top;\n",
       "    }\n",
       "\n",
       "    .dataframe thead th {\n",
       "        text-align: right;\n",
       "    }\n",
       "</style>\n",
       "<table border=\"1\" class=\"dataframe\">\n",
       "  <thead>\n",
       "    <tr style=\"text-align: right;\">\n",
       "      <th></th>\n",
       "      <th>Factura</th>\n",
       "      <th>fecha_creacion</th>\n",
       "      <th>codigo</th>\n",
       "      <th>nombre item</th>\n",
       "      <th>Cantidad</th>\n",
       "      <th>Venta</th>\n",
       "      <th>descuento</th>\n",
       "      <th>impuesto</th>\n",
       "      <th>tpv</th>\n",
       "      <th>cliente</th>\n",
       "    </tr>\n",
       "  </thead>\n",
       "  <tbody>\n",
       "    <tr>\n",
       "      <th>0</th>\n",
       "      <td>A683 00002999</td>\n",
       "      <td>2023-07-27 12:22:42.000</td>\n",
       "      <td>6692</td>\n",
       "      <td>K PHILADELPHIA STEAK</td>\n",
       "      <td>1</td>\n",
       "      <td>27685.00</td>\n",
       "      <td>0.00</td>\n",
       "      <td>2215.00</td>\n",
       "      <td>IRCC2838</td>\n",
       "      <td>284</td>\n",
       "    </tr>\n",
       "    <tr>\n",
       "      <th>1</th>\n",
       "      <td>A683 00003065</td>\n",
       "      <td>2023-07-31 12:16:22.653</td>\n",
       "      <td>9726</td>\n",
       "      <td>K ENSALADA MEXICANA LOMO EN COMBO</td>\n",
       "      <td>1</td>\n",
       "      <td>34630.00</td>\n",
       "      <td>0.00</td>\n",
       "      <td>2770.00</td>\n",
       "      <td>IRCC2838</td>\n",
       "      <td>612</td>\n",
       "    </tr>\n",
       "    <tr>\n",
       "      <th>2</th>\n",
       "      <td>A683 00003370</td>\n",
       "      <td>2023-08-22 13:29:56.640</td>\n",
       "      <td>10458</td>\n",
       "      <td>PT MR TEA DISPENSADOR 473 ML</td>\n",
       "      <td>1</td>\n",
       "      <td>4537.00</td>\n",
       "      <td>0.00</td>\n",
       "      <td>363.00</td>\n",
       "      <td>IRCC2838</td>\n",
       "      <td>214</td>\n",
       "    </tr>\n",
       "    <tr>\n",
       "      <th>3</th>\n",
       "      <td>A683 00003394</td>\n",
       "      <td>2023-08-23 15:37:43.000</td>\n",
       "      <td>1660</td>\n",
       "      <td>LLV MALTEADA DE FRUTOS DEL BOSQUE 355 ML</td>\n",
       "      <td>1</td>\n",
       "      <td>11574.00</td>\n",
       "      <td>0.00</td>\n",
       "      <td>926.00</td>\n",
       "      <td>IRCC2838</td>\n",
       "      <td>671</td>\n",
       "    </tr>\n",
       "    <tr>\n",
       "      <th>4</th>\n",
       "      <td>A683 00003434</td>\n",
       "      <td>2023-08-25 13:01:47.800</td>\n",
       "      <td>11513</td>\n",
       "      <td>K TODOTERRENO CALLEJERA EN COMBO</td>\n",
       "      <td>1</td>\n",
       "      <td>36944.00</td>\n",
       "      <td>0.00</td>\n",
       "      <td>2956.00</td>\n",
       "      <td>IRCC2838</td>\n",
       "      <td>780</td>\n",
       "    </tr>\n",
       "  </tbody>\n",
       "</table>\n",
       "</div>"
      ],
      "text/plain": [
       "         Factura           fecha_creacion  codigo  \\\n",
       "0  A683 00002999  2023-07-27 12:22:42.000    6692   \n",
       "1  A683 00003065  2023-07-31 12:16:22.653    9726   \n",
       "2  A683 00003370  2023-08-22 13:29:56.640   10458   \n",
       "3  A683 00003394  2023-08-23 15:37:43.000    1660   \n",
       "4  A683 00003434  2023-08-25 13:01:47.800   11513   \n",
       "\n",
       "                                nombre item  Cantidad    Venta  descuento  \\\n",
       "0  K PHILADELPHIA STEAK                             1 27685.00       0.00   \n",
       "1  K ENSALADA MEXICANA LOMO EN COMBO                1 34630.00       0.00   \n",
       "2              PT MR TEA DISPENSADOR 473 ML         1  4537.00       0.00   \n",
       "3  LLV MALTEADA DE FRUTOS DEL BOSQUE 355 ML         1 11574.00       0.00   \n",
       "4  K TODOTERRENO CALLEJERA EN COMBO                 1 36944.00       0.00   \n",
       "\n",
       "   impuesto       tpv  cliente  \n",
       "0   2215.00  IRCC2838      284  \n",
       "1   2770.00  IRCC2838      612  \n",
       "2    363.00  IRCC2838      214  \n",
       "3    926.00  IRCC2838      671  \n",
       "4   2956.00  IRCC2838      780  "
      ]
     },
     "execution_count": 859,
     "metadata": {},
     "output_type": "execute_result"
    }
   ],
   "source": [
    "data.head()"
   ]
  },
  {
   "cell_type": "code",
   "execution_count": 860,
   "metadata": {},
   "outputs": [
    {
     "data": {
      "text/html": [
       "<div>\n",
       "<style scoped>\n",
       "    .dataframe tbody tr th:only-of-type {\n",
       "        vertical-align: middle;\n",
       "    }\n",
       "\n",
       "    .dataframe tbody tr th {\n",
       "        vertical-align: top;\n",
       "    }\n",
       "\n",
       "    .dataframe thead th {\n",
       "        text-align: right;\n",
       "    }\n",
       "</style>\n",
       "<table border=\"1\" class=\"dataframe\">\n",
       "  <thead>\n",
       "    <tr style=\"text-align: right;\">\n",
       "      <th></th>\n",
       "      <th>Factura</th>\n",
       "      <th>fecha_creacion</th>\n",
       "      <th>codigo</th>\n",
       "      <th>nombre item</th>\n",
       "      <th>Cantidad</th>\n",
       "      <th>Venta</th>\n",
       "      <th>descuento</th>\n",
       "      <th>impuesto</th>\n",
       "      <th>tpv</th>\n",
       "      <th>cliente</th>\n",
       "    </tr>\n",
       "  </thead>\n",
       "  <tbody>\n",
       "    <tr>\n",
       "      <th>601329</th>\n",
       "      <td>044F 00012477</td>\n",
       "      <td>2024-06-17 13:19:38.053</td>\n",
       "      <td>44295</td>\n",
       "      <td>CORRALAZO BBQ CRUNCHY EN COMBO</td>\n",
       "      <td>1</td>\n",
       "      <td>0.00</td>\n",
       "      <td>0.00</td>\n",
       "      <td>0.00</td>\n",
       "      <td>IRCC73</td>\n",
       "      <td>141</td>\n",
       "    </tr>\n",
       "    <tr>\n",
       "      <th>601330</th>\n",
       "      <td>044F 00012479</td>\n",
       "      <td>2024-06-17 14:08:35.567</td>\n",
       "      <td>44295</td>\n",
       "      <td>CORRALAZO BBQ CRUNCHY EN COMBO</td>\n",
       "      <td>1</td>\n",
       "      <td>0.00</td>\n",
       "      <td>0.00</td>\n",
       "      <td>0.00</td>\n",
       "      <td>IRCC73</td>\n",
       "      <td>459</td>\n",
       "    </tr>\n",
       "    <tr>\n",
       "      <th>601331</th>\n",
       "      <td>A019 00172609</td>\n",
       "      <td>2023-07-03 20:40:49.337</td>\n",
       "      <td>2351</td>\n",
       "      <td>LLV VAQUERO ESPECIAL</td>\n",
       "      <td>2</td>\n",
       "      <td>49815.00</td>\n",
       "      <td>0.00</td>\n",
       "      <td>3985.00</td>\n",
       "      <td>IRCC73</td>\n",
       "      <td>342</td>\n",
       "    </tr>\n",
       "    <tr>\n",
       "      <th>601332</th>\n",
       "      <td>A019 00172609</td>\n",
       "      <td>2023-07-03 20:40:49.480</td>\n",
       "      <td>2351</td>\n",
       "      <td>LLV VAQUERO ESPECIAL</td>\n",
       "      <td>1</td>\n",
       "      <td>24907.00</td>\n",
       "      <td>0.00</td>\n",
       "      <td>1993.00</td>\n",
       "      <td>IRCC73</td>\n",
       "      <td>342</td>\n",
       "    </tr>\n",
       "    <tr>\n",
       "      <th>601333</th>\n",
       "      <td>A019 00172701</td>\n",
       "      <td>2023-07-05 18:38:24.120</td>\n",
       "      <td>8021</td>\n",
       "      <td>LLV CORRAL QUESO TOCINETA</td>\n",
       "      <td>1</td>\n",
       "      <td>25833.00</td>\n",
       "      <td>0.00</td>\n",
       "      <td>2067.00</td>\n",
       "      <td>IRCC73</td>\n",
       "      <td>212</td>\n",
       "    </tr>\n",
       "  </tbody>\n",
       "</table>\n",
       "</div>"
      ],
      "text/plain": [
       "              Factura           fecha_creacion  codigo  \\\n",
       "601329  044F 00012477  2024-06-17 13:19:38.053   44295   \n",
       "601330  044F 00012479  2024-06-17 14:08:35.567   44295   \n",
       "601331  A019 00172609  2023-07-03 20:40:49.337    2351   \n",
       "601332  A019 00172609  2023-07-03 20:40:49.480    2351   \n",
       "601333  A019 00172701  2023-07-05 18:38:24.120    8021   \n",
       "\n",
       "                                     nombre item  Cantidad    Venta  \\\n",
       "601329            CORRALAZO BBQ CRUNCHY EN COMBO         1     0.00   \n",
       "601330            CORRALAZO BBQ CRUNCHY EN COMBO         1     0.00   \n",
       "601331  LLV VAQUERO ESPECIAL                             2 49815.00   \n",
       "601332  LLV VAQUERO ESPECIAL                             1 24907.00   \n",
       "601333  LLV CORRAL QUESO TOCINETA                        1 25833.00   \n",
       "\n",
       "        descuento  impuesto     tpv  cliente  \n",
       "601329       0.00      0.00  IRCC73      141  \n",
       "601330       0.00      0.00  IRCC73      459  \n",
       "601331       0.00   3985.00  IRCC73      342  \n",
       "601332       0.00   1993.00  IRCC73      342  \n",
       "601333       0.00   2067.00  IRCC73      212  "
      ]
     },
     "execution_count": 860,
     "metadata": {},
     "output_type": "execute_result"
    }
   ],
   "source": [
    "data.tail()"
   ]
  },
  {
   "cell_type": "code",
   "execution_count": 861,
   "metadata": {},
   "outputs": [
    {
     "data": {
      "text/plain": [
       "(601334, 10)"
      ]
     },
     "execution_count": 861,
     "metadata": {},
     "output_type": "execute_result"
    }
   ],
   "source": [
    "data.shape"
   ]
  },
  {
   "cell_type": "markdown",
   "metadata": {},
   "source": [
    "- Se cuenta con información de 601334 productos transados, caracterizados en 9 variables."
   ]
  },
  {
   "cell_type": "code",
   "execution_count": 862,
   "metadata": {},
   "outputs": [
    {
     "data": {
      "text/plain": [
       "117197"
      ]
     },
     "execution_count": 862,
     "metadata": {},
     "output_type": "execute_result"
    }
   ],
   "source": [
    "data['Factura'].nunique()"
   ]
  },
  {
   "cell_type": "markdown",
   "metadata": {},
   "source": [
    "- Se cuenta con información de 117197 ordenes de compra, caracterizadas en 9 variables."
   ]
  },
  {
   "cell_type": "code",
   "execution_count": 863,
   "metadata": {},
   "outputs": [
    {
     "data": {
      "text/plain": [
       "1000"
      ]
     },
     "execution_count": 863,
     "metadata": {},
     "output_type": "execute_result"
    }
   ],
   "source": [
    "data['cliente'].nunique()"
   ]
  },
  {
   "cell_type": "markdown",
   "metadata": {},
   "source": [
    "- Hay transacciones correspondientes a 1000 clientes diferentes."
   ]
  },
  {
   "cell_type": "code",
   "execution_count": 864,
   "metadata": {},
   "outputs": [
    {
     "data": {
      "text/plain": [
       "Factura            object\n",
       "fecha_creacion     object\n",
       "codigo              int64\n",
       "nombre item        object\n",
       "Cantidad            int64\n",
       "Venta             float64\n",
       "descuento         float64\n",
       "impuesto          float64\n",
       "tpv                object\n",
       "cliente             int64\n",
       "dtype: object"
      ]
     },
     "execution_count": 864,
     "metadata": {},
     "output_type": "execute_result"
    }
   ],
   "source": [
    "data.dtypes"
   ]
  },
  {
   "cell_type": "code",
   "execution_count": 865,
   "metadata": {},
   "outputs": [],
   "source": [
    "data['fecha_creacion'] = pd.to_datetime(data['fecha_creacion'])\n",
    "data[['codigo', 'Factura', 'fecha_creacion', 'nombre item', 'tpv', 'cliente']] = data[['codigo', 'Factura', 'fecha_creacion', \n",
    "                                                                                       'nombre item', 'tpv', 'cliente']].astype(str)"
   ]
  },
  {
   "cell_type": "code",
   "execution_count": 866,
   "metadata": {},
   "outputs": [
    {
     "name": "stdout",
     "output_type": "stream",
     "text": [
      "2023-06-19 09:44:36.353\n",
      "2024-06-18 10:00:51.010\n"
     ]
    }
   ],
   "source": [
    "print(min(data['fecha_creacion']))\n",
    "print(max(data['fecha_creacion']))"
   ]
  },
  {
   "cell_type": "markdown",
   "metadata": {},
   "source": [
    "- Se cuenta con información de aproximadamente un año, con observaciones diarias que tienen el detalle de la hora en que se llevo a cabo la transacción."
   ]
  },
  {
   "cell_type": "code",
   "execution_count": 867,
   "metadata": {},
   "outputs": [
    {
     "data": {
      "text/html": [
       "<div>\n",
       "<style scoped>\n",
       "    .dataframe tbody tr th:only-of-type {\n",
       "        vertical-align: middle;\n",
       "    }\n",
       "\n",
       "    .dataframe tbody tr th {\n",
       "        vertical-align: top;\n",
       "    }\n",
       "\n",
       "    .dataframe thead th {\n",
       "        text-align: right;\n",
       "    }\n",
       "</style>\n",
       "<table border=\"1\" class=\"dataframe\">\n",
       "  <thead>\n",
       "    <tr style=\"text-align: right;\">\n",
       "      <th></th>\n",
       "      <th>Cantidad</th>\n",
       "      <th>Venta</th>\n",
       "      <th>descuento</th>\n",
       "      <th>impuesto</th>\n",
       "    </tr>\n",
       "  </thead>\n",
       "  <tbody>\n",
       "    <tr>\n",
       "      <th>count</th>\n",
       "      <td>601334.00</td>\n",
       "      <td>601334.00</td>\n",
       "      <td>601334.00</td>\n",
       "      <td>601334.00</td>\n",
       "    </tr>\n",
       "    <tr>\n",
       "      <th>mean</th>\n",
       "      <td>1.06</td>\n",
       "      <td>9386.74</td>\n",
       "      <td>26.31</td>\n",
       "      <td>752.04</td>\n",
       "    </tr>\n",
       "    <tr>\n",
       "      <th>std</th>\n",
       "      <td>0.85</td>\n",
       "      <td>12261.09</td>\n",
       "      <td>490.22</td>\n",
       "      <td>980.05</td>\n",
       "    </tr>\n",
       "    <tr>\n",
       "      <th>min</th>\n",
       "      <td>-22.00</td>\n",
       "      <td>-458333.00</td>\n",
       "      <td>0.00</td>\n",
       "      <td>0.00</td>\n",
       "    </tr>\n",
       "    <tr>\n",
       "      <th>25%</th>\n",
       "      <td>1.00</td>\n",
       "      <td>4537.00</td>\n",
       "      <td>0.00</td>\n",
       "      <td>363.00</td>\n",
       "    </tr>\n",
       "    <tr>\n",
       "      <th>50%</th>\n",
       "      <td>1.00</td>\n",
       "      <td>6018.00</td>\n",
       "      <td>0.00</td>\n",
       "      <td>482.00</td>\n",
       "    </tr>\n",
       "    <tr>\n",
       "      <th>75%</th>\n",
       "      <td>1.00</td>\n",
       "      <td>13889.00</td>\n",
       "      <td>0.00</td>\n",
       "      <td>1111.00</td>\n",
       "    </tr>\n",
       "    <tr>\n",
       "      <th>max</th>\n",
       "      <td>97.00</td>\n",
       "      <td>1777778.00</td>\n",
       "      <td>15232.00</td>\n",
       "      <td>142222.00</td>\n",
       "    </tr>\n",
       "  </tbody>\n",
       "</table>\n",
       "</div>"
      ],
      "text/plain": [
       "       Cantidad      Venta  descuento  impuesto\n",
       "count 601334.00  601334.00  601334.00 601334.00\n",
       "mean       1.06    9386.74      26.31    752.04\n",
       "std        0.85   12261.09     490.22    980.05\n",
       "min      -22.00 -458333.00       0.00      0.00\n",
       "25%        1.00    4537.00       0.00    363.00\n",
       "50%        1.00    6018.00       0.00    482.00\n",
       "75%        1.00   13889.00       0.00   1111.00\n",
       "max       97.00 1777778.00   15232.00 142222.00"
      ]
     },
     "execution_count": 867,
     "metadata": {},
     "output_type": "execute_result"
    }
   ],
   "source": [
    "data.describe()"
   ]
  },
  {
   "cell_type": "markdown",
   "metadata": {},
   "source": [
    "- Se observa que hay un total de 601.334 productos transados.\n",
    "- Se destaca la presencia de valores negativos en la variable _Cantidad_ y _Venta_. Estas transacciones podrian estar relacionadas a devoluciones de productos, por lo que no representan una venta como tal. En consecuencia, se hace necesario ajustar dichos valores.\n",
    "- La menor cantidad de productos adquiridos es de -22 (devoluciones), mientras que la mayor cantidad es de 97. En este punto se destaca un rango muy amplio de la variable. Se hará un analisis de posibles outliers más adelante. En promedio, se compra 1 unidad de cada producto por orden. \n",
    "- La menor cantidad ventas por producto es de -458333 (devoluciones), mientras que la mayor cantidad es de 1777778. En este punto se destaca un rango muy amplio de la variable. Se hará un analisis de posibles outliers más adelante. En promedio, se venden 9386.74 por cada producto dentro de una orden.\n",
    "- El 75% de los productos vendidos no tenian descuento aplicado. Lo que deja ver que los descuentos no son parte de la estrategia core de la compañía para generar ventas. De hecho, el mayor descuento aplicado es de 15232."
   ]
  },
  {
   "cell_type": "code",
   "execution_count": 868,
   "metadata": {},
   "outputs": [
    {
     "name": "stdout",
     "output_type": "stream",
     "text": [
      "Total de productos devueltos: 131347\n"
     ]
    }
   ],
   "source": [
    "# Eliminar registros con ventas negativas\n",
    "# Valores negativos\n",
    "print(f'Total de productos devueltos: {(data['Venta'] <= 0).sum()}')\n",
    "\n",
    "data = data[data['Venta'] >0]"
   ]
  },
  {
   "cell_type": "markdown",
   "metadata": {},
   "source": [
    "- En total, se observa que hay 131347 productos sin volumen de venta. Asociados posiblemente a cortesias, devoluciones y bonos. Teniendo en cuenta que el foco del analisis son las ventas ejecutadas, se procede a eliminar estos registros, lo cual representa eliminar cerca del 20% del total de los datos."
   ]
  },
  {
   "cell_type": "code",
   "execution_count": 869,
   "metadata": {},
   "outputs": [
    {
     "data": {
      "text/plain": [
       "(469987, 10)"
      ]
     },
     "execution_count": 869,
     "metadata": {},
     "output_type": "execute_result"
    }
   ],
   "source": [
    "data.shape"
   ]
  },
  {
   "cell_type": "markdown",
   "metadata": {},
   "source": [
    "- Tras realizar el ajuste, ahora se trabajará con 469987 transacciones de compra."
   ]
  },
  {
   "cell_type": "code",
   "execution_count": 870,
   "metadata": {},
   "outputs": [
    {
     "data": {
      "text/plain": [
       "Factura           0\n",
       "fecha_creacion    0\n",
       "codigo            0\n",
       "nombre item       0\n",
       "Cantidad          0\n",
       "Venta             0\n",
       "descuento         0\n",
       "impuesto          0\n",
       "tpv               0\n",
       "cliente           0\n",
       "dtype: int64"
      ]
     },
     "execution_count": 870,
     "metadata": {},
     "output_type": "execute_result"
    }
   ],
   "source": [
    "# Nan\n",
    "data.isna().sum()"
   ]
  },
  {
   "cell_type": "markdown",
   "metadata": {},
   "source": [
    "- Se observa que los datos no tienen valores nulos o faltantes."
   ]
  },
  {
   "cell_type": "code",
   "execution_count": 871,
   "metadata": {},
   "outputs": [
    {
     "data": {
      "text/plain": [
       "np.int64(352837)"
      ]
     },
     "execution_count": 871,
     "metadata": {},
     "output_type": "execute_result"
    }
   ],
   "source": [
    "# Valores duplicados\n",
    "data['Factura'].duplicated().sum()"
   ]
  },
  {
   "cell_type": "markdown",
   "metadata": {},
   "source": [
    "- Se observa que hay un total de 484137 registros duplicados. Sin embargo, no se realizará un tratamiento para eliminarlos, pues estos duplicados se deben a que hay un registro para cada producto comprado en la misma orden. Es decir, cada orden no esta agrupada con los productos, sino que estos ultimos estan registrados de forma individual."
   ]
  },
  {
   "cell_type": "code",
   "execution_count": 872,
   "metadata": {},
   "outputs": [
    {
     "data": {
      "text/html": [
       "<div>\n",
       "<style scoped>\n",
       "    .dataframe tbody tr th:only-of-type {\n",
       "        vertical-align: middle;\n",
       "    }\n",
       "\n",
       "    .dataframe tbody tr th {\n",
       "        vertical-align: top;\n",
       "    }\n",
       "\n",
       "    .dataframe thead th {\n",
       "        text-align: right;\n",
       "    }\n",
       "</style>\n",
       "<table border=\"1\" class=\"dataframe\">\n",
       "  <thead>\n",
       "    <tr style=\"text-align: right;\">\n",
       "      <th></th>\n",
       "      <th>Cantidad</th>\n",
       "      <th>Venta</th>\n",
       "      <th>descuento</th>\n",
       "      <th>impuesto</th>\n",
       "    </tr>\n",
       "  </thead>\n",
       "  <tbody>\n",
       "    <tr>\n",
       "      <th>count</th>\n",
       "      <td>469987.00</td>\n",
       "      <td>469987.00</td>\n",
       "      <td>469987.00</td>\n",
       "      <td>469987.00</td>\n",
       "    </tr>\n",
       "    <tr>\n",
       "      <th>mean</th>\n",
       "      <td>1.06</td>\n",
       "      <td>12018.79</td>\n",
       "      <td>33.65</td>\n",
       "      <td>961.51</td>\n",
       "    </tr>\n",
       "    <tr>\n",
       "      <th>std</th>\n",
       "      <td>0.84</td>\n",
       "      <td>12647.32</td>\n",
       "      <td>554.28</td>\n",
       "      <td>1011.79</td>\n",
       "    </tr>\n",
       "    <tr>\n",
       "      <th>min</th>\n",
       "      <td>1.00</td>\n",
       "      <td>925.00</td>\n",
       "      <td>0.00</td>\n",
       "      <td>74.00</td>\n",
       "    </tr>\n",
       "    <tr>\n",
       "      <th>25%</th>\n",
       "      <td>1.00</td>\n",
       "      <td>5463.00</td>\n",
       "      <td>0.00</td>\n",
       "      <td>437.00</td>\n",
       "    </tr>\n",
       "    <tr>\n",
       "      <th>50%</th>\n",
       "      <td>1.00</td>\n",
       "      <td>6482.00</td>\n",
       "      <td>0.00</td>\n",
       "      <td>518.00</td>\n",
       "    </tr>\n",
       "    <tr>\n",
       "      <th>75%</th>\n",
       "      <td>1.00</td>\n",
       "      <td>16574.00</td>\n",
       "      <td>0.00</td>\n",
       "      <td>1326.00</td>\n",
       "    </tr>\n",
       "    <tr>\n",
       "      <th>max</th>\n",
       "      <td>97.00</td>\n",
       "      <td>1777778.00</td>\n",
       "      <td>15232.00</td>\n",
       "      <td>142222.00</td>\n",
       "    </tr>\n",
       "  </tbody>\n",
       "</table>\n",
       "</div>"
      ],
      "text/plain": [
       "       Cantidad      Venta  descuento  impuesto\n",
       "count 469987.00  469987.00  469987.00 469987.00\n",
       "mean       1.06   12018.79      33.65    961.51\n",
       "std        0.84   12647.32     554.28   1011.79\n",
       "min        1.00     925.00       0.00     74.00\n",
       "25%        1.00    5463.00       0.00    437.00\n",
       "50%        1.00    6482.00       0.00    518.00\n",
       "75%        1.00   16574.00       0.00   1326.00\n",
       "max       97.00 1777778.00   15232.00 142222.00"
      ]
     },
     "execution_count": 872,
     "metadata": {},
     "output_type": "execute_result"
    }
   ],
   "source": [
    "data.describe()"
   ]
  },
  {
   "cell_type": "code",
   "execution_count": 873,
   "metadata": {},
   "outputs": [
    {
     "name": "stdout",
     "output_type": "stream",
     "text": [
      "Unidades vendidas: 499166\n",
      "Ventas totales: 5648675145.0\n",
      "Descuento total: 15814977.0\n",
      "Impuesto total: 451899290.0\n"
     ]
    }
   ],
   "source": [
    "print(f\"Unidades vendidas: {data['Cantidad'].sum()}\")\n",
    "print(f\"Ventas totales: {data['Venta'].sum()}\")\n",
    "print(f\"Descuento total: {data['descuento'].sum()}\")\n",
    "print(f\"Impuesto total: {data['impuesto'].sum()}\")"
   ]
  },
  {
   "cell_type": "code",
   "execution_count": 874,
   "metadata": {},
   "outputs": [],
   "source": [
    "data['descuento'] = np.where(data['descuento'] > 0, 1, 0)\n",
    "data['nombre item'] = data['nombre item'].str.split().str.join(' ')\n",
    "data = data.merge(classification, how = \"left\", left_on=\"nombre item\", right_on=\"Tipo\")\n",
    "data.drop(columns=['Tipo', 'impuesto', 'tpv', 'codigo'], inplace=True)\n"
   ]
  },
  {
   "cell_type": "code",
   "execution_count": 875,
   "metadata": {},
   "outputs": [],
   "source": [
    "# Dia de la semana\n",
    "data['dia_semana'] = pd.to_datetime(data['fecha_creacion']).dt.day_name()\n",
    "\n",
    "# Franja horaria\n",
    "data['fecha_creacion'] = pd.to_datetime(data['fecha_creacion'])\n",
    "data['franja_horaria'] = ['Mañana' if 5 <= x.hour < 12 else 'Tarde' if 12 <= x.hour < 18 else 'Noche' for x in data['fecha_creacion']]\n",
    "\n",
    "dias_ordenados = ['Monday', 'Tuesday', 'Wednesday', 'Thursday', 'Friday', 'Saturday', 'Sunday']\n",
    "data['dia_semana'] = pd.Categorical(data['dia_semana'], categories=dias_ordenados, ordered=True)\n",
    "\n",
    "franja_horaria_ordenada = ['Mañana', 'Tarde', 'Noche']\n",
    "data['franja_horaria'] = pd.Categorical(data['franja_horaria'], categories=franja_horaria_ordenada, ordered=True)"
   ]
  },
  {
   "cell_type": "code",
   "execution_count": 876,
   "metadata": {},
   "outputs": [
    {
     "data": {
      "application/vnd.plotly.v1+json": {
       "config": {
        "plotlyServerURL": "https://plot.ly"
       },
       "data": [
        {
         "hovertemplate": "Mes=%{x}<br>Total ventas=%{y}<extra></extra>",
         "legendgroup": "",
         "line": {
          "color": "#636efa",
          "dash": "solid"
         },
         "marker": {
          "symbol": "circle"
         },
         "mode": "lines+markers",
         "name": "",
         "orientation": "v",
         "showlegend": false,
         "type": "scatter",
         "x": [
          "2023-06",
          "2023-07",
          "2023-08",
          "2023-09",
          "2023-10",
          "2023-11",
          "2023-12",
          "2024-01",
          "2024-02",
          "2024-03",
          "2024-04",
          "2024-05",
          "2024-06"
         ],
         "xaxis": "x",
         "y": [
          195613839,
          463266601,
          477194424,
          491138001,
          460762406,
          478560175,
          519738640,
          456823174,
          485840094,
          452670957,
          479827437,
          465120005,
          222119392
         ],
         "yaxis": "y"
        }
       ],
       "layout": {
        "legend": {
         "tracegroupgap": 0
        },
        "template": {
         "data": {
          "bar": [
           {
            "error_x": {
             "color": "#2a3f5f"
            },
            "error_y": {
             "color": "#2a3f5f"
            },
            "marker": {
             "line": {
              "color": "#E5ECF6",
              "width": 0.5
             },
             "pattern": {
              "fillmode": "overlay",
              "size": 10,
              "solidity": 0.2
             }
            },
            "type": "bar"
           }
          ],
          "barpolar": [
           {
            "marker": {
             "line": {
              "color": "#E5ECF6",
              "width": 0.5
             },
             "pattern": {
              "fillmode": "overlay",
              "size": 10,
              "solidity": 0.2
             }
            },
            "type": "barpolar"
           }
          ],
          "carpet": [
           {
            "aaxis": {
             "endlinecolor": "#2a3f5f",
             "gridcolor": "white",
             "linecolor": "white",
             "minorgridcolor": "white",
             "startlinecolor": "#2a3f5f"
            },
            "baxis": {
             "endlinecolor": "#2a3f5f",
             "gridcolor": "white",
             "linecolor": "white",
             "minorgridcolor": "white",
             "startlinecolor": "#2a3f5f"
            },
            "type": "carpet"
           }
          ],
          "choropleth": [
           {
            "colorbar": {
             "outlinewidth": 0,
             "ticks": ""
            },
            "type": "choropleth"
           }
          ],
          "contour": [
           {
            "colorbar": {
             "outlinewidth": 0,
             "ticks": ""
            },
            "colorscale": [
             [
              0,
              "#0d0887"
             ],
             [
              0.1111111111111111,
              "#46039f"
             ],
             [
              0.2222222222222222,
              "#7201a8"
             ],
             [
              0.3333333333333333,
              "#9c179e"
             ],
             [
              0.4444444444444444,
              "#bd3786"
             ],
             [
              0.5555555555555556,
              "#d8576b"
             ],
             [
              0.6666666666666666,
              "#ed7953"
             ],
             [
              0.7777777777777778,
              "#fb9f3a"
             ],
             [
              0.8888888888888888,
              "#fdca26"
             ],
             [
              1,
              "#f0f921"
             ]
            ],
            "type": "contour"
           }
          ],
          "contourcarpet": [
           {
            "colorbar": {
             "outlinewidth": 0,
             "ticks": ""
            },
            "type": "contourcarpet"
           }
          ],
          "heatmap": [
           {
            "colorbar": {
             "outlinewidth": 0,
             "ticks": ""
            },
            "colorscale": [
             [
              0,
              "#0d0887"
             ],
             [
              0.1111111111111111,
              "#46039f"
             ],
             [
              0.2222222222222222,
              "#7201a8"
             ],
             [
              0.3333333333333333,
              "#9c179e"
             ],
             [
              0.4444444444444444,
              "#bd3786"
             ],
             [
              0.5555555555555556,
              "#d8576b"
             ],
             [
              0.6666666666666666,
              "#ed7953"
             ],
             [
              0.7777777777777778,
              "#fb9f3a"
             ],
             [
              0.8888888888888888,
              "#fdca26"
             ],
             [
              1,
              "#f0f921"
             ]
            ],
            "type": "heatmap"
           }
          ],
          "heatmapgl": [
           {
            "colorbar": {
             "outlinewidth": 0,
             "ticks": ""
            },
            "colorscale": [
             [
              0,
              "#0d0887"
             ],
             [
              0.1111111111111111,
              "#46039f"
             ],
             [
              0.2222222222222222,
              "#7201a8"
             ],
             [
              0.3333333333333333,
              "#9c179e"
             ],
             [
              0.4444444444444444,
              "#bd3786"
             ],
             [
              0.5555555555555556,
              "#d8576b"
             ],
             [
              0.6666666666666666,
              "#ed7953"
             ],
             [
              0.7777777777777778,
              "#fb9f3a"
             ],
             [
              0.8888888888888888,
              "#fdca26"
             ],
             [
              1,
              "#f0f921"
             ]
            ],
            "type": "heatmapgl"
           }
          ],
          "histogram": [
           {
            "marker": {
             "pattern": {
              "fillmode": "overlay",
              "size": 10,
              "solidity": 0.2
             }
            },
            "type": "histogram"
           }
          ],
          "histogram2d": [
           {
            "colorbar": {
             "outlinewidth": 0,
             "ticks": ""
            },
            "colorscale": [
             [
              0,
              "#0d0887"
             ],
             [
              0.1111111111111111,
              "#46039f"
             ],
             [
              0.2222222222222222,
              "#7201a8"
             ],
             [
              0.3333333333333333,
              "#9c179e"
             ],
             [
              0.4444444444444444,
              "#bd3786"
             ],
             [
              0.5555555555555556,
              "#d8576b"
             ],
             [
              0.6666666666666666,
              "#ed7953"
             ],
             [
              0.7777777777777778,
              "#fb9f3a"
             ],
             [
              0.8888888888888888,
              "#fdca26"
             ],
             [
              1,
              "#f0f921"
             ]
            ],
            "type": "histogram2d"
           }
          ],
          "histogram2dcontour": [
           {
            "colorbar": {
             "outlinewidth": 0,
             "ticks": ""
            },
            "colorscale": [
             [
              0,
              "#0d0887"
             ],
             [
              0.1111111111111111,
              "#46039f"
             ],
             [
              0.2222222222222222,
              "#7201a8"
             ],
             [
              0.3333333333333333,
              "#9c179e"
             ],
             [
              0.4444444444444444,
              "#bd3786"
             ],
             [
              0.5555555555555556,
              "#d8576b"
             ],
             [
              0.6666666666666666,
              "#ed7953"
             ],
             [
              0.7777777777777778,
              "#fb9f3a"
             ],
             [
              0.8888888888888888,
              "#fdca26"
             ],
             [
              1,
              "#f0f921"
             ]
            ],
            "type": "histogram2dcontour"
           }
          ],
          "mesh3d": [
           {
            "colorbar": {
             "outlinewidth": 0,
             "ticks": ""
            },
            "type": "mesh3d"
           }
          ],
          "parcoords": [
           {
            "line": {
             "colorbar": {
              "outlinewidth": 0,
              "ticks": ""
             }
            },
            "type": "parcoords"
           }
          ],
          "pie": [
           {
            "automargin": true,
            "type": "pie"
           }
          ],
          "scatter": [
           {
            "fillpattern": {
             "fillmode": "overlay",
             "size": 10,
             "solidity": 0.2
            },
            "type": "scatter"
           }
          ],
          "scatter3d": [
           {
            "line": {
             "colorbar": {
              "outlinewidth": 0,
              "ticks": ""
             }
            },
            "marker": {
             "colorbar": {
              "outlinewidth": 0,
              "ticks": ""
             }
            },
            "type": "scatter3d"
           }
          ],
          "scattercarpet": [
           {
            "marker": {
             "colorbar": {
              "outlinewidth": 0,
              "ticks": ""
             }
            },
            "type": "scattercarpet"
           }
          ],
          "scattergeo": [
           {
            "marker": {
             "colorbar": {
              "outlinewidth": 0,
              "ticks": ""
             }
            },
            "type": "scattergeo"
           }
          ],
          "scattergl": [
           {
            "marker": {
             "colorbar": {
              "outlinewidth": 0,
              "ticks": ""
             }
            },
            "type": "scattergl"
           }
          ],
          "scattermapbox": [
           {
            "marker": {
             "colorbar": {
              "outlinewidth": 0,
              "ticks": ""
             }
            },
            "type": "scattermapbox"
           }
          ],
          "scatterpolar": [
           {
            "marker": {
             "colorbar": {
              "outlinewidth": 0,
              "ticks": ""
             }
            },
            "type": "scatterpolar"
           }
          ],
          "scatterpolargl": [
           {
            "marker": {
             "colorbar": {
              "outlinewidth": 0,
              "ticks": ""
             }
            },
            "type": "scatterpolargl"
           }
          ],
          "scatterternary": [
           {
            "marker": {
             "colorbar": {
              "outlinewidth": 0,
              "ticks": ""
             }
            },
            "type": "scatterternary"
           }
          ],
          "surface": [
           {
            "colorbar": {
             "outlinewidth": 0,
             "ticks": ""
            },
            "colorscale": [
             [
              0,
              "#0d0887"
             ],
             [
              0.1111111111111111,
              "#46039f"
             ],
             [
              0.2222222222222222,
              "#7201a8"
             ],
             [
              0.3333333333333333,
              "#9c179e"
             ],
             [
              0.4444444444444444,
              "#bd3786"
             ],
             [
              0.5555555555555556,
              "#d8576b"
             ],
             [
              0.6666666666666666,
              "#ed7953"
             ],
             [
              0.7777777777777778,
              "#fb9f3a"
             ],
             [
              0.8888888888888888,
              "#fdca26"
             ],
             [
              1,
              "#f0f921"
             ]
            ],
            "type": "surface"
           }
          ],
          "table": [
           {
            "cells": {
             "fill": {
              "color": "#EBF0F8"
             },
             "line": {
              "color": "white"
             }
            },
            "header": {
             "fill": {
              "color": "#C8D4E3"
             },
             "line": {
              "color": "white"
             }
            },
            "type": "table"
           }
          ]
         },
         "layout": {
          "annotationdefaults": {
           "arrowcolor": "#2a3f5f",
           "arrowhead": 0,
           "arrowwidth": 1
          },
          "autotypenumbers": "strict",
          "coloraxis": {
           "colorbar": {
            "outlinewidth": 0,
            "ticks": ""
           }
          },
          "colorscale": {
           "diverging": [
            [
             0,
             "#8e0152"
            ],
            [
             0.1,
             "#c51b7d"
            ],
            [
             0.2,
             "#de77ae"
            ],
            [
             0.3,
             "#f1b6da"
            ],
            [
             0.4,
             "#fde0ef"
            ],
            [
             0.5,
             "#f7f7f7"
            ],
            [
             0.6,
             "#e6f5d0"
            ],
            [
             0.7,
             "#b8e186"
            ],
            [
             0.8,
             "#7fbc41"
            ],
            [
             0.9,
             "#4d9221"
            ],
            [
             1,
             "#276419"
            ]
           ],
           "sequential": [
            [
             0,
             "#0d0887"
            ],
            [
             0.1111111111111111,
             "#46039f"
            ],
            [
             0.2222222222222222,
             "#7201a8"
            ],
            [
             0.3333333333333333,
             "#9c179e"
            ],
            [
             0.4444444444444444,
             "#bd3786"
            ],
            [
             0.5555555555555556,
             "#d8576b"
            ],
            [
             0.6666666666666666,
             "#ed7953"
            ],
            [
             0.7777777777777778,
             "#fb9f3a"
            ],
            [
             0.8888888888888888,
             "#fdca26"
            ],
            [
             1,
             "#f0f921"
            ]
           ],
           "sequentialminus": [
            [
             0,
             "#0d0887"
            ],
            [
             0.1111111111111111,
             "#46039f"
            ],
            [
             0.2222222222222222,
             "#7201a8"
            ],
            [
             0.3333333333333333,
             "#9c179e"
            ],
            [
             0.4444444444444444,
             "#bd3786"
            ],
            [
             0.5555555555555556,
             "#d8576b"
            ],
            [
             0.6666666666666666,
             "#ed7953"
            ],
            [
             0.7777777777777778,
             "#fb9f3a"
            ],
            [
             0.8888888888888888,
             "#fdca26"
            ],
            [
             1,
             "#f0f921"
            ]
           ]
          },
          "colorway": [
           "#636efa",
           "#EF553B",
           "#00cc96",
           "#ab63fa",
           "#FFA15A",
           "#19d3f3",
           "#FF6692",
           "#B6E880",
           "#FF97FF",
           "#FECB52"
          ],
          "font": {
           "color": "#2a3f5f"
          },
          "geo": {
           "bgcolor": "white",
           "lakecolor": "white",
           "landcolor": "#E5ECF6",
           "showlakes": true,
           "showland": true,
           "subunitcolor": "white"
          },
          "hoverlabel": {
           "align": "left"
          },
          "hovermode": "closest",
          "mapbox": {
           "style": "light"
          },
          "paper_bgcolor": "white",
          "plot_bgcolor": "#E5ECF6",
          "polar": {
           "angularaxis": {
            "gridcolor": "white",
            "linecolor": "white",
            "ticks": ""
           },
           "bgcolor": "#E5ECF6",
           "radialaxis": {
            "gridcolor": "white",
            "linecolor": "white",
            "ticks": ""
           }
          },
          "scene": {
           "xaxis": {
            "backgroundcolor": "#E5ECF6",
            "gridcolor": "white",
            "gridwidth": 2,
            "linecolor": "white",
            "showbackground": true,
            "ticks": "",
            "zerolinecolor": "white"
           },
           "yaxis": {
            "backgroundcolor": "#E5ECF6",
            "gridcolor": "white",
            "gridwidth": 2,
            "linecolor": "white",
            "showbackground": true,
            "ticks": "",
            "zerolinecolor": "white"
           },
           "zaxis": {
            "backgroundcolor": "#E5ECF6",
            "gridcolor": "white",
            "gridwidth": 2,
            "linecolor": "white",
            "showbackground": true,
            "ticks": "",
            "zerolinecolor": "white"
           }
          },
          "shapedefaults": {
           "line": {
            "color": "#2a3f5f"
           }
          },
          "ternary": {
           "aaxis": {
            "gridcolor": "white",
            "linecolor": "white",
            "ticks": ""
           },
           "baxis": {
            "gridcolor": "white",
            "linecolor": "white",
            "ticks": ""
           },
           "bgcolor": "#E5ECF6",
           "caxis": {
            "gridcolor": "white",
            "linecolor": "white",
            "ticks": ""
           }
          },
          "title": {
           "x": 0.05
          },
          "xaxis": {
           "automargin": true,
           "gridcolor": "white",
           "linecolor": "white",
           "ticks": "",
           "title": {
            "standoff": 15
           },
           "zerolinecolor": "white",
           "zerolinewidth": 2
          },
          "yaxis": {
           "automargin": true,
           "gridcolor": "white",
           "linecolor": "white",
           "ticks": "",
           "title": {
            "standoff": 15
           },
           "zerolinecolor": "white",
           "zerolinewidth": 2
          }
         }
        },
        "title": {
         "text": "Evolutivo de ventas por mes"
        },
        "xaxis": {
         "anchor": "y",
         "domain": [
          0,
          1
         ],
         "title": {
          "text": "Mes"
         }
        },
        "yaxis": {
         "anchor": "x",
         "domain": [
          0,
          1
         ],
         "title": {
          "text": "Total ventas"
         }
        }
       }
      }
     },
     "metadata": {},
     "output_type": "display_data"
    }
   ],
   "source": [
    "# Crear una nueva columna que capture el mes y año\n",
    "data['Mes'] = data['fecha_creacion'].dt.to_period('M')\n",
    "evolutivo_ventas = data.groupby('Mes')['Venta'].sum().reset_index()\n",
    "evolutivo_ventas['Mes'] = evolutivo_ventas['Mes'].astype(str)\n",
    "\n",
    "fig = px.line(evolutivo_ventas, x='Mes', y='Venta', title='Evolutivo de ventas por mes', \n",
    "              labels={'Venta': 'Total ventas', 'Mes': 'Mes'}, markers=True)\n",
    "fig.show()"
   ]
  },
  {
   "cell_type": "code",
   "execution_count": 877,
   "metadata": {},
   "outputs": [
    {
     "data": {
      "application/vnd.plotly.v1+json": {
       "config": {
        "plotlyServerURL": "https://plot.ly"
       },
       "data": [
        {
         "hovertemplate": "Hora=%{x}<br>Total ventas=%{y}<extra></extra>",
         "legendgroup": "",
         "line": {
          "color": "#636efa",
          "dash": "solid"
         },
         "marker": {
          "symbol": "circle"
         },
         "mode": "lines+markers",
         "name": "",
         "orientation": "v",
         "showlegend": false,
         "type": "scatter",
         "x": [
          7,
          8,
          9,
          10,
          11,
          12,
          13,
          14,
          15,
          16,
          17,
          18,
          19,
          20,
          21,
          22
         ],
         "xaxis": "x",
         "y": [
          513703,
          9429597,
          16187738,
          45186640,
          226886525,
          1246513183,
          1228282104,
          575107227,
          350250787,
          250654421,
          234915487,
          347933804,
          439402806,
          371129631,
          304403621,
          1877871
         ],
         "yaxis": "y"
        }
       ],
       "layout": {
        "legend": {
         "tracegroupgap": 0
        },
        "template": {
         "data": {
          "bar": [
           {
            "error_x": {
             "color": "#2a3f5f"
            },
            "error_y": {
             "color": "#2a3f5f"
            },
            "marker": {
             "line": {
              "color": "#E5ECF6",
              "width": 0.5
             },
             "pattern": {
              "fillmode": "overlay",
              "size": 10,
              "solidity": 0.2
             }
            },
            "type": "bar"
           }
          ],
          "barpolar": [
           {
            "marker": {
             "line": {
              "color": "#E5ECF6",
              "width": 0.5
             },
             "pattern": {
              "fillmode": "overlay",
              "size": 10,
              "solidity": 0.2
             }
            },
            "type": "barpolar"
           }
          ],
          "carpet": [
           {
            "aaxis": {
             "endlinecolor": "#2a3f5f",
             "gridcolor": "white",
             "linecolor": "white",
             "minorgridcolor": "white",
             "startlinecolor": "#2a3f5f"
            },
            "baxis": {
             "endlinecolor": "#2a3f5f",
             "gridcolor": "white",
             "linecolor": "white",
             "minorgridcolor": "white",
             "startlinecolor": "#2a3f5f"
            },
            "type": "carpet"
           }
          ],
          "choropleth": [
           {
            "colorbar": {
             "outlinewidth": 0,
             "ticks": ""
            },
            "type": "choropleth"
           }
          ],
          "contour": [
           {
            "colorbar": {
             "outlinewidth": 0,
             "ticks": ""
            },
            "colorscale": [
             [
              0,
              "#0d0887"
             ],
             [
              0.1111111111111111,
              "#46039f"
             ],
             [
              0.2222222222222222,
              "#7201a8"
             ],
             [
              0.3333333333333333,
              "#9c179e"
             ],
             [
              0.4444444444444444,
              "#bd3786"
             ],
             [
              0.5555555555555556,
              "#d8576b"
             ],
             [
              0.6666666666666666,
              "#ed7953"
             ],
             [
              0.7777777777777778,
              "#fb9f3a"
             ],
             [
              0.8888888888888888,
              "#fdca26"
             ],
             [
              1,
              "#f0f921"
             ]
            ],
            "type": "contour"
           }
          ],
          "contourcarpet": [
           {
            "colorbar": {
             "outlinewidth": 0,
             "ticks": ""
            },
            "type": "contourcarpet"
           }
          ],
          "heatmap": [
           {
            "colorbar": {
             "outlinewidth": 0,
             "ticks": ""
            },
            "colorscale": [
             [
              0,
              "#0d0887"
             ],
             [
              0.1111111111111111,
              "#46039f"
             ],
             [
              0.2222222222222222,
              "#7201a8"
             ],
             [
              0.3333333333333333,
              "#9c179e"
             ],
             [
              0.4444444444444444,
              "#bd3786"
             ],
             [
              0.5555555555555556,
              "#d8576b"
             ],
             [
              0.6666666666666666,
              "#ed7953"
             ],
             [
              0.7777777777777778,
              "#fb9f3a"
             ],
             [
              0.8888888888888888,
              "#fdca26"
             ],
             [
              1,
              "#f0f921"
             ]
            ],
            "type": "heatmap"
           }
          ],
          "heatmapgl": [
           {
            "colorbar": {
             "outlinewidth": 0,
             "ticks": ""
            },
            "colorscale": [
             [
              0,
              "#0d0887"
             ],
             [
              0.1111111111111111,
              "#46039f"
             ],
             [
              0.2222222222222222,
              "#7201a8"
             ],
             [
              0.3333333333333333,
              "#9c179e"
             ],
             [
              0.4444444444444444,
              "#bd3786"
             ],
             [
              0.5555555555555556,
              "#d8576b"
             ],
             [
              0.6666666666666666,
              "#ed7953"
             ],
             [
              0.7777777777777778,
              "#fb9f3a"
             ],
             [
              0.8888888888888888,
              "#fdca26"
             ],
             [
              1,
              "#f0f921"
             ]
            ],
            "type": "heatmapgl"
           }
          ],
          "histogram": [
           {
            "marker": {
             "pattern": {
              "fillmode": "overlay",
              "size": 10,
              "solidity": 0.2
             }
            },
            "type": "histogram"
           }
          ],
          "histogram2d": [
           {
            "colorbar": {
             "outlinewidth": 0,
             "ticks": ""
            },
            "colorscale": [
             [
              0,
              "#0d0887"
             ],
             [
              0.1111111111111111,
              "#46039f"
             ],
             [
              0.2222222222222222,
              "#7201a8"
             ],
             [
              0.3333333333333333,
              "#9c179e"
             ],
             [
              0.4444444444444444,
              "#bd3786"
             ],
             [
              0.5555555555555556,
              "#d8576b"
             ],
             [
              0.6666666666666666,
              "#ed7953"
             ],
             [
              0.7777777777777778,
              "#fb9f3a"
             ],
             [
              0.8888888888888888,
              "#fdca26"
             ],
             [
              1,
              "#f0f921"
             ]
            ],
            "type": "histogram2d"
           }
          ],
          "histogram2dcontour": [
           {
            "colorbar": {
             "outlinewidth": 0,
             "ticks": ""
            },
            "colorscale": [
             [
              0,
              "#0d0887"
             ],
             [
              0.1111111111111111,
              "#46039f"
             ],
             [
              0.2222222222222222,
              "#7201a8"
             ],
             [
              0.3333333333333333,
              "#9c179e"
             ],
             [
              0.4444444444444444,
              "#bd3786"
             ],
             [
              0.5555555555555556,
              "#d8576b"
             ],
             [
              0.6666666666666666,
              "#ed7953"
             ],
             [
              0.7777777777777778,
              "#fb9f3a"
             ],
             [
              0.8888888888888888,
              "#fdca26"
             ],
             [
              1,
              "#f0f921"
             ]
            ],
            "type": "histogram2dcontour"
           }
          ],
          "mesh3d": [
           {
            "colorbar": {
             "outlinewidth": 0,
             "ticks": ""
            },
            "type": "mesh3d"
           }
          ],
          "parcoords": [
           {
            "line": {
             "colorbar": {
              "outlinewidth": 0,
              "ticks": ""
             }
            },
            "type": "parcoords"
           }
          ],
          "pie": [
           {
            "automargin": true,
            "type": "pie"
           }
          ],
          "scatter": [
           {
            "fillpattern": {
             "fillmode": "overlay",
             "size": 10,
             "solidity": 0.2
            },
            "type": "scatter"
           }
          ],
          "scatter3d": [
           {
            "line": {
             "colorbar": {
              "outlinewidth": 0,
              "ticks": ""
             }
            },
            "marker": {
             "colorbar": {
              "outlinewidth": 0,
              "ticks": ""
             }
            },
            "type": "scatter3d"
           }
          ],
          "scattercarpet": [
           {
            "marker": {
             "colorbar": {
              "outlinewidth": 0,
              "ticks": ""
             }
            },
            "type": "scattercarpet"
           }
          ],
          "scattergeo": [
           {
            "marker": {
             "colorbar": {
              "outlinewidth": 0,
              "ticks": ""
             }
            },
            "type": "scattergeo"
           }
          ],
          "scattergl": [
           {
            "marker": {
             "colorbar": {
              "outlinewidth": 0,
              "ticks": ""
             }
            },
            "type": "scattergl"
           }
          ],
          "scattermapbox": [
           {
            "marker": {
             "colorbar": {
              "outlinewidth": 0,
              "ticks": ""
             }
            },
            "type": "scattermapbox"
           }
          ],
          "scatterpolar": [
           {
            "marker": {
             "colorbar": {
              "outlinewidth": 0,
              "ticks": ""
             }
            },
            "type": "scatterpolar"
           }
          ],
          "scatterpolargl": [
           {
            "marker": {
             "colorbar": {
              "outlinewidth": 0,
              "ticks": ""
             }
            },
            "type": "scatterpolargl"
           }
          ],
          "scatterternary": [
           {
            "marker": {
             "colorbar": {
              "outlinewidth": 0,
              "ticks": ""
             }
            },
            "type": "scatterternary"
           }
          ],
          "surface": [
           {
            "colorbar": {
             "outlinewidth": 0,
             "ticks": ""
            },
            "colorscale": [
             [
              0,
              "#0d0887"
             ],
             [
              0.1111111111111111,
              "#46039f"
             ],
             [
              0.2222222222222222,
              "#7201a8"
             ],
             [
              0.3333333333333333,
              "#9c179e"
             ],
             [
              0.4444444444444444,
              "#bd3786"
             ],
             [
              0.5555555555555556,
              "#d8576b"
             ],
             [
              0.6666666666666666,
              "#ed7953"
             ],
             [
              0.7777777777777778,
              "#fb9f3a"
             ],
             [
              0.8888888888888888,
              "#fdca26"
             ],
             [
              1,
              "#f0f921"
             ]
            ],
            "type": "surface"
           }
          ],
          "table": [
           {
            "cells": {
             "fill": {
              "color": "#EBF0F8"
             },
             "line": {
              "color": "white"
             }
            },
            "header": {
             "fill": {
              "color": "#C8D4E3"
             },
             "line": {
              "color": "white"
             }
            },
            "type": "table"
           }
          ]
         },
         "layout": {
          "annotationdefaults": {
           "arrowcolor": "#2a3f5f",
           "arrowhead": 0,
           "arrowwidth": 1
          },
          "autotypenumbers": "strict",
          "coloraxis": {
           "colorbar": {
            "outlinewidth": 0,
            "ticks": ""
           }
          },
          "colorscale": {
           "diverging": [
            [
             0,
             "#8e0152"
            ],
            [
             0.1,
             "#c51b7d"
            ],
            [
             0.2,
             "#de77ae"
            ],
            [
             0.3,
             "#f1b6da"
            ],
            [
             0.4,
             "#fde0ef"
            ],
            [
             0.5,
             "#f7f7f7"
            ],
            [
             0.6,
             "#e6f5d0"
            ],
            [
             0.7,
             "#b8e186"
            ],
            [
             0.8,
             "#7fbc41"
            ],
            [
             0.9,
             "#4d9221"
            ],
            [
             1,
             "#276419"
            ]
           ],
           "sequential": [
            [
             0,
             "#0d0887"
            ],
            [
             0.1111111111111111,
             "#46039f"
            ],
            [
             0.2222222222222222,
             "#7201a8"
            ],
            [
             0.3333333333333333,
             "#9c179e"
            ],
            [
             0.4444444444444444,
             "#bd3786"
            ],
            [
             0.5555555555555556,
             "#d8576b"
            ],
            [
             0.6666666666666666,
             "#ed7953"
            ],
            [
             0.7777777777777778,
             "#fb9f3a"
            ],
            [
             0.8888888888888888,
             "#fdca26"
            ],
            [
             1,
             "#f0f921"
            ]
           ],
           "sequentialminus": [
            [
             0,
             "#0d0887"
            ],
            [
             0.1111111111111111,
             "#46039f"
            ],
            [
             0.2222222222222222,
             "#7201a8"
            ],
            [
             0.3333333333333333,
             "#9c179e"
            ],
            [
             0.4444444444444444,
             "#bd3786"
            ],
            [
             0.5555555555555556,
             "#d8576b"
            ],
            [
             0.6666666666666666,
             "#ed7953"
            ],
            [
             0.7777777777777778,
             "#fb9f3a"
            ],
            [
             0.8888888888888888,
             "#fdca26"
            ],
            [
             1,
             "#f0f921"
            ]
           ]
          },
          "colorway": [
           "#636efa",
           "#EF553B",
           "#00cc96",
           "#ab63fa",
           "#FFA15A",
           "#19d3f3",
           "#FF6692",
           "#B6E880",
           "#FF97FF",
           "#FECB52"
          ],
          "font": {
           "color": "#2a3f5f"
          },
          "geo": {
           "bgcolor": "white",
           "lakecolor": "white",
           "landcolor": "#E5ECF6",
           "showlakes": true,
           "showland": true,
           "subunitcolor": "white"
          },
          "hoverlabel": {
           "align": "left"
          },
          "hovermode": "closest",
          "mapbox": {
           "style": "light"
          },
          "paper_bgcolor": "white",
          "plot_bgcolor": "#E5ECF6",
          "polar": {
           "angularaxis": {
            "gridcolor": "white",
            "linecolor": "white",
            "ticks": ""
           },
           "bgcolor": "#E5ECF6",
           "radialaxis": {
            "gridcolor": "white",
            "linecolor": "white",
            "ticks": ""
           }
          },
          "scene": {
           "xaxis": {
            "backgroundcolor": "#E5ECF6",
            "gridcolor": "white",
            "gridwidth": 2,
            "linecolor": "white",
            "showbackground": true,
            "ticks": "",
            "zerolinecolor": "white"
           },
           "yaxis": {
            "backgroundcolor": "#E5ECF6",
            "gridcolor": "white",
            "gridwidth": 2,
            "linecolor": "white",
            "showbackground": true,
            "ticks": "",
            "zerolinecolor": "white"
           },
           "zaxis": {
            "backgroundcolor": "#E5ECF6",
            "gridcolor": "white",
            "gridwidth": 2,
            "linecolor": "white",
            "showbackground": true,
            "ticks": "",
            "zerolinecolor": "white"
           }
          },
          "shapedefaults": {
           "line": {
            "color": "#2a3f5f"
           }
          },
          "ternary": {
           "aaxis": {
            "gridcolor": "white",
            "linecolor": "white",
            "ticks": ""
           },
           "baxis": {
            "gridcolor": "white",
            "linecolor": "white",
            "ticks": ""
           },
           "bgcolor": "#E5ECF6",
           "caxis": {
            "gridcolor": "white",
            "linecolor": "white",
            "ticks": ""
           }
          },
          "title": {
           "x": 0.05
          },
          "xaxis": {
           "automargin": true,
           "gridcolor": "white",
           "linecolor": "white",
           "ticks": "",
           "title": {
            "standoff": 15
           },
           "zerolinecolor": "white",
           "zerolinewidth": 2
          },
          "yaxis": {
           "automargin": true,
           "gridcolor": "white",
           "linecolor": "white",
           "ticks": "",
           "title": {
            "standoff": 15
           },
           "zerolinecolor": "white",
           "zerolinewidth": 2
          }
         }
        },
        "title": {
         "text": "Evolutivo de ventas por hora"
        },
        "xaxis": {
         "anchor": "y",
         "domain": [
          0,
          1
         ],
         "title": {
          "text": "Hora"
         }
        },
        "yaxis": {
         "anchor": "x",
         "domain": [
          0,
          1
         ],
         "title": {
          "text": "Total ventas"
         }
        }
       }
      }
     },
     "metadata": {},
     "output_type": "display_data"
    }
   ],
   "source": [
    "data['Hora'] = data['fecha_creacion'].dt.hour\n",
    "evolutivo_ventas_hora = data.groupby('Hora')['Venta'].sum().reset_index()\n",
    "\n",
    "fig = px.line(evolutivo_ventas_hora, x='Hora', y='Venta', title='Evolutivo de ventas por hora', \n",
    "              labels={'Venta': 'Total ventas', 'Hora': 'Hora'}, markers=True)\n",
    "fig.show()"
   ]
  },
  {
   "cell_type": "code",
   "execution_count": 878,
   "metadata": {},
   "outputs": [
    {
     "data": {
      "application/vnd.plotly.v1+json": {
       "config": {
        "plotlyServerURL": "https://plot.ly"
       },
       "data": [
        {
         "hovertemplate": "Día de la Semana=Friday<br>Hora=%{x}<br>Total ventas=%{y}<extra></extra>",
         "legendgroup": "Friday",
         "line": {
          "color": "#636efa",
          "dash": "solid"
         },
         "marker": {
          "symbol": "circle"
         },
         "mode": "lines+markers",
         "name": "Friday",
         "orientation": "v",
         "showlegend": true,
         "type": "scatter",
         "x": [
          7,
          8,
          9,
          10,
          11,
          12,
          13,
          14,
          15,
          16,
          17,
          18,
          19,
          20,
          21,
          22
         ],
         "xaxis": "x",
         "y": [
          68796,
          2044492,
          5909182,
          12009091,
          49190592,
          276103534,
          273384239,
          107112347,
          56096764,
          39350701,
          38818123,
          60500935,
          84839722,
          71965546,
          57179492,
          418286
         ],
         "yaxis": "y"
        },
        {
         "hovertemplate": "Día de la Semana=Monday<br>Hora=%{x}<br>Total ventas=%{y}<extra></extra>",
         "legendgroup": "Monday",
         "line": {
          "color": "#EF553B",
          "dash": "solid"
         },
         "marker": {
          "symbol": "circle"
         },
         "mode": "lines+markers",
         "name": "Monday",
         "orientation": "v",
         "showlegend": true,
         "type": "scatter",
         "x": [
          7,
          8,
          9,
          10,
          11,
          12,
          13,
          14,
          15,
          16,
          17,
          18,
          19,
          20,
          21,
          22
         ],
         "xaxis": "x",
         "y": [
          77314,
          626667,
          1425666,
          9797180,
          27193293,
          163357241,
          150942360,
          67361719,
          44554584,
          33726089,
          29286400,
          43978554,
          49669557,
          44333394,
          34218989,
          381207
         ],
         "yaxis": "y"
        },
        {
         "hovertemplate": "Día de la Semana=Thursday<br>Hora=%{x}<br>Total ventas=%{y}<extra></extra>",
         "legendgroup": "Thursday",
         "line": {
          "color": "#00cc96",
          "dash": "solid"
         },
         "marker": {
          "symbol": "circle"
         },
         "mode": "lines+markers",
         "name": "Thursday",
         "orientation": "v",
         "showlegend": true,
         "type": "scatter",
         "x": [
          7,
          8,
          9,
          10,
          11,
          12,
          13,
          14,
          15,
          16,
          17,
          18,
          19,
          20,
          21,
          22
         ],
         "xaxis": "x",
         "y": [
          90278,
          4464082,
          4336397,
          10687976,
          39131962,
          238782012,
          212820370,
          73521989,
          42470544,
          29964713,
          33173371,
          54084658,
          64535658,
          52214912,
          44320428,
          404723
         ],
         "yaxis": "y"
        },
        {
         "hovertemplate": "Día de la Semana=Tuesday<br>Hora=%{x}<br>Total ventas=%{y}<extra></extra>",
         "legendgroup": "Tuesday",
         "line": {
          "color": "#ab63fa",
          "dash": "solid"
         },
         "marker": {
          "symbol": "circle"
         },
         "mode": "lines+markers",
         "name": "Tuesday",
         "orientation": "v",
         "showlegend": true,
         "type": "scatter",
         "x": [
          7,
          8,
          9,
          10,
          11,
          12,
          13,
          14,
          15,
          16,
          17,
          18,
          19,
          20,
          21,
          22
         ],
         "xaxis": "x",
         "y": [
          76482,
          1250186,
          2175839,
          5873486,
          47804052,
          219802069,
          195870540,
          67140345,
          37101502,
          27023813,
          25818127,
          48264176,
          63625954,
          45074791,
          38648075,
          351294
         ],
         "yaxis": "y"
        },
        {
         "hovertemplate": "Día de la Semana=Wednesday<br>Hora=%{x}<br>Total ventas=%{y}<extra></extra>",
         "legendgroup": "Wednesday",
         "line": {
          "color": "#FFA15A",
          "dash": "solid"
         },
         "marker": {
          "symbol": "circle"
         },
         "mode": "lines+markers",
         "name": "Wednesday",
         "orientation": "v",
         "showlegend": true,
         "type": "scatter",
         "x": [
          7,
          8,
          9,
          10,
          11,
          12,
          13,
          14,
          15,
          16,
          17,
          18,
          19,
          20,
          21,
          22
         ],
         "xaxis": "x",
         "y": [
          200833,
          1044170,
          2340654,
          5828070,
          37096129,
          229343008,
          202195200,
          71020643,
          42419908,
          33979310,
          30507018,
          58483782,
          66720427,
          53764726,
          40570939,
          171573
         ],
         "yaxis": "y"
        },
        {
         "hovertemplate": "Día de la Semana=Saturday<br>Hora=%{x}<br>Total ventas=%{y}<extra></extra>",
         "legendgroup": "Saturday",
         "line": {
          "color": "#19d3f3",
          "dash": "solid"
         },
         "marker": {
          "symbol": "circle"
         },
         "mode": "lines+markers",
         "name": "Saturday",
         "orientation": "v",
         "showlegend": true,
         "type": "scatter",
         "x": [
          10,
          11,
          12,
          13,
          14,
          15,
          16,
          17,
          18,
          19,
          20,
          21,
          22
         ],
         "xaxis": "x",
         "y": [
          773428,
          15547855,
          66818169,
          103716770,
          87137678,
          59770565,
          40609312,
          36703002,
          41473397,
          59180521,
          56337036,
          54281800,
          135973
         ],
         "yaxis": "y"
        },
        {
         "hovertemplate": "Día de la Semana=Sunday<br>Hora=%{x}<br>Total ventas=%{y}<extra></extra>",
         "legendgroup": "Sunday",
         "line": {
          "color": "#FF6692",
          "dash": "solid"
         },
         "marker": {
          "symbol": "circle"
         },
         "mode": "lines+markers",
         "name": "Sunday",
         "orientation": "v",
         "showlegend": true,
         "type": "scatter",
         "x": [
          10,
          11,
          12,
          13,
          14,
          15,
          16,
          17,
          18,
          19,
          20,
          21,
          22
         ],
         "xaxis": "x",
         "y": [
          217409,
          10922642,
          52307150,
          89352625,
          101812506,
          67836920,
          46000483,
          40609446,
          41148302,
          50830967,
          47439226,
          35183898,
          14815
         ],
         "yaxis": "y"
        }
       ],
       "layout": {
        "legend": {
         "title": {
          "text": "Día de la Semana"
         },
         "tracegroupgap": 0
        },
        "template": {
         "data": {
          "bar": [
           {
            "error_x": {
             "color": "#2a3f5f"
            },
            "error_y": {
             "color": "#2a3f5f"
            },
            "marker": {
             "line": {
              "color": "#E5ECF6",
              "width": 0.5
             },
             "pattern": {
              "fillmode": "overlay",
              "size": 10,
              "solidity": 0.2
             }
            },
            "type": "bar"
           }
          ],
          "barpolar": [
           {
            "marker": {
             "line": {
              "color": "#E5ECF6",
              "width": 0.5
             },
             "pattern": {
              "fillmode": "overlay",
              "size": 10,
              "solidity": 0.2
             }
            },
            "type": "barpolar"
           }
          ],
          "carpet": [
           {
            "aaxis": {
             "endlinecolor": "#2a3f5f",
             "gridcolor": "white",
             "linecolor": "white",
             "minorgridcolor": "white",
             "startlinecolor": "#2a3f5f"
            },
            "baxis": {
             "endlinecolor": "#2a3f5f",
             "gridcolor": "white",
             "linecolor": "white",
             "minorgridcolor": "white",
             "startlinecolor": "#2a3f5f"
            },
            "type": "carpet"
           }
          ],
          "choropleth": [
           {
            "colorbar": {
             "outlinewidth": 0,
             "ticks": ""
            },
            "type": "choropleth"
           }
          ],
          "contour": [
           {
            "colorbar": {
             "outlinewidth": 0,
             "ticks": ""
            },
            "colorscale": [
             [
              0,
              "#0d0887"
             ],
             [
              0.1111111111111111,
              "#46039f"
             ],
             [
              0.2222222222222222,
              "#7201a8"
             ],
             [
              0.3333333333333333,
              "#9c179e"
             ],
             [
              0.4444444444444444,
              "#bd3786"
             ],
             [
              0.5555555555555556,
              "#d8576b"
             ],
             [
              0.6666666666666666,
              "#ed7953"
             ],
             [
              0.7777777777777778,
              "#fb9f3a"
             ],
             [
              0.8888888888888888,
              "#fdca26"
             ],
             [
              1,
              "#f0f921"
             ]
            ],
            "type": "contour"
           }
          ],
          "contourcarpet": [
           {
            "colorbar": {
             "outlinewidth": 0,
             "ticks": ""
            },
            "type": "contourcarpet"
           }
          ],
          "heatmap": [
           {
            "colorbar": {
             "outlinewidth": 0,
             "ticks": ""
            },
            "colorscale": [
             [
              0,
              "#0d0887"
             ],
             [
              0.1111111111111111,
              "#46039f"
             ],
             [
              0.2222222222222222,
              "#7201a8"
             ],
             [
              0.3333333333333333,
              "#9c179e"
             ],
             [
              0.4444444444444444,
              "#bd3786"
             ],
             [
              0.5555555555555556,
              "#d8576b"
             ],
             [
              0.6666666666666666,
              "#ed7953"
             ],
             [
              0.7777777777777778,
              "#fb9f3a"
             ],
             [
              0.8888888888888888,
              "#fdca26"
             ],
             [
              1,
              "#f0f921"
             ]
            ],
            "type": "heatmap"
           }
          ],
          "heatmapgl": [
           {
            "colorbar": {
             "outlinewidth": 0,
             "ticks": ""
            },
            "colorscale": [
             [
              0,
              "#0d0887"
             ],
             [
              0.1111111111111111,
              "#46039f"
             ],
             [
              0.2222222222222222,
              "#7201a8"
             ],
             [
              0.3333333333333333,
              "#9c179e"
             ],
             [
              0.4444444444444444,
              "#bd3786"
             ],
             [
              0.5555555555555556,
              "#d8576b"
             ],
             [
              0.6666666666666666,
              "#ed7953"
             ],
             [
              0.7777777777777778,
              "#fb9f3a"
             ],
             [
              0.8888888888888888,
              "#fdca26"
             ],
             [
              1,
              "#f0f921"
             ]
            ],
            "type": "heatmapgl"
           }
          ],
          "histogram": [
           {
            "marker": {
             "pattern": {
              "fillmode": "overlay",
              "size": 10,
              "solidity": 0.2
             }
            },
            "type": "histogram"
           }
          ],
          "histogram2d": [
           {
            "colorbar": {
             "outlinewidth": 0,
             "ticks": ""
            },
            "colorscale": [
             [
              0,
              "#0d0887"
             ],
             [
              0.1111111111111111,
              "#46039f"
             ],
             [
              0.2222222222222222,
              "#7201a8"
             ],
             [
              0.3333333333333333,
              "#9c179e"
             ],
             [
              0.4444444444444444,
              "#bd3786"
             ],
             [
              0.5555555555555556,
              "#d8576b"
             ],
             [
              0.6666666666666666,
              "#ed7953"
             ],
             [
              0.7777777777777778,
              "#fb9f3a"
             ],
             [
              0.8888888888888888,
              "#fdca26"
             ],
             [
              1,
              "#f0f921"
             ]
            ],
            "type": "histogram2d"
           }
          ],
          "histogram2dcontour": [
           {
            "colorbar": {
             "outlinewidth": 0,
             "ticks": ""
            },
            "colorscale": [
             [
              0,
              "#0d0887"
             ],
             [
              0.1111111111111111,
              "#46039f"
             ],
             [
              0.2222222222222222,
              "#7201a8"
             ],
             [
              0.3333333333333333,
              "#9c179e"
             ],
             [
              0.4444444444444444,
              "#bd3786"
             ],
             [
              0.5555555555555556,
              "#d8576b"
             ],
             [
              0.6666666666666666,
              "#ed7953"
             ],
             [
              0.7777777777777778,
              "#fb9f3a"
             ],
             [
              0.8888888888888888,
              "#fdca26"
             ],
             [
              1,
              "#f0f921"
             ]
            ],
            "type": "histogram2dcontour"
           }
          ],
          "mesh3d": [
           {
            "colorbar": {
             "outlinewidth": 0,
             "ticks": ""
            },
            "type": "mesh3d"
           }
          ],
          "parcoords": [
           {
            "line": {
             "colorbar": {
              "outlinewidth": 0,
              "ticks": ""
             }
            },
            "type": "parcoords"
           }
          ],
          "pie": [
           {
            "automargin": true,
            "type": "pie"
           }
          ],
          "scatter": [
           {
            "fillpattern": {
             "fillmode": "overlay",
             "size": 10,
             "solidity": 0.2
            },
            "type": "scatter"
           }
          ],
          "scatter3d": [
           {
            "line": {
             "colorbar": {
              "outlinewidth": 0,
              "ticks": ""
             }
            },
            "marker": {
             "colorbar": {
              "outlinewidth": 0,
              "ticks": ""
             }
            },
            "type": "scatter3d"
           }
          ],
          "scattercarpet": [
           {
            "marker": {
             "colorbar": {
              "outlinewidth": 0,
              "ticks": ""
             }
            },
            "type": "scattercarpet"
           }
          ],
          "scattergeo": [
           {
            "marker": {
             "colorbar": {
              "outlinewidth": 0,
              "ticks": ""
             }
            },
            "type": "scattergeo"
           }
          ],
          "scattergl": [
           {
            "marker": {
             "colorbar": {
              "outlinewidth": 0,
              "ticks": ""
             }
            },
            "type": "scattergl"
           }
          ],
          "scattermapbox": [
           {
            "marker": {
             "colorbar": {
              "outlinewidth": 0,
              "ticks": ""
             }
            },
            "type": "scattermapbox"
           }
          ],
          "scatterpolar": [
           {
            "marker": {
             "colorbar": {
              "outlinewidth": 0,
              "ticks": ""
             }
            },
            "type": "scatterpolar"
           }
          ],
          "scatterpolargl": [
           {
            "marker": {
             "colorbar": {
              "outlinewidth": 0,
              "ticks": ""
             }
            },
            "type": "scatterpolargl"
           }
          ],
          "scatterternary": [
           {
            "marker": {
             "colorbar": {
              "outlinewidth": 0,
              "ticks": ""
             }
            },
            "type": "scatterternary"
           }
          ],
          "surface": [
           {
            "colorbar": {
             "outlinewidth": 0,
             "ticks": ""
            },
            "colorscale": [
             [
              0,
              "#0d0887"
             ],
             [
              0.1111111111111111,
              "#46039f"
             ],
             [
              0.2222222222222222,
              "#7201a8"
             ],
             [
              0.3333333333333333,
              "#9c179e"
             ],
             [
              0.4444444444444444,
              "#bd3786"
             ],
             [
              0.5555555555555556,
              "#d8576b"
             ],
             [
              0.6666666666666666,
              "#ed7953"
             ],
             [
              0.7777777777777778,
              "#fb9f3a"
             ],
             [
              0.8888888888888888,
              "#fdca26"
             ],
             [
              1,
              "#f0f921"
             ]
            ],
            "type": "surface"
           }
          ],
          "table": [
           {
            "cells": {
             "fill": {
              "color": "#EBF0F8"
             },
             "line": {
              "color": "white"
             }
            },
            "header": {
             "fill": {
              "color": "#C8D4E3"
             },
             "line": {
              "color": "white"
             }
            },
            "type": "table"
           }
          ]
         },
         "layout": {
          "annotationdefaults": {
           "arrowcolor": "#2a3f5f",
           "arrowhead": 0,
           "arrowwidth": 1
          },
          "autotypenumbers": "strict",
          "coloraxis": {
           "colorbar": {
            "outlinewidth": 0,
            "ticks": ""
           }
          },
          "colorscale": {
           "diverging": [
            [
             0,
             "#8e0152"
            ],
            [
             0.1,
             "#c51b7d"
            ],
            [
             0.2,
             "#de77ae"
            ],
            [
             0.3,
             "#f1b6da"
            ],
            [
             0.4,
             "#fde0ef"
            ],
            [
             0.5,
             "#f7f7f7"
            ],
            [
             0.6,
             "#e6f5d0"
            ],
            [
             0.7,
             "#b8e186"
            ],
            [
             0.8,
             "#7fbc41"
            ],
            [
             0.9,
             "#4d9221"
            ],
            [
             1,
             "#276419"
            ]
           ],
           "sequential": [
            [
             0,
             "#0d0887"
            ],
            [
             0.1111111111111111,
             "#46039f"
            ],
            [
             0.2222222222222222,
             "#7201a8"
            ],
            [
             0.3333333333333333,
             "#9c179e"
            ],
            [
             0.4444444444444444,
             "#bd3786"
            ],
            [
             0.5555555555555556,
             "#d8576b"
            ],
            [
             0.6666666666666666,
             "#ed7953"
            ],
            [
             0.7777777777777778,
             "#fb9f3a"
            ],
            [
             0.8888888888888888,
             "#fdca26"
            ],
            [
             1,
             "#f0f921"
            ]
           ],
           "sequentialminus": [
            [
             0,
             "#0d0887"
            ],
            [
             0.1111111111111111,
             "#46039f"
            ],
            [
             0.2222222222222222,
             "#7201a8"
            ],
            [
             0.3333333333333333,
             "#9c179e"
            ],
            [
             0.4444444444444444,
             "#bd3786"
            ],
            [
             0.5555555555555556,
             "#d8576b"
            ],
            [
             0.6666666666666666,
             "#ed7953"
            ],
            [
             0.7777777777777778,
             "#fb9f3a"
            ],
            [
             0.8888888888888888,
             "#fdca26"
            ],
            [
             1,
             "#f0f921"
            ]
           ]
          },
          "colorway": [
           "#636efa",
           "#EF553B",
           "#00cc96",
           "#ab63fa",
           "#FFA15A",
           "#19d3f3",
           "#FF6692",
           "#B6E880",
           "#FF97FF",
           "#FECB52"
          ],
          "font": {
           "color": "#2a3f5f"
          },
          "geo": {
           "bgcolor": "white",
           "lakecolor": "white",
           "landcolor": "#E5ECF6",
           "showlakes": true,
           "showland": true,
           "subunitcolor": "white"
          },
          "hoverlabel": {
           "align": "left"
          },
          "hovermode": "closest",
          "mapbox": {
           "style": "light"
          },
          "paper_bgcolor": "white",
          "plot_bgcolor": "#E5ECF6",
          "polar": {
           "angularaxis": {
            "gridcolor": "white",
            "linecolor": "white",
            "ticks": ""
           },
           "bgcolor": "#E5ECF6",
           "radialaxis": {
            "gridcolor": "white",
            "linecolor": "white",
            "ticks": ""
           }
          },
          "scene": {
           "xaxis": {
            "backgroundcolor": "#E5ECF6",
            "gridcolor": "white",
            "gridwidth": 2,
            "linecolor": "white",
            "showbackground": true,
            "ticks": "",
            "zerolinecolor": "white"
           },
           "yaxis": {
            "backgroundcolor": "#E5ECF6",
            "gridcolor": "white",
            "gridwidth": 2,
            "linecolor": "white",
            "showbackground": true,
            "ticks": "",
            "zerolinecolor": "white"
           },
           "zaxis": {
            "backgroundcolor": "#E5ECF6",
            "gridcolor": "white",
            "gridwidth": 2,
            "linecolor": "white",
            "showbackground": true,
            "ticks": "",
            "zerolinecolor": "white"
           }
          },
          "shapedefaults": {
           "line": {
            "color": "#2a3f5f"
           }
          },
          "ternary": {
           "aaxis": {
            "gridcolor": "white",
            "linecolor": "white",
            "ticks": ""
           },
           "baxis": {
            "gridcolor": "white",
            "linecolor": "white",
            "ticks": ""
           },
           "bgcolor": "#E5ECF6",
           "caxis": {
            "gridcolor": "white",
            "linecolor": "white",
            "ticks": ""
           }
          },
          "title": {
           "x": 0.05
          },
          "xaxis": {
           "automargin": true,
           "gridcolor": "white",
           "linecolor": "white",
           "ticks": "",
           "title": {
            "standoff": 15
           },
           "zerolinecolor": "white",
           "zerolinewidth": 2
          },
          "yaxis": {
           "automargin": true,
           "gridcolor": "white",
           "linecolor": "white",
           "ticks": "",
           "title": {
            "standoff": 15
           },
           "zerolinecolor": "white",
           "zerolinewidth": 2
          }
         }
        },
        "title": {
         "text": "Evolutivo de ventas por hora y día de la semana"
        },
        "xaxis": {
         "anchor": "y",
         "domain": [
          0,
          1
         ],
         "title": {
          "text": "Hora"
         }
        },
        "yaxis": {
         "anchor": "x",
         "domain": [
          0,
          1
         ],
         "title": {
          "text": "Total ventas"
         }
        }
       }
      }
     },
     "metadata": {},
     "output_type": "display_data"
    }
   ],
   "source": [
    "data['Hora'] = data['fecha_creacion'].dt.hour\n",
    "data['Dia de la Semana'] = data['fecha_creacion'].dt.day_name()\n",
    "\n",
    "# Agrupar por Hora y Día de la Semana y sumar las Ventas\n",
    "evolutivo_ventas_hora_dia = data.groupby(['Hora', 'Dia de la Semana'])['Venta'].sum().reset_index()\n",
    "\n",
    "# Crear el gráfico\n",
    "fig = px.line(evolutivo_ventas_hora_dia, x='Hora', y='Venta', color='Dia de la Semana', \n",
    "              title='Evolutivo de ventas por hora y día de la semana', \n",
    "              labels={'Venta': 'Total ventas', 'Hora': 'Hora', 'Dia de la Semana': 'Día de la Semana'}, \n",
    "              markers=True)\n",
    "fig.show()"
   ]
  },
  {
   "cell_type": "code",
   "execution_count": 879,
   "metadata": {},
   "outputs": [
    {
     "name": "stderr",
     "output_type": "stream",
     "text": [
      "C:\\Users\\JUANC\\AppData\\Local\\Temp\\ipykernel_17676\\1637696972.py:3: FutureWarning:\n",
      "\n",
      "The default of observed=False is deprecated and will be changed to True in a future version of pandas. Pass observed=False to retain current behavior or observed=True to adopt the future default and silence this warning.\n",
      "\n"
     ]
    },
    {
     "data": {
      "application/vnd.plotly.v1+json": {
       "config": {
        "plotlyServerURL": "https://plot.ly"
       },
       "data": [
        {
         "alignmentgroup": "True",
         "hovertemplate": "dia_semana=%{x}<br>Total Ventas=%{y}<br>text=%{text}<extra></extra>",
         "legendgroup": "",
         "marker": {
          "color": "#636efa",
          "pattern": {
           "shape": ""
          }
         },
         "name": "",
         "offsetgroup": "",
         "orientation": "v",
         "showlegend": false,
         "text": [
          "$700,930,214",
          "$825,900,731",
          "$875,686,390",
          "$905,004,073",
          "$1,134,991,842",
          "$622,485,506",
          "$583,676,389"
         ],
         "textposition": "auto",
         "type": "bar",
         "x": [
          "Monday",
          "Tuesday",
          "Wednesday",
          "Thursday",
          "Friday",
          "Saturday",
          "Sunday"
         ],
         "xaxis": "x",
         "y": [
          700930214,
          825900731,
          875686390,
          905004073,
          1134991842,
          622485506,
          583676389
         ],
         "yaxis": "y"
        }
       ],
       "layout": {
        "barmode": "relative",
        "legend": {
         "tracegroupgap": 0
        },
        "template": {
         "data": {
          "bar": [
           {
            "error_x": {
             "color": "#2a3f5f"
            },
            "error_y": {
             "color": "#2a3f5f"
            },
            "marker": {
             "line": {
              "color": "#E5ECF6",
              "width": 0.5
             },
             "pattern": {
              "fillmode": "overlay",
              "size": 10,
              "solidity": 0.2
             }
            },
            "type": "bar"
           }
          ],
          "barpolar": [
           {
            "marker": {
             "line": {
              "color": "#E5ECF6",
              "width": 0.5
             },
             "pattern": {
              "fillmode": "overlay",
              "size": 10,
              "solidity": 0.2
             }
            },
            "type": "barpolar"
           }
          ],
          "carpet": [
           {
            "aaxis": {
             "endlinecolor": "#2a3f5f",
             "gridcolor": "white",
             "linecolor": "white",
             "minorgridcolor": "white",
             "startlinecolor": "#2a3f5f"
            },
            "baxis": {
             "endlinecolor": "#2a3f5f",
             "gridcolor": "white",
             "linecolor": "white",
             "minorgridcolor": "white",
             "startlinecolor": "#2a3f5f"
            },
            "type": "carpet"
           }
          ],
          "choropleth": [
           {
            "colorbar": {
             "outlinewidth": 0,
             "ticks": ""
            },
            "type": "choropleth"
           }
          ],
          "contour": [
           {
            "colorbar": {
             "outlinewidth": 0,
             "ticks": ""
            },
            "colorscale": [
             [
              0,
              "#0d0887"
             ],
             [
              0.1111111111111111,
              "#46039f"
             ],
             [
              0.2222222222222222,
              "#7201a8"
             ],
             [
              0.3333333333333333,
              "#9c179e"
             ],
             [
              0.4444444444444444,
              "#bd3786"
             ],
             [
              0.5555555555555556,
              "#d8576b"
             ],
             [
              0.6666666666666666,
              "#ed7953"
             ],
             [
              0.7777777777777778,
              "#fb9f3a"
             ],
             [
              0.8888888888888888,
              "#fdca26"
             ],
             [
              1,
              "#f0f921"
             ]
            ],
            "type": "contour"
           }
          ],
          "contourcarpet": [
           {
            "colorbar": {
             "outlinewidth": 0,
             "ticks": ""
            },
            "type": "contourcarpet"
           }
          ],
          "heatmap": [
           {
            "colorbar": {
             "outlinewidth": 0,
             "ticks": ""
            },
            "colorscale": [
             [
              0,
              "#0d0887"
             ],
             [
              0.1111111111111111,
              "#46039f"
             ],
             [
              0.2222222222222222,
              "#7201a8"
             ],
             [
              0.3333333333333333,
              "#9c179e"
             ],
             [
              0.4444444444444444,
              "#bd3786"
             ],
             [
              0.5555555555555556,
              "#d8576b"
             ],
             [
              0.6666666666666666,
              "#ed7953"
             ],
             [
              0.7777777777777778,
              "#fb9f3a"
             ],
             [
              0.8888888888888888,
              "#fdca26"
             ],
             [
              1,
              "#f0f921"
             ]
            ],
            "type": "heatmap"
           }
          ],
          "heatmapgl": [
           {
            "colorbar": {
             "outlinewidth": 0,
             "ticks": ""
            },
            "colorscale": [
             [
              0,
              "#0d0887"
             ],
             [
              0.1111111111111111,
              "#46039f"
             ],
             [
              0.2222222222222222,
              "#7201a8"
             ],
             [
              0.3333333333333333,
              "#9c179e"
             ],
             [
              0.4444444444444444,
              "#bd3786"
             ],
             [
              0.5555555555555556,
              "#d8576b"
             ],
             [
              0.6666666666666666,
              "#ed7953"
             ],
             [
              0.7777777777777778,
              "#fb9f3a"
             ],
             [
              0.8888888888888888,
              "#fdca26"
             ],
             [
              1,
              "#f0f921"
             ]
            ],
            "type": "heatmapgl"
           }
          ],
          "histogram": [
           {
            "marker": {
             "pattern": {
              "fillmode": "overlay",
              "size": 10,
              "solidity": 0.2
             }
            },
            "type": "histogram"
           }
          ],
          "histogram2d": [
           {
            "colorbar": {
             "outlinewidth": 0,
             "ticks": ""
            },
            "colorscale": [
             [
              0,
              "#0d0887"
             ],
             [
              0.1111111111111111,
              "#46039f"
             ],
             [
              0.2222222222222222,
              "#7201a8"
             ],
             [
              0.3333333333333333,
              "#9c179e"
             ],
             [
              0.4444444444444444,
              "#bd3786"
             ],
             [
              0.5555555555555556,
              "#d8576b"
             ],
             [
              0.6666666666666666,
              "#ed7953"
             ],
             [
              0.7777777777777778,
              "#fb9f3a"
             ],
             [
              0.8888888888888888,
              "#fdca26"
             ],
             [
              1,
              "#f0f921"
             ]
            ],
            "type": "histogram2d"
           }
          ],
          "histogram2dcontour": [
           {
            "colorbar": {
             "outlinewidth": 0,
             "ticks": ""
            },
            "colorscale": [
             [
              0,
              "#0d0887"
             ],
             [
              0.1111111111111111,
              "#46039f"
             ],
             [
              0.2222222222222222,
              "#7201a8"
             ],
             [
              0.3333333333333333,
              "#9c179e"
             ],
             [
              0.4444444444444444,
              "#bd3786"
             ],
             [
              0.5555555555555556,
              "#d8576b"
             ],
             [
              0.6666666666666666,
              "#ed7953"
             ],
             [
              0.7777777777777778,
              "#fb9f3a"
             ],
             [
              0.8888888888888888,
              "#fdca26"
             ],
             [
              1,
              "#f0f921"
             ]
            ],
            "type": "histogram2dcontour"
           }
          ],
          "mesh3d": [
           {
            "colorbar": {
             "outlinewidth": 0,
             "ticks": ""
            },
            "type": "mesh3d"
           }
          ],
          "parcoords": [
           {
            "line": {
             "colorbar": {
              "outlinewidth": 0,
              "ticks": ""
             }
            },
            "type": "parcoords"
           }
          ],
          "pie": [
           {
            "automargin": true,
            "type": "pie"
           }
          ],
          "scatter": [
           {
            "fillpattern": {
             "fillmode": "overlay",
             "size": 10,
             "solidity": 0.2
            },
            "type": "scatter"
           }
          ],
          "scatter3d": [
           {
            "line": {
             "colorbar": {
              "outlinewidth": 0,
              "ticks": ""
             }
            },
            "marker": {
             "colorbar": {
              "outlinewidth": 0,
              "ticks": ""
             }
            },
            "type": "scatter3d"
           }
          ],
          "scattercarpet": [
           {
            "marker": {
             "colorbar": {
              "outlinewidth": 0,
              "ticks": ""
             }
            },
            "type": "scattercarpet"
           }
          ],
          "scattergeo": [
           {
            "marker": {
             "colorbar": {
              "outlinewidth": 0,
              "ticks": ""
             }
            },
            "type": "scattergeo"
           }
          ],
          "scattergl": [
           {
            "marker": {
             "colorbar": {
              "outlinewidth": 0,
              "ticks": ""
             }
            },
            "type": "scattergl"
           }
          ],
          "scattermapbox": [
           {
            "marker": {
             "colorbar": {
              "outlinewidth": 0,
              "ticks": ""
             }
            },
            "type": "scattermapbox"
           }
          ],
          "scatterpolar": [
           {
            "marker": {
             "colorbar": {
              "outlinewidth": 0,
              "ticks": ""
             }
            },
            "type": "scatterpolar"
           }
          ],
          "scatterpolargl": [
           {
            "marker": {
             "colorbar": {
              "outlinewidth": 0,
              "ticks": ""
             }
            },
            "type": "scatterpolargl"
           }
          ],
          "scatterternary": [
           {
            "marker": {
             "colorbar": {
              "outlinewidth": 0,
              "ticks": ""
             }
            },
            "type": "scatterternary"
           }
          ],
          "surface": [
           {
            "colorbar": {
             "outlinewidth": 0,
             "ticks": ""
            },
            "colorscale": [
             [
              0,
              "#0d0887"
             ],
             [
              0.1111111111111111,
              "#46039f"
             ],
             [
              0.2222222222222222,
              "#7201a8"
             ],
             [
              0.3333333333333333,
              "#9c179e"
             ],
             [
              0.4444444444444444,
              "#bd3786"
             ],
             [
              0.5555555555555556,
              "#d8576b"
             ],
             [
              0.6666666666666666,
              "#ed7953"
             ],
             [
              0.7777777777777778,
              "#fb9f3a"
             ],
             [
              0.8888888888888888,
              "#fdca26"
             ],
             [
              1,
              "#f0f921"
             ]
            ],
            "type": "surface"
           }
          ],
          "table": [
           {
            "cells": {
             "fill": {
              "color": "#EBF0F8"
             },
             "line": {
              "color": "white"
             }
            },
            "header": {
             "fill": {
              "color": "#C8D4E3"
             },
             "line": {
              "color": "white"
             }
            },
            "type": "table"
           }
          ]
         },
         "layout": {
          "annotationdefaults": {
           "arrowcolor": "#2a3f5f",
           "arrowhead": 0,
           "arrowwidth": 1
          },
          "autotypenumbers": "strict",
          "coloraxis": {
           "colorbar": {
            "outlinewidth": 0,
            "ticks": ""
           }
          },
          "colorscale": {
           "diverging": [
            [
             0,
             "#8e0152"
            ],
            [
             0.1,
             "#c51b7d"
            ],
            [
             0.2,
             "#de77ae"
            ],
            [
             0.3,
             "#f1b6da"
            ],
            [
             0.4,
             "#fde0ef"
            ],
            [
             0.5,
             "#f7f7f7"
            ],
            [
             0.6,
             "#e6f5d0"
            ],
            [
             0.7,
             "#b8e186"
            ],
            [
             0.8,
             "#7fbc41"
            ],
            [
             0.9,
             "#4d9221"
            ],
            [
             1,
             "#276419"
            ]
           ],
           "sequential": [
            [
             0,
             "#0d0887"
            ],
            [
             0.1111111111111111,
             "#46039f"
            ],
            [
             0.2222222222222222,
             "#7201a8"
            ],
            [
             0.3333333333333333,
             "#9c179e"
            ],
            [
             0.4444444444444444,
             "#bd3786"
            ],
            [
             0.5555555555555556,
             "#d8576b"
            ],
            [
             0.6666666666666666,
             "#ed7953"
            ],
            [
             0.7777777777777778,
             "#fb9f3a"
            ],
            [
             0.8888888888888888,
             "#fdca26"
            ],
            [
             1,
             "#f0f921"
            ]
           ],
           "sequentialminus": [
            [
             0,
             "#0d0887"
            ],
            [
             0.1111111111111111,
             "#46039f"
            ],
            [
             0.2222222222222222,
             "#7201a8"
            ],
            [
             0.3333333333333333,
             "#9c179e"
            ],
            [
             0.4444444444444444,
             "#bd3786"
            ],
            [
             0.5555555555555556,
             "#d8576b"
            ],
            [
             0.6666666666666666,
             "#ed7953"
            ],
            [
             0.7777777777777778,
             "#fb9f3a"
            ],
            [
             0.8888888888888888,
             "#fdca26"
            ],
            [
             1,
             "#f0f921"
            ]
           ]
          },
          "colorway": [
           "#636efa",
           "#EF553B",
           "#00cc96",
           "#ab63fa",
           "#FFA15A",
           "#19d3f3",
           "#FF6692",
           "#B6E880",
           "#FF97FF",
           "#FECB52"
          ],
          "font": {
           "color": "#2a3f5f"
          },
          "geo": {
           "bgcolor": "white",
           "lakecolor": "white",
           "landcolor": "#E5ECF6",
           "showlakes": true,
           "showland": true,
           "subunitcolor": "white"
          },
          "hoverlabel": {
           "align": "left"
          },
          "hovermode": "closest",
          "mapbox": {
           "style": "light"
          },
          "paper_bgcolor": "white",
          "plot_bgcolor": "#E5ECF6",
          "polar": {
           "angularaxis": {
            "gridcolor": "white",
            "linecolor": "white",
            "ticks": ""
           },
           "bgcolor": "#E5ECF6",
           "radialaxis": {
            "gridcolor": "white",
            "linecolor": "white",
            "ticks": ""
           }
          },
          "scene": {
           "xaxis": {
            "backgroundcolor": "#E5ECF6",
            "gridcolor": "white",
            "gridwidth": 2,
            "linecolor": "white",
            "showbackground": true,
            "ticks": "",
            "zerolinecolor": "white"
           },
           "yaxis": {
            "backgroundcolor": "#E5ECF6",
            "gridcolor": "white",
            "gridwidth": 2,
            "linecolor": "white",
            "showbackground": true,
            "ticks": "",
            "zerolinecolor": "white"
           },
           "zaxis": {
            "backgroundcolor": "#E5ECF6",
            "gridcolor": "white",
            "gridwidth": 2,
            "linecolor": "white",
            "showbackground": true,
            "ticks": "",
            "zerolinecolor": "white"
           }
          },
          "shapedefaults": {
           "line": {
            "color": "#2a3f5f"
           }
          },
          "ternary": {
           "aaxis": {
            "gridcolor": "white",
            "linecolor": "white",
            "ticks": ""
           },
           "baxis": {
            "gridcolor": "white",
            "linecolor": "white",
            "ticks": ""
           },
           "bgcolor": "#E5ECF6",
           "caxis": {
            "gridcolor": "white",
            "linecolor": "white",
            "ticks": ""
           }
          },
          "title": {
           "x": 0.05
          },
          "xaxis": {
           "automargin": true,
           "gridcolor": "white",
           "linecolor": "white",
           "ticks": "",
           "title": {
            "standoff": 15
           },
           "zerolinecolor": "white",
           "zerolinewidth": 2
          },
          "yaxis": {
           "automargin": true,
           "gridcolor": "white",
           "linecolor": "white",
           "ticks": "",
           "title": {
            "standoff": 15
           },
           "zerolinecolor": "white",
           "zerolinewidth": 2
          }
         }
        },
        "title": {
         "text": "Ventas por Franja Horaria"
        },
        "xaxis": {
         "anchor": "y",
         "domain": [
          0,
          1
         ],
         "title": {
          "text": "dia_semana"
         }
        },
        "yaxis": {
         "anchor": "x",
         "domain": [
          0,
          1
         ],
         "title": {
          "text": "Total Ventas"
         }
        }
       }
      }
     },
     "metadata": {},
     "output_type": "display_data"
    }
   ],
   "source": [
    "# Procesar datos y agrupar por franja horaria\n",
    "ventas_dia_semana = (data\n",
    "    .groupby('dia_semana')['Venta'].sum()\n",
    "    .reset_index(name='Total_Ventas')\n",
    ")\n",
    "\n",
    "# Crear el gráfico\n",
    "fig = px.bar(ventas_dia_semana, x='dia_semana', y='Total_Ventas', \n",
    "             title='Ventas por Franja Horaria', labels={'Total_Ventas': 'Total Ventas'}, \n",
    "             text=ventas_dia_semana['Total_Ventas'].apply(lambda x: f\"${x:,.0f}\"))\n",
    "\n",
    "# Mostrar el gráfico\n",
    "fig.show()"
   ]
  },
  {
   "cell_type": "code",
   "execution_count": 880,
   "metadata": {},
   "outputs": [
    {
     "name": "stderr",
     "output_type": "stream",
     "text": [
      "C:\\Users\\JUANC\\AppData\\Local\\Temp\\ipykernel_17676\\2475002824.py:5: FutureWarning:\n",
      "\n",
      "The default of observed=False is deprecated and will be changed to True in a future version of pandas. Pass observed=False to retain current behavior or observed=True to adopt the future default and silence this warning.\n",
      "\n"
     ]
    },
    {
     "data": {
      "application/vnd.plotly.v1+json": {
       "config": {
        "plotlyServerURL": "https://plot.ly"
       },
       "data": [
        {
         "domain": {
          "x": [
           0,
           1
          ],
          "y": [
           0,
           1
          ]
         },
         "hole": 0.5,
         "hovertemplate": "franja_horaria=%{label}<br>Total_Ventas=%{value}<extra></extra>",
         "labels": [
          "Mañana",
          "Tarde",
          "Noche"
         ],
         "legendgroup": "",
         "name": "",
         "showlegend": true,
         "type": "pie",
         "values": [
          298204203,
          3885723209,
          1464747733
         ]
        }
       ],
       "layout": {
        "legend": {
         "tracegroupgap": 0
        },
        "template": {
         "data": {
          "bar": [
           {
            "error_x": {
             "color": "#2a3f5f"
            },
            "error_y": {
             "color": "#2a3f5f"
            },
            "marker": {
             "line": {
              "color": "#E5ECF6",
              "width": 0.5
             },
             "pattern": {
              "fillmode": "overlay",
              "size": 10,
              "solidity": 0.2
             }
            },
            "type": "bar"
           }
          ],
          "barpolar": [
           {
            "marker": {
             "line": {
              "color": "#E5ECF6",
              "width": 0.5
             },
             "pattern": {
              "fillmode": "overlay",
              "size": 10,
              "solidity": 0.2
             }
            },
            "type": "barpolar"
           }
          ],
          "carpet": [
           {
            "aaxis": {
             "endlinecolor": "#2a3f5f",
             "gridcolor": "white",
             "linecolor": "white",
             "minorgridcolor": "white",
             "startlinecolor": "#2a3f5f"
            },
            "baxis": {
             "endlinecolor": "#2a3f5f",
             "gridcolor": "white",
             "linecolor": "white",
             "minorgridcolor": "white",
             "startlinecolor": "#2a3f5f"
            },
            "type": "carpet"
           }
          ],
          "choropleth": [
           {
            "colorbar": {
             "outlinewidth": 0,
             "ticks": ""
            },
            "type": "choropleth"
           }
          ],
          "contour": [
           {
            "colorbar": {
             "outlinewidth": 0,
             "ticks": ""
            },
            "colorscale": [
             [
              0,
              "#0d0887"
             ],
             [
              0.1111111111111111,
              "#46039f"
             ],
             [
              0.2222222222222222,
              "#7201a8"
             ],
             [
              0.3333333333333333,
              "#9c179e"
             ],
             [
              0.4444444444444444,
              "#bd3786"
             ],
             [
              0.5555555555555556,
              "#d8576b"
             ],
             [
              0.6666666666666666,
              "#ed7953"
             ],
             [
              0.7777777777777778,
              "#fb9f3a"
             ],
             [
              0.8888888888888888,
              "#fdca26"
             ],
             [
              1,
              "#f0f921"
             ]
            ],
            "type": "contour"
           }
          ],
          "contourcarpet": [
           {
            "colorbar": {
             "outlinewidth": 0,
             "ticks": ""
            },
            "type": "contourcarpet"
           }
          ],
          "heatmap": [
           {
            "colorbar": {
             "outlinewidth": 0,
             "ticks": ""
            },
            "colorscale": [
             [
              0,
              "#0d0887"
             ],
             [
              0.1111111111111111,
              "#46039f"
             ],
             [
              0.2222222222222222,
              "#7201a8"
             ],
             [
              0.3333333333333333,
              "#9c179e"
             ],
             [
              0.4444444444444444,
              "#bd3786"
             ],
             [
              0.5555555555555556,
              "#d8576b"
             ],
             [
              0.6666666666666666,
              "#ed7953"
             ],
             [
              0.7777777777777778,
              "#fb9f3a"
             ],
             [
              0.8888888888888888,
              "#fdca26"
             ],
             [
              1,
              "#f0f921"
             ]
            ],
            "type": "heatmap"
           }
          ],
          "heatmapgl": [
           {
            "colorbar": {
             "outlinewidth": 0,
             "ticks": ""
            },
            "colorscale": [
             [
              0,
              "#0d0887"
             ],
             [
              0.1111111111111111,
              "#46039f"
             ],
             [
              0.2222222222222222,
              "#7201a8"
             ],
             [
              0.3333333333333333,
              "#9c179e"
             ],
             [
              0.4444444444444444,
              "#bd3786"
             ],
             [
              0.5555555555555556,
              "#d8576b"
             ],
             [
              0.6666666666666666,
              "#ed7953"
             ],
             [
              0.7777777777777778,
              "#fb9f3a"
             ],
             [
              0.8888888888888888,
              "#fdca26"
             ],
             [
              1,
              "#f0f921"
             ]
            ],
            "type": "heatmapgl"
           }
          ],
          "histogram": [
           {
            "marker": {
             "pattern": {
              "fillmode": "overlay",
              "size": 10,
              "solidity": 0.2
             }
            },
            "type": "histogram"
           }
          ],
          "histogram2d": [
           {
            "colorbar": {
             "outlinewidth": 0,
             "ticks": ""
            },
            "colorscale": [
             [
              0,
              "#0d0887"
             ],
             [
              0.1111111111111111,
              "#46039f"
             ],
             [
              0.2222222222222222,
              "#7201a8"
             ],
             [
              0.3333333333333333,
              "#9c179e"
             ],
             [
              0.4444444444444444,
              "#bd3786"
             ],
             [
              0.5555555555555556,
              "#d8576b"
             ],
             [
              0.6666666666666666,
              "#ed7953"
             ],
             [
              0.7777777777777778,
              "#fb9f3a"
             ],
             [
              0.8888888888888888,
              "#fdca26"
             ],
             [
              1,
              "#f0f921"
             ]
            ],
            "type": "histogram2d"
           }
          ],
          "histogram2dcontour": [
           {
            "colorbar": {
             "outlinewidth": 0,
             "ticks": ""
            },
            "colorscale": [
             [
              0,
              "#0d0887"
             ],
             [
              0.1111111111111111,
              "#46039f"
             ],
             [
              0.2222222222222222,
              "#7201a8"
             ],
             [
              0.3333333333333333,
              "#9c179e"
             ],
             [
              0.4444444444444444,
              "#bd3786"
             ],
             [
              0.5555555555555556,
              "#d8576b"
             ],
             [
              0.6666666666666666,
              "#ed7953"
             ],
             [
              0.7777777777777778,
              "#fb9f3a"
             ],
             [
              0.8888888888888888,
              "#fdca26"
             ],
             [
              1,
              "#f0f921"
             ]
            ],
            "type": "histogram2dcontour"
           }
          ],
          "mesh3d": [
           {
            "colorbar": {
             "outlinewidth": 0,
             "ticks": ""
            },
            "type": "mesh3d"
           }
          ],
          "parcoords": [
           {
            "line": {
             "colorbar": {
              "outlinewidth": 0,
              "ticks": ""
             }
            },
            "type": "parcoords"
           }
          ],
          "pie": [
           {
            "automargin": true,
            "type": "pie"
           }
          ],
          "scatter": [
           {
            "fillpattern": {
             "fillmode": "overlay",
             "size": 10,
             "solidity": 0.2
            },
            "type": "scatter"
           }
          ],
          "scatter3d": [
           {
            "line": {
             "colorbar": {
              "outlinewidth": 0,
              "ticks": ""
             }
            },
            "marker": {
             "colorbar": {
              "outlinewidth": 0,
              "ticks": ""
             }
            },
            "type": "scatter3d"
           }
          ],
          "scattercarpet": [
           {
            "marker": {
             "colorbar": {
              "outlinewidth": 0,
              "ticks": ""
             }
            },
            "type": "scattercarpet"
           }
          ],
          "scattergeo": [
           {
            "marker": {
             "colorbar": {
              "outlinewidth": 0,
              "ticks": ""
             }
            },
            "type": "scattergeo"
           }
          ],
          "scattergl": [
           {
            "marker": {
             "colorbar": {
              "outlinewidth": 0,
              "ticks": ""
             }
            },
            "type": "scattergl"
           }
          ],
          "scattermapbox": [
           {
            "marker": {
             "colorbar": {
              "outlinewidth": 0,
              "ticks": ""
             }
            },
            "type": "scattermapbox"
           }
          ],
          "scatterpolar": [
           {
            "marker": {
             "colorbar": {
              "outlinewidth": 0,
              "ticks": ""
             }
            },
            "type": "scatterpolar"
           }
          ],
          "scatterpolargl": [
           {
            "marker": {
             "colorbar": {
              "outlinewidth": 0,
              "ticks": ""
             }
            },
            "type": "scatterpolargl"
           }
          ],
          "scatterternary": [
           {
            "marker": {
             "colorbar": {
              "outlinewidth": 0,
              "ticks": ""
             }
            },
            "type": "scatterternary"
           }
          ],
          "surface": [
           {
            "colorbar": {
             "outlinewidth": 0,
             "ticks": ""
            },
            "colorscale": [
             [
              0,
              "#0d0887"
             ],
             [
              0.1111111111111111,
              "#46039f"
             ],
             [
              0.2222222222222222,
              "#7201a8"
             ],
             [
              0.3333333333333333,
              "#9c179e"
             ],
             [
              0.4444444444444444,
              "#bd3786"
             ],
             [
              0.5555555555555556,
              "#d8576b"
             ],
             [
              0.6666666666666666,
              "#ed7953"
             ],
             [
              0.7777777777777778,
              "#fb9f3a"
             ],
             [
              0.8888888888888888,
              "#fdca26"
             ],
             [
              1,
              "#f0f921"
             ]
            ],
            "type": "surface"
           }
          ],
          "table": [
           {
            "cells": {
             "fill": {
              "color": "#EBF0F8"
             },
             "line": {
              "color": "white"
             }
            },
            "header": {
             "fill": {
              "color": "#C8D4E3"
             },
             "line": {
              "color": "white"
             }
            },
            "type": "table"
           }
          ]
         },
         "layout": {
          "annotationdefaults": {
           "arrowcolor": "#2a3f5f",
           "arrowhead": 0,
           "arrowwidth": 1
          },
          "autotypenumbers": "strict",
          "coloraxis": {
           "colorbar": {
            "outlinewidth": 0,
            "ticks": ""
           }
          },
          "colorscale": {
           "diverging": [
            [
             0,
             "#8e0152"
            ],
            [
             0.1,
             "#c51b7d"
            ],
            [
             0.2,
             "#de77ae"
            ],
            [
             0.3,
             "#f1b6da"
            ],
            [
             0.4,
             "#fde0ef"
            ],
            [
             0.5,
             "#f7f7f7"
            ],
            [
             0.6,
             "#e6f5d0"
            ],
            [
             0.7,
             "#b8e186"
            ],
            [
             0.8,
             "#7fbc41"
            ],
            [
             0.9,
             "#4d9221"
            ],
            [
             1,
             "#276419"
            ]
           ],
           "sequential": [
            [
             0,
             "#0d0887"
            ],
            [
             0.1111111111111111,
             "#46039f"
            ],
            [
             0.2222222222222222,
             "#7201a8"
            ],
            [
             0.3333333333333333,
             "#9c179e"
            ],
            [
             0.4444444444444444,
             "#bd3786"
            ],
            [
             0.5555555555555556,
             "#d8576b"
            ],
            [
             0.6666666666666666,
             "#ed7953"
            ],
            [
             0.7777777777777778,
             "#fb9f3a"
            ],
            [
             0.8888888888888888,
             "#fdca26"
            ],
            [
             1,
             "#f0f921"
            ]
           ],
           "sequentialminus": [
            [
             0,
             "#0d0887"
            ],
            [
             0.1111111111111111,
             "#46039f"
            ],
            [
             0.2222222222222222,
             "#7201a8"
            ],
            [
             0.3333333333333333,
             "#9c179e"
            ],
            [
             0.4444444444444444,
             "#bd3786"
            ],
            [
             0.5555555555555556,
             "#d8576b"
            ],
            [
             0.6666666666666666,
             "#ed7953"
            ],
            [
             0.7777777777777778,
             "#fb9f3a"
            ],
            [
             0.8888888888888888,
             "#fdca26"
            ],
            [
             1,
             "#f0f921"
            ]
           ]
          },
          "colorway": [
           "#636efa",
           "#EF553B",
           "#00cc96",
           "#ab63fa",
           "#FFA15A",
           "#19d3f3",
           "#FF6692",
           "#B6E880",
           "#FF97FF",
           "#FECB52"
          ],
          "font": {
           "color": "#2a3f5f"
          },
          "geo": {
           "bgcolor": "white",
           "lakecolor": "white",
           "landcolor": "#E5ECF6",
           "showlakes": true,
           "showland": true,
           "subunitcolor": "white"
          },
          "hoverlabel": {
           "align": "left"
          },
          "hovermode": "closest",
          "mapbox": {
           "style": "light"
          },
          "paper_bgcolor": "white",
          "plot_bgcolor": "#E5ECF6",
          "polar": {
           "angularaxis": {
            "gridcolor": "white",
            "linecolor": "white",
            "ticks": ""
           },
           "bgcolor": "#E5ECF6",
           "radialaxis": {
            "gridcolor": "white",
            "linecolor": "white",
            "ticks": ""
           }
          },
          "scene": {
           "xaxis": {
            "backgroundcolor": "#E5ECF6",
            "gridcolor": "white",
            "gridwidth": 2,
            "linecolor": "white",
            "showbackground": true,
            "ticks": "",
            "zerolinecolor": "white"
           },
           "yaxis": {
            "backgroundcolor": "#E5ECF6",
            "gridcolor": "white",
            "gridwidth": 2,
            "linecolor": "white",
            "showbackground": true,
            "ticks": "",
            "zerolinecolor": "white"
           },
           "zaxis": {
            "backgroundcolor": "#E5ECF6",
            "gridcolor": "white",
            "gridwidth": 2,
            "linecolor": "white",
            "showbackground": true,
            "ticks": "",
            "zerolinecolor": "white"
           }
          },
          "shapedefaults": {
           "line": {
            "color": "#2a3f5f"
           }
          },
          "ternary": {
           "aaxis": {
            "gridcolor": "white",
            "linecolor": "white",
            "ticks": ""
           },
           "baxis": {
            "gridcolor": "white",
            "linecolor": "white",
            "ticks": ""
           },
           "bgcolor": "#E5ECF6",
           "caxis": {
            "gridcolor": "white",
            "linecolor": "white",
            "ticks": ""
           }
          },
          "title": {
           "x": 0.05
          },
          "xaxis": {
           "automargin": true,
           "gridcolor": "white",
           "linecolor": "white",
           "ticks": "",
           "title": {
            "standoff": 15
           },
           "zerolinecolor": "white",
           "zerolinewidth": 2
          },
          "yaxis": {
           "automargin": true,
           "gridcolor": "white",
           "linecolor": "white",
           "ticks": "",
           "title": {
            "standoff": 15
           },
           "zerolinecolor": "white",
           "zerolinewidth": 2
          }
         }
        },
        "title": {
         "text": "Ventas por Franja Horaria"
        }
       }
      }
     },
     "metadata": {},
     "output_type": "display_data"
    }
   ],
   "source": [
    "import pandas as pd\n",
    "import plotly.express as px\n",
    "\n",
    "ventas_franja_horaria = (data\n",
    "    .groupby('franja_horaria')['Venta'].sum()\n",
    "    .reset_index(name='Total_Ventas')\n",
    ")\n",
    "\n",
    "fig = px.pie(ventas_franja_horaria, \n",
    "             names='franja_horaria', \n",
    "             values='Total_Ventas', \n",
    "             title='Ventas por Franja Horaria', \n",
    "             hole=0.5)\n",
    "\n",
    "fig.show()"
   ]
  },
  {
   "cell_type": "code",
   "execution_count": 881,
   "metadata": {},
   "outputs": [
    {
     "name": "stderr",
     "output_type": "stream",
     "text": [
      "C:\\Users\\JUANC\\AppData\\Local\\Temp\\ipykernel_17676\\209721706.py:5: FutureWarning:\n",
      "\n",
      "The default of observed=False is deprecated and will be changed to True in a future version of pandas. Pass observed=False to retain current behavior or observed=True to adopt the future default and silence this warning.\n",
      "\n",
      "C:\\Users\\JUANC\\AppData\\Local\\Temp\\ipykernel_17676\\209721706.py:9: FutureWarning:\n",
      "\n",
      "The default of observed=False is deprecated and will be changed to True in a future version of pandas. Pass observed=False to retain current behavior or observed=True to adopt the future default and silence this warning.\n",
      "\n"
     ]
    },
    {
     "data": {
      "application/vnd.plotly.v1+json": {
       "config": {
        "plotlyServerURL": "https://plot.ly"
       },
       "data": [
        {
         "alignmentgroup": "True",
         "hovertemplate": "franja_horaria=Mañana<br>dia_semana=%{x}<br>Total Ventas=%{y}<br>text=%{text}<extra></extra>",
         "legendgroup": "Mañana",
         "marker": {
          "color": "#636efa",
          "pattern": {
           "shape": ""
          }
         },
         "name": "Mañana",
         "offsetgroup": "Mañana",
         "orientation": "v",
         "showlegend": true,
         "text": [
          "5.6%",
          "6.9%",
          "5.3%",
          "6.5%",
          "6.1%",
          "2.6%",
          "1.9%"
         ],
         "textposition": "auto",
         "type": "bar",
         "x": [
          "Monday",
          "Tuesday",
          "Wednesday",
          "Thursday",
          "Friday",
          "Saturday",
          "Sunday"
         ],
         "xaxis": "x",
         "y": [
          39120120,
          57180045,
          46509856,
          58710695,
          69222153,
          16321283,
          11140051
         ],
         "yaxis": "y"
        },
        {
         "alignmentgroup": "True",
         "hovertemplate": "franja_horaria=Tarde<br>dia_semana=%{x}<br>Total Ventas=%{y}<br>text=%{text}<extra></extra>",
         "legendgroup": "Tarde",
         "marker": {
          "color": "#EF553B",
          "pattern": {
           "shape": ""
          }
         },
         "name": "Tarde",
         "offsetgroup": "Tarde",
         "orientation": "v",
         "showlegend": true,
         "text": [
          "69.8%",
          "69.3%",
          "69.6%",
          "69.7%",
          "69.7%",
          "63.4%",
          "68.2%"
         ],
         "textposition": "auto",
         "type": "bar",
         "x": [
          "Monday",
          "Tuesday",
          "Wednesday",
          "Thursday",
          "Friday",
          "Saturday",
          "Sunday"
         ],
         "xaxis": "x",
         "y": [
          489228393,
          572756396,
          609465087,
          630732999,
          790865708,
          394755496,
          397919130
         ],
         "yaxis": "y"
        },
        {
         "alignmentgroup": "True",
         "hovertemplate": "franja_horaria=Noche<br>dia_semana=%{x}<br>Total Ventas=%{y}<br>text=%{text}<extra></extra>",
         "legendgroup": "Noche",
         "marker": {
          "color": "#00cc96",
          "pattern": {
           "shape": ""
          }
         },
         "name": "Noche",
         "offsetgroup": "Noche",
         "orientation": "v",
         "showlegend": true,
         "text": [
          "24.6%",
          "23.7%",
          "25.1%",
          "23.8%",
          "24.2%",
          "34.0%",
          "29.9%"
         ],
         "textposition": "auto",
         "type": "bar",
         "x": [
          "Monday",
          "Tuesday",
          "Wednesday",
          "Thursday",
          "Friday",
          "Saturday",
          "Sunday"
         ],
         "xaxis": "x",
         "y": [
          172581701,
          195964290,
          219711447,
          215560379,
          274903981,
          211408727,
          174617208
         ],
         "yaxis": "y"
        }
       ],
       "layout": {
        "barmode": "relative",
        "legend": {
         "title": {
          "text": "franja_horaria"
         },
         "tracegroupgap": 0
        },
        "template": {
         "data": {
          "bar": [
           {
            "error_x": {
             "color": "#2a3f5f"
            },
            "error_y": {
             "color": "#2a3f5f"
            },
            "marker": {
             "line": {
              "color": "#E5ECF6",
              "width": 0.5
             },
             "pattern": {
              "fillmode": "overlay",
              "size": 10,
              "solidity": 0.2
             }
            },
            "type": "bar"
           }
          ],
          "barpolar": [
           {
            "marker": {
             "line": {
              "color": "#E5ECF6",
              "width": 0.5
             },
             "pattern": {
              "fillmode": "overlay",
              "size": 10,
              "solidity": 0.2
             }
            },
            "type": "barpolar"
           }
          ],
          "carpet": [
           {
            "aaxis": {
             "endlinecolor": "#2a3f5f",
             "gridcolor": "white",
             "linecolor": "white",
             "minorgridcolor": "white",
             "startlinecolor": "#2a3f5f"
            },
            "baxis": {
             "endlinecolor": "#2a3f5f",
             "gridcolor": "white",
             "linecolor": "white",
             "minorgridcolor": "white",
             "startlinecolor": "#2a3f5f"
            },
            "type": "carpet"
           }
          ],
          "choropleth": [
           {
            "colorbar": {
             "outlinewidth": 0,
             "ticks": ""
            },
            "type": "choropleth"
           }
          ],
          "contour": [
           {
            "colorbar": {
             "outlinewidth": 0,
             "ticks": ""
            },
            "colorscale": [
             [
              0,
              "#0d0887"
             ],
             [
              0.1111111111111111,
              "#46039f"
             ],
             [
              0.2222222222222222,
              "#7201a8"
             ],
             [
              0.3333333333333333,
              "#9c179e"
             ],
             [
              0.4444444444444444,
              "#bd3786"
             ],
             [
              0.5555555555555556,
              "#d8576b"
             ],
             [
              0.6666666666666666,
              "#ed7953"
             ],
             [
              0.7777777777777778,
              "#fb9f3a"
             ],
             [
              0.8888888888888888,
              "#fdca26"
             ],
             [
              1,
              "#f0f921"
             ]
            ],
            "type": "contour"
           }
          ],
          "contourcarpet": [
           {
            "colorbar": {
             "outlinewidth": 0,
             "ticks": ""
            },
            "type": "contourcarpet"
           }
          ],
          "heatmap": [
           {
            "colorbar": {
             "outlinewidth": 0,
             "ticks": ""
            },
            "colorscale": [
             [
              0,
              "#0d0887"
             ],
             [
              0.1111111111111111,
              "#46039f"
             ],
             [
              0.2222222222222222,
              "#7201a8"
             ],
             [
              0.3333333333333333,
              "#9c179e"
             ],
             [
              0.4444444444444444,
              "#bd3786"
             ],
             [
              0.5555555555555556,
              "#d8576b"
             ],
             [
              0.6666666666666666,
              "#ed7953"
             ],
             [
              0.7777777777777778,
              "#fb9f3a"
             ],
             [
              0.8888888888888888,
              "#fdca26"
             ],
             [
              1,
              "#f0f921"
             ]
            ],
            "type": "heatmap"
           }
          ],
          "heatmapgl": [
           {
            "colorbar": {
             "outlinewidth": 0,
             "ticks": ""
            },
            "colorscale": [
             [
              0,
              "#0d0887"
             ],
             [
              0.1111111111111111,
              "#46039f"
             ],
             [
              0.2222222222222222,
              "#7201a8"
             ],
             [
              0.3333333333333333,
              "#9c179e"
             ],
             [
              0.4444444444444444,
              "#bd3786"
             ],
             [
              0.5555555555555556,
              "#d8576b"
             ],
             [
              0.6666666666666666,
              "#ed7953"
             ],
             [
              0.7777777777777778,
              "#fb9f3a"
             ],
             [
              0.8888888888888888,
              "#fdca26"
             ],
             [
              1,
              "#f0f921"
             ]
            ],
            "type": "heatmapgl"
           }
          ],
          "histogram": [
           {
            "marker": {
             "pattern": {
              "fillmode": "overlay",
              "size": 10,
              "solidity": 0.2
             }
            },
            "type": "histogram"
           }
          ],
          "histogram2d": [
           {
            "colorbar": {
             "outlinewidth": 0,
             "ticks": ""
            },
            "colorscale": [
             [
              0,
              "#0d0887"
             ],
             [
              0.1111111111111111,
              "#46039f"
             ],
             [
              0.2222222222222222,
              "#7201a8"
             ],
             [
              0.3333333333333333,
              "#9c179e"
             ],
             [
              0.4444444444444444,
              "#bd3786"
             ],
             [
              0.5555555555555556,
              "#d8576b"
             ],
             [
              0.6666666666666666,
              "#ed7953"
             ],
             [
              0.7777777777777778,
              "#fb9f3a"
             ],
             [
              0.8888888888888888,
              "#fdca26"
             ],
             [
              1,
              "#f0f921"
             ]
            ],
            "type": "histogram2d"
           }
          ],
          "histogram2dcontour": [
           {
            "colorbar": {
             "outlinewidth": 0,
             "ticks": ""
            },
            "colorscale": [
             [
              0,
              "#0d0887"
             ],
             [
              0.1111111111111111,
              "#46039f"
             ],
             [
              0.2222222222222222,
              "#7201a8"
             ],
             [
              0.3333333333333333,
              "#9c179e"
             ],
             [
              0.4444444444444444,
              "#bd3786"
             ],
             [
              0.5555555555555556,
              "#d8576b"
             ],
             [
              0.6666666666666666,
              "#ed7953"
             ],
             [
              0.7777777777777778,
              "#fb9f3a"
             ],
             [
              0.8888888888888888,
              "#fdca26"
             ],
             [
              1,
              "#f0f921"
             ]
            ],
            "type": "histogram2dcontour"
           }
          ],
          "mesh3d": [
           {
            "colorbar": {
             "outlinewidth": 0,
             "ticks": ""
            },
            "type": "mesh3d"
           }
          ],
          "parcoords": [
           {
            "line": {
             "colorbar": {
              "outlinewidth": 0,
              "ticks": ""
             }
            },
            "type": "parcoords"
           }
          ],
          "pie": [
           {
            "automargin": true,
            "type": "pie"
           }
          ],
          "scatter": [
           {
            "fillpattern": {
             "fillmode": "overlay",
             "size": 10,
             "solidity": 0.2
            },
            "type": "scatter"
           }
          ],
          "scatter3d": [
           {
            "line": {
             "colorbar": {
              "outlinewidth": 0,
              "ticks": ""
             }
            },
            "marker": {
             "colorbar": {
              "outlinewidth": 0,
              "ticks": ""
             }
            },
            "type": "scatter3d"
           }
          ],
          "scattercarpet": [
           {
            "marker": {
             "colorbar": {
              "outlinewidth": 0,
              "ticks": ""
             }
            },
            "type": "scattercarpet"
           }
          ],
          "scattergeo": [
           {
            "marker": {
             "colorbar": {
              "outlinewidth": 0,
              "ticks": ""
             }
            },
            "type": "scattergeo"
           }
          ],
          "scattergl": [
           {
            "marker": {
             "colorbar": {
              "outlinewidth": 0,
              "ticks": ""
             }
            },
            "type": "scattergl"
           }
          ],
          "scattermapbox": [
           {
            "marker": {
             "colorbar": {
              "outlinewidth": 0,
              "ticks": ""
             }
            },
            "type": "scattermapbox"
           }
          ],
          "scatterpolar": [
           {
            "marker": {
             "colorbar": {
              "outlinewidth": 0,
              "ticks": ""
             }
            },
            "type": "scatterpolar"
           }
          ],
          "scatterpolargl": [
           {
            "marker": {
             "colorbar": {
              "outlinewidth": 0,
              "ticks": ""
             }
            },
            "type": "scatterpolargl"
           }
          ],
          "scatterternary": [
           {
            "marker": {
             "colorbar": {
              "outlinewidth": 0,
              "ticks": ""
             }
            },
            "type": "scatterternary"
           }
          ],
          "surface": [
           {
            "colorbar": {
             "outlinewidth": 0,
             "ticks": ""
            },
            "colorscale": [
             [
              0,
              "#0d0887"
             ],
             [
              0.1111111111111111,
              "#46039f"
             ],
             [
              0.2222222222222222,
              "#7201a8"
             ],
             [
              0.3333333333333333,
              "#9c179e"
             ],
             [
              0.4444444444444444,
              "#bd3786"
             ],
             [
              0.5555555555555556,
              "#d8576b"
             ],
             [
              0.6666666666666666,
              "#ed7953"
             ],
             [
              0.7777777777777778,
              "#fb9f3a"
             ],
             [
              0.8888888888888888,
              "#fdca26"
             ],
             [
              1,
              "#f0f921"
             ]
            ],
            "type": "surface"
           }
          ],
          "table": [
           {
            "cells": {
             "fill": {
              "color": "#EBF0F8"
             },
             "line": {
              "color": "white"
             }
            },
            "header": {
             "fill": {
              "color": "#C8D4E3"
             },
             "line": {
              "color": "white"
             }
            },
            "type": "table"
           }
          ]
         },
         "layout": {
          "annotationdefaults": {
           "arrowcolor": "#2a3f5f",
           "arrowhead": 0,
           "arrowwidth": 1
          },
          "autotypenumbers": "strict",
          "coloraxis": {
           "colorbar": {
            "outlinewidth": 0,
            "ticks": ""
           }
          },
          "colorscale": {
           "diverging": [
            [
             0,
             "#8e0152"
            ],
            [
             0.1,
             "#c51b7d"
            ],
            [
             0.2,
             "#de77ae"
            ],
            [
             0.3,
             "#f1b6da"
            ],
            [
             0.4,
             "#fde0ef"
            ],
            [
             0.5,
             "#f7f7f7"
            ],
            [
             0.6,
             "#e6f5d0"
            ],
            [
             0.7,
             "#b8e186"
            ],
            [
             0.8,
             "#7fbc41"
            ],
            [
             0.9,
             "#4d9221"
            ],
            [
             1,
             "#276419"
            ]
           ],
           "sequential": [
            [
             0,
             "#0d0887"
            ],
            [
             0.1111111111111111,
             "#46039f"
            ],
            [
             0.2222222222222222,
             "#7201a8"
            ],
            [
             0.3333333333333333,
             "#9c179e"
            ],
            [
             0.4444444444444444,
             "#bd3786"
            ],
            [
             0.5555555555555556,
             "#d8576b"
            ],
            [
             0.6666666666666666,
             "#ed7953"
            ],
            [
             0.7777777777777778,
             "#fb9f3a"
            ],
            [
             0.8888888888888888,
             "#fdca26"
            ],
            [
             1,
             "#f0f921"
            ]
           ],
           "sequentialminus": [
            [
             0,
             "#0d0887"
            ],
            [
             0.1111111111111111,
             "#46039f"
            ],
            [
             0.2222222222222222,
             "#7201a8"
            ],
            [
             0.3333333333333333,
             "#9c179e"
            ],
            [
             0.4444444444444444,
             "#bd3786"
            ],
            [
             0.5555555555555556,
             "#d8576b"
            ],
            [
             0.6666666666666666,
             "#ed7953"
            ],
            [
             0.7777777777777778,
             "#fb9f3a"
            ],
            [
             0.8888888888888888,
             "#fdca26"
            ],
            [
             1,
             "#f0f921"
            ]
           ]
          },
          "colorway": [
           "#636efa",
           "#EF553B",
           "#00cc96",
           "#ab63fa",
           "#FFA15A",
           "#19d3f3",
           "#FF6692",
           "#B6E880",
           "#FF97FF",
           "#FECB52"
          ],
          "font": {
           "color": "#2a3f5f"
          },
          "geo": {
           "bgcolor": "white",
           "lakecolor": "white",
           "landcolor": "#E5ECF6",
           "showlakes": true,
           "showland": true,
           "subunitcolor": "white"
          },
          "hoverlabel": {
           "align": "left"
          },
          "hovermode": "closest",
          "mapbox": {
           "style": "light"
          },
          "paper_bgcolor": "white",
          "plot_bgcolor": "#E5ECF6",
          "polar": {
           "angularaxis": {
            "gridcolor": "white",
            "linecolor": "white",
            "ticks": ""
           },
           "bgcolor": "#E5ECF6",
           "radialaxis": {
            "gridcolor": "white",
            "linecolor": "white",
            "ticks": ""
           }
          },
          "scene": {
           "xaxis": {
            "backgroundcolor": "#E5ECF6",
            "gridcolor": "white",
            "gridwidth": 2,
            "linecolor": "white",
            "showbackground": true,
            "ticks": "",
            "zerolinecolor": "white"
           },
           "yaxis": {
            "backgroundcolor": "#E5ECF6",
            "gridcolor": "white",
            "gridwidth": 2,
            "linecolor": "white",
            "showbackground": true,
            "ticks": "",
            "zerolinecolor": "white"
           },
           "zaxis": {
            "backgroundcolor": "#E5ECF6",
            "gridcolor": "white",
            "gridwidth": 2,
            "linecolor": "white",
            "showbackground": true,
            "ticks": "",
            "zerolinecolor": "white"
           }
          },
          "shapedefaults": {
           "line": {
            "color": "#2a3f5f"
           }
          },
          "ternary": {
           "aaxis": {
            "gridcolor": "white",
            "linecolor": "white",
            "ticks": ""
           },
           "baxis": {
            "gridcolor": "white",
            "linecolor": "white",
            "ticks": ""
           },
           "bgcolor": "#E5ECF6",
           "caxis": {
            "gridcolor": "white",
            "linecolor": "white",
            "ticks": ""
           }
          },
          "title": {
           "x": 0.05
          },
          "xaxis": {
           "automargin": true,
           "gridcolor": "white",
           "linecolor": "white",
           "ticks": "",
           "title": {
            "standoff": 15
           },
           "zerolinecolor": "white",
           "zerolinewidth": 2
          },
          "yaxis": {
           "automargin": true,
           "gridcolor": "white",
           "linecolor": "white",
           "ticks": "",
           "title": {
            "standoff": 15
           },
           "zerolinecolor": "white",
           "zerolinewidth": 2
          }
         }
        },
        "title": {
         "text": "Ventas por Día de la Semana y Franja Horaria"
        },
        "xaxis": {
         "anchor": "y",
         "domain": [
          0,
          1
         ],
         "title": {
          "text": "dia_semana"
         }
        },
        "yaxis": {
         "anchor": "x",
         "domain": [
          0,
          1
         ],
         "title": {
          "text": "Total Ventas"
         }
        }
       }
      }
     },
     "metadata": {},
     "output_type": "display_data"
    }
   ],
   "source": [
    "import pandas as pd\n",
    "import plotly.express as px\n",
    "\n",
    "ventas_dia_franja = (data\n",
    "    .groupby(['dia_semana', 'franja_horaria'])['Venta'].sum()\n",
    "    .reset_index(name='Total_Ventas')\n",
    ")\n",
    "\n",
    "total_ventas_por_dia = ventas_dia_franja.groupby('dia_semana')['Total_Ventas'].sum().reset_index()\n",
    "total_ventas_por_dia.rename(columns={'Total_Ventas': 'Total_Ventas_Dia'}, inplace=True)\n",
    "ventas_dia_franja = ventas_dia_franja.merge(total_ventas_por_dia, on='dia_semana')\n",
    "ventas_dia_franja['Porcentaje'] = (ventas_dia_franja['Total_Ventas'] / ventas_dia_franja['Total_Ventas_Dia']) * 100\n",
    "\n",
    "\n",
    "fig = px.bar(\n",
    "    ventas_dia_franja,\n",
    "    x='dia_semana',\n",
    "    y='Total_Ventas',\n",
    "    color='franja_horaria',\n",
    "    title='Ventas por Día de la Semana y Franja Horaria',\n",
    "    labels={'Total_Ventas': 'Total Ventas'},\n",
    "    text=ventas_dia_franja['Porcentaje'].round(1).astype(str) + '%',\n",
    ")\n",
    "\n",
    "fig.show()"
   ]
  },
  {
   "cell_type": "code",
   "execution_count": 882,
   "metadata": {},
   "outputs": [
    {
     "name": "stderr",
     "output_type": "stream",
     "text": [
      "C:\\Users\\JUANC\\AppData\\Local\\Temp\\ipykernel_17676\\2944072089.py:2: FutureWarning:\n",
      "\n",
      "The default of observed=False is deprecated and will be changed to True in a future version of pandas. Pass observed=False to retain current behavior or observed=True to adopt the future default and silence this warning.\n",
      "\n",
      "C:\\Users\\JUANC\\AppData\\Local\\Temp\\ipykernel_17676\\2944072089.py:9: FutureWarning:\n",
      "\n",
      "The default of observed=False is deprecated and will be changed to True in a future version of pandas. Pass observed=False to retain current behavior or observed=True to adopt the future default and silence this warning.\n",
      "\n",
      "c:\\Users\\JUANC\\OneDrive\\Documents\\Pruebas Tecnicas\\Skandia\\.venv\\Lib\\site-packages\\plotly\\express\\_core.py:1727: FutureWarning:\n",
      "\n",
      "The default of observed=False is deprecated and will be changed to True in a future version of pandas. Pass observed=False to retain current behavior or observed=True to adopt the future default and silence this warning.\n",
      "\n",
      "c:\\Users\\JUANC\\OneDrive\\Documents\\Pruebas Tecnicas\\Skandia\\.venv\\Lib\\site-packages\\plotly\\express\\_core.py:1727: FutureWarning:\n",
      "\n",
      "The default of observed=False is deprecated and will be changed to True in a future version of pandas. Pass observed=False to retain current behavior or observed=True to adopt the future default and silence this warning.\n",
      "\n"
     ]
    },
    {
     "data": {
      "application/vnd.plotly.v1+json": {
       "config": {
        "plotlyServerURL": "https://plot.ly"
       },
       "data": [
        {
         "branchvalues": "total",
         "customdata": [
          [
           null
          ],
          [
           null
          ],
          [
           null
          ],
          [
           null
          ],
          [
           null
          ],
          [
           15042975
          ],
          [
           null
          ],
          [
           27574904
          ],
          [
           29707615
          ],
          [
           31084027
          ],
          [
           34154745
          ],
          [
           39708668
          ],
          [
           24831402
          ],
          [
           25560213
          ],
          [
           null
          ],
          [
           null
          ],
          [
           null
          ],
          [
           null
          ],
          [
           null
          ],
          [
           null
          ],
          [
           16133651
          ],
          [
           26817702
          ],
          [
           33160743
          ],
          [
           35142006
          ],
          [
           34643855
          ],
          [
           44299728
          ],
          [
           24453323
          ],
          [
           19716092
          ],
          [
           16886770
          ],
          [
           20037573
          ],
          [
           23099901
          ],
          [
           22525904
          ],
          [
           null
          ],
          [
           null
          ],
          [
           null
          ],
          [
           47371823
          ],
          [
           56533252
          ],
          [
           58926513
          ],
          [
           59555935
          ],
          [
           77754752
          ],
          [
           43506380
          ],
          [
           35225052
          ],
          [
           null
          ],
          [
           null
          ],
          [
           null
          ],
          [
           null
          ],
          [
           31409372
          ],
          [
           null
          ],
          [
           null
          ],
          [
           29717667
          ],
          [
           37557317
          ],
          [
           39134877
          ],
          [
           40835196
          ],
          [
           55802817
          ],
          [
           27412891
          ],
          [
           21021709
          ],
          [
           32971585.955702715
          ],
          [
           39493674.95382449
          ],
          [
           41297645.504531905
          ],
          [
           42190519.684927665
          ],
          [
           54967487.435751855
          ],
          [
           30204937.61417281
          ],
          [
           25370927.225778524
          ]
         ],
         "domain": {
          "x": [
           0,
           1
          ],
          "y": [
           0,
           1
          ]
         },
         "hovertemplate": "labels=%{label}<br>Venta_sum=%{value}<br>parent=%{parent}<br>id=%{id}<br>Total Ventas=%{color}<extra></extra>",
         "ids": [
          "Monday/LLV GASEOSA PET 400 ML",
          "Tuesday/LLV GASEOSA PET 400 ML",
          "Wednesday/LLV GASEOSA PET 400 ML",
          "Thursday/LLV GASEOSA PET 400 ML",
          "Friday/LLV GASEOSA PET 400 ML",
          "Saturday/LLV GASEOSA PET 400 ML",
          "Sunday/LLV GASEOSA PET 400 ML",
          "Monday/LLV PAPAS CORRAL MEDIANAS",
          "Tuesday/LLV PAPAS CORRAL MEDIANAS",
          "Wednesday/LLV PAPAS CORRAL MEDIANAS",
          "Thursday/LLV PAPAS CORRAL MEDIANAS",
          "Friday/LLV PAPAS CORRAL MEDIANAS",
          "Saturday/LLV PAPAS CORRAL MEDIANAS",
          "Sunday/LLV PAPAS CORRAL MEDIANAS",
          "Monday/LLV TODOTERRENO TOCINETA",
          "Tuesday/LLV TODOTERRENO TOCINETA",
          "Wednesday/LLV TODOTERRENO TOCINETA",
          "Thursday/LLV TODOTERRENO TOCINETA",
          "Friday/LLV TODOTERRENO TOCINETA",
          "Saturday/LLV TODOTERRENO TOCINETA",
          "Sunday/LLV TODOTERRENO TOCINETA",
          "Monday/PT GASEOSA DISPENSADOR 473 ML",
          "Tuesday/PT GASEOSA DISPENSADOR 473 ML",
          "Wednesday/PT GASEOSA DISPENSADOR 473 ML",
          "Thursday/PT GASEOSA DISPENSADOR 473 ML",
          "Friday/PT GASEOSA DISPENSADOR 473 ML",
          "Saturday/PT GASEOSA DISPENSADOR 473 ML",
          "Sunday/PT GASEOSA DISPENSADOR 473 ML",
          "Monday/PT PAPAS CORRAL GRANDES",
          "Tuesday/PT PAPAS CORRAL GRANDES",
          "Wednesday/PT PAPAS CORRAL GRANDES",
          "Thursday/PT PAPAS CORRAL GRANDES",
          "Friday/PT PAPAS CORRAL GRANDES",
          "Saturday/PT PAPAS CORRAL GRANDES",
          "Sunday/PT PAPAS CORRAL GRANDES",
          "Monday/PT PAPAS CORRAL MEDIANAS",
          "Tuesday/PT PAPAS CORRAL MEDIANAS",
          "Wednesday/PT PAPAS CORRAL MEDIANAS",
          "Thursday/PT PAPAS CORRAL MEDIANAS",
          "Friday/PT PAPAS CORRAL MEDIANAS",
          "Saturday/PT PAPAS CORRAL MEDIANAS",
          "Sunday/PT PAPAS CORRAL MEDIANAS",
          "Monday/PT TODOTERRENO CALLEJERA",
          "Tuesday/PT TODOTERRENO CALLEJERA",
          "Wednesday/PT TODOTERRENO CALLEJERA",
          "Thursday/PT TODOTERRENO CALLEJERA",
          "Friday/PT TODOTERRENO CALLEJERA",
          "Saturday/PT TODOTERRENO CALLEJERA",
          "Sunday/PT TODOTERRENO CALLEJERA",
          "Monday/PT TODOTERRENO TOCINETA",
          "Tuesday/PT TODOTERRENO TOCINETA",
          "Wednesday/PT TODOTERRENO TOCINETA",
          "Thursday/PT TODOTERRENO TOCINETA",
          "Friday/PT TODOTERRENO TOCINETA",
          "Saturday/PT TODOTERRENO TOCINETA",
          "Sunday/PT TODOTERRENO TOCINETA",
          "Monday",
          "Tuesday",
          "Wednesday",
          "Thursday",
          "Friday",
          "Saturday",
          "Sunday"
         ],
         "labels": [
          "LLV GASEOSA PET 400 ML",
          "LLV GASEOSA PET 400 ML",
          "LLV GASEOSA PET 400 ML",
          "LLV GASEOSA PET 400 ML",
          "LLV GASEOSA PET 400 ML",
          "LLV GASEOSA PET 400 ML",
          "LLV GASEOSA PET 400 ML",
          "LLV PAPAS CORRAL MEDIANAS",
          "LLV PAPAS CORRAL MEDIANAS",
          "LLV PAPAS CORRAL MEDIANAS",
          "LLV PAPAS CORRAL MEDIANAS",
          "LLV PAPAS CORRAL MEDIANAS",
          "LLV PAPAS CORRAL MEDIANAS",
          "LLV PAPAS CORRAL MEDIANAS",
          "LLV TODOTERRENO TOCINETA",
          "LLV TODOTERRENO TOCINETA",
          "LLV TODOTERRENO TOCINETA",
          "LLV TODOTERRENO TOCINETA",
          "LLV TODOTERRENO TOCINETA",
          "LLV TODOTERRENO TOCINETA",
          "LLV TODOTERRENO TOCINETA",
          "PT GASEOSA DISPENSADOR 473 ML",
          "PT GASEOSA DISPENSADOR 473 ML",
          "PT GASEOSA DISPENSADOR 473 ML",
          "PT GASEOSA DISPENSADOR 473 ML",
          "PT GASEOSA DISPENSADOR 473 ML",
          "PT GASEOSA DISPENSADOR 473 ML",
          "PT GASEOSA DISPENSADOR 473 ML",
          "PT PAPAS CORRAL GRANDES",
          "PT PAPAS CORRAL GRANDES",
          "PT PAPAS CORRAL GRANDES",
          "PT PAPAS CORRAL GRANDES",
          "PT PAPAS CORRAL GRANDES",
          "PT PAPAS CORRAL GRANDES",
          "PT PAPAS CORRAL GRANDES",
          "PT PAPAS CORRAL MEDIANAS",
          "PT PAPAS CORRAL MEDIANAS",
          "PT PAPAS CORRAL MEDIANAS",
          "PT PAPAS CORRAL MEDIANAS",
          "PT PAPAS CORRAL MEDIANAS",
          "PT PAPAS CORRAL MEDIANAS",
          "PT PAPAS CORRAL MEDIANAS",
          "PT TODOTERRENO CALLEJERA",
          "PT TODOTERRENO CALLEJERA",
          "PT TODOTERRENO CALLEJERA",
          "PT TODOTERRENO CALLEJERA",
          "PT TODOTERRENO CALLEJERA",
          "PT TODOTERRENO CALLEJERA",
          "PT TODOTERRENO CALLEJERA",
          "PT TODOTERRENO TOCINETA",
          "PT TODOTERRENO TOCINETA",
          "PT TODOTERRENO TOCINETA",
          "PT TODOTERRENO TOCINETA",
          "PT TODOTERRENO TOCINETA",
          "PT TODOTERRENO TOCINETA",
          "PT TODOTERRENO TOCINETA",
          "Monday",
          "Tuesday",
          "Wednesday",
          "Thursday",
          "Friday",
          "Saturday",
          "Sunday"
         ],
         "marker": {
          "coloraxis": "coloraxis",
          "colors": [
           null,
           null,
           null,
           null,
           null,
           15042975,
           null,
           27574904,
           29707615,
           31084027,
           34154745,
           39708668,
           24831402,
           25560213,
           null,
           null,
           null,
           null,
           null,
           null,
           16133651,
           26817702,
           33160743,
           35142006,
           34643855,
           44299728,
           24453323,
           19716092,
           16886770,
           20037573,
           23099901,
           22525904,
           null,
           null,
           null,
           47371823,
           56533252,
           58926513,
           59555935,
           77754752,
           43506380,
           35225052,
           null,
           null,
           null,
           null,
           31409372,
           null,
           null,
           29717667,
           37557317,
           39134877,
           40835196,
           55802817,
           27412891,
           21021709,
           32971585.955702715,
           39493674.95382449,
           41297645.504531905,
           42190519.684927665,
           54967487.435751855,
           30204937.61417281,
           25370927.225778524
          ]
         },
         "name": "",
         "parents": [
          "Monday",
          "Tuesday",
          "Wednesday",
          "Thursday",
          "Friday",
          "Saturday",
          "Sunday",
          "Monday",
          "Tuesday",
          "Wednesday",
          "Thursday",
          "Friday",
          "Saturday",
          "Sunday",
          "Monday",
          "Tuesday",
          "Wednesday",
          "Thursday",
          "Friday",
          "Saturday",
          "Sunday",
          "Monday",
          "Tuesday",
          "Wednesday",
          "Thursday",
          "Friday",
          "Saturday",
          "Sunday",
          "Monday",
          "Tuesday",
          "Wednesday",
          "Thursday",
          "Friday",
          "Saturday",
          "Sunday",
          "Monday",
          "Tuesday",
          "Wednesday",
          "Thursday",
          "Friday",
          "Saturday",
          "Sunday",
          "Monday",
          "Tuesday",
          "Wednesday",
          "Thursday",
          "Friday",
          "Saturday",
          "Sunday",
          "Monday",
          "Tuesday",
          "Wednesday",
          "Thursday",
          "Friday",
          "Saturday",
          "Sunday",
          "",
          "",
          "",
          "",
          "",
          "",
          ""
         ],
         "textfont": {
          "color": "black",
          "size": 16
         },
         "type": "treemap",
         "values": [
          0,
          0,
          0,
          0,
          0,
          15042975,
          0,
          27574904,
          29707615,
          31084027,
          34154745,
          39708668,
          24831402,
          25560213,
          0,
          0,
          0,
          0,
          0,
          0,
          16133651,
          26817702,
          33160743,
          35142006,
          34643855,
          44299728,
          24453323,
          19716092,
          16886770,
          20037573,
          23099901,
          22525904,
          0,
          0,
          0,
          47371823,
          56533252,
          58926513,
          59555935,
          77754752,
          43506380,
          35225052,
          0,
          0,
          0,
          0,
          31409372,
          0,
          0,
          29717667,
          37557317,
          39134877,
          40835196,
          55802817,
          27412891,
          21021709,
          148368866,
          176996500,
          187387324,
          191715635,
          248975337,
          135246971,
          117656717
         ]
        }
       ],
       "layout": {
        "coloraxis": {
         "colorbar": {
          "title": {
           "text": "Total Ventas"
          }
         },
         "colorscale": [
          [
           0,
           "rgb(255,245,240)"
          ],
          [
           0.125,
           "rgb(254,224,210)"
          ],
          [
           0.25,
           "rgb(252,187,161)"
          ],
          [
           0.375,
           "rgb(252,146,114)"
          ],
          [
           0.5,
           "rgb(251,106,74)"
          ],
          [
           0.625,
           "rgb(239,59,44)"
          ],
          [
           0.75,
           "rgb(203,24,29)"
          ],
          [
           0.875,
           "rgb(165,15,21)"
          ],
          [
           1,
           "rgb(103,0,13)"
          ]
         ]
        },
        "height": 800,
        "legend": {
         "tracegroupgap": 0
        },
        "template": {
         "data": {
          "bar": [
           {
            "error_x": {
             "color": "#2a3f5f"
            },
            "error_y": {
             "color": "#2a3f5f"
            },
            "marker": {
             "line": {
              "color": "#E5ECF6",
              "width": 0.5
             },
             "pattern": {
              "fillmode": "overlay",
              "size": 10,
              "solidity": 0.2
             }
            },
            "type": "bar"
           }
          ],
          "barpolar": [
           {
            "marker": {
             "line": {
              "color": "#E5ECF6",
              "width": 0.5
             },
             "pattern": {
              "fillmode": "overlay",
              "size": 10,
              "solidity": 0.2
             }
            },
            "type": "barpolar"
           }
          ],
          "carpet": [
           {
            "aaxis": {
             "endlinecolor": "#2a3f5f",
             "gridcolor": "white",
             "linecolor": "white",
             "minorgridcolor": "white",
             "startlinecolor": "#2a3f5f"
            },
            "baxis": {
             "endlinecolor": "#2a3f5f",
             "gridcolor": "white",
             "linecolor": "white",
             "minorgridcolor": "white",
             "startlinecolor": "#2a3f5f"
            },
            "type": "carpet"
           }
          ],
          "choropleth": [
           {
            "colorbar": {
             "outlinewidth": 0,
             "ticks": ""
            },
            "type": "choropleth"
           }
          ],
          "contour": [
           {
            "colorbar": {
             "outlinewidth": 0,
             "ticks": ""
            },
            "colorscale": [
             [
              0,
              "#0d0887"
             ],
             [
              0.1111111111111111,
              "#46039f"
             ],
             [
              0.2222222222222222,
              "#7201a8"
             ],
             [
              0.3333333333333333,
              "#9c179e"
             ],
             [
              0.4444444444444444,
              "#bd3786"
             ],
             [
              0.5555555555555556,
              "#d8576b"
             ],
             [
              0.6666666666666666,
              "#ed7953"
             ],
             [
              0.7777777777777778,
              "#fb9f3a"
             ],
             [
              0.8888888888888888,
              "#fdca26"
             ],
             [
              1,
              "#f0f921"
             ]
            ],
            "type": "contour"
           }
          ],
          "contourcarpet": [
           {
            "colorbar": {
             "outlinewidth": 0,
             "ticks": ""
            },
            "type": "contourcarpet"
           }
          ],
          "heatmap": [
           {
            "colorbar": {
             "outlinewidth": 0,
             "ticks": ""
            },
            "colorscale": [
             [
              0,
              "#0d0887"
             ],
             [
              0.1111111111111111,
              "#46039f"
             ],
             [
              0.2222222222222222,
              "#7201a8"
             ],
             [
              0.3333333333333333,
              "#9c179e"
             ],
             [
              0.4444444444444444,
              "#bd3786"
             ],
             [
              0.5555555555555556,
              "#d8576b"
             ],
             [
              0.6666666666666666,
              "#ed7953"
             ],
             [
              0.7777777777777778,
              "#fb9f3a"
             ],
             [
              0.8888888888888888,
              "#fdca26"
             ],
             [
              1,
              "#f0f921"
             ]
            ],
            "type": "heatmap"
           }
          ],
          "heatmapgl": [
           {
            "colorbar": {
             "outlinewidth": 0,
             "ticks": ""
            },
            "colorscale": [
             [
              0,
              "#0d0887"
             ],
             [
              0.1111111111111111,
              "#46039f"
             ],
             [
              0.2222222222222222,
              "#7201a8"
             ],
             [
              0.3333333333333333,
              "#9c179e"
             ],
             [
              0.4444444444444444,
              "#bd3786"
             ],
             [
              0.5555555555555556,
              "#d8576b"
             ],
             [
              0.6666666666666666,
              "#ed7953"
             ],
             [
              0.7777777777777778,
              "#fb9f3a"
             ],
             [
              0.8888888888888888,
              "#fdca26"
             ],
             [
              1,
              "#f0f921"
             ]
            ],
            "type": "heatmapgl"
           }
          ],
          "histogram": [
           {
            "marker": {
             "pattern": {
              "fillmode": "overlay",
              "size": 10,
              "solidity": 0.2
             }
            },
            "type": "histogram"
           }
          ],
          "histogram2d": [
           {
            "colorbar": {
             "outlinewidth": 0,
             "ticks": ""
            },
            "colorscale": [
             [
              0,
              "#0d0887"
             ],
             [
              0.1111111111111111,
              "#46039f"
             ],
             [
              0.2222222222222222,
              "#7201a8"
             ],
             [
              0.3333333333333333,
              "#9c179e"
             ],
             [
              0.4444444444444444,
              "#bd3786"
             ],
             [
              0.5555555555555556,
              "#d8576b"
             ],
             [
              0.6666666666666666,
              "#ed7953"
             ],
             [
              0.7777777777777778,
              "#fb9f3a"
             ],
             [
              0.8888888888888888,
              "#fdca26"
             ],
             [
              1,
              "#f0f921"
             ]
            ],
            "type": "histogram2d"
           }
          ],
          "histogram2dcontour": [
           {
            "colorbar": {
             "outlinewidth": 0,
             "ticks": ""
            },
            "colorscale": [
             [
              0,
              "#0d0887"
             ],
             [
              0.1111111111111111,
              "#46039f"
             ],
             [
              0.2222222222222222,
              "#7201a8"
             ],
             [
              0.3333333333333333,
              "#9c179e"
             ],
             [
              0.4444444444444444,
              "#bd3786"
             ],
             [
              0.5555555555555556,
              "#d8576b"
             ],
             [
              0.6666666666666666,
              "#ed7953"
             ],
             [
              0.7777777777777778,
              "#fb9f3a"
             ],
             [
              0.8888888888888888,
              "#fdca26"
             ],
             [
              1,
              "#f0f921"
             ]
            ],
            "type": "histogram2dcontour"
           }
          ],
          "mesh3d": [
           {
            "colorbar": {
             "outlinewidth": 0,
             "ticks": ""
            },
            "type": "mesh3d"
           }
          ],
          "parcoords": [
           {
            "line": {
             "colorbar": {
              "outlinewidth": 0,
              "ticks": ""
             }
            },
            "type": "parcoords"
           }
          ],
          "pie": [
           {
            "automargin": true,
            "type": "pie"
           }
          ],
          "scatter": [
           {
            "fillpattern": {
             "fillmode": "overlay",
             "size": 10,
             "solidity": 0.2
            },
            "type": "scatter"
           }
          ],
          "scatter3d": [
           {
            "line": {
             "colorbar": {
              "outlinewidth": 0,
              "ticks": ""
             }
            },
            "marker": {
             "colorbar": {
              "outlinewidth": 0,
              "ticks": ""
             }
            },
            "type": "scatter3d"
           }
          ],
          "scattercarpet": [
           {
            "marker": {
             "colorbar": {
              "outlinewidth": 0,
              "ticks": ""
             }
            },
            "type": "scattercarpet"
           }
          ],
          "scattergeo": [
           {
            "marker": {
             "colorbar": {
              "outlinewidth": 0,
              "ticks": ""
             }
            },
            "type": "scattergeo"
           }
          ],
          "scattergl": [
           {
            "marker": {
             "colorbar": {
              "outlinewidth": 0,
              "ticks": ""
             }
            },
            "type": "scattergl"
           }
          ],
          "scattermapbox": [
           {
            "marker": {
             "colorbar": {
              "outlinewidth": 0,
              "ticks": ""
             }
            },
            "type": "scattermapbox"
           }
          ],
          "scatterpolar": [
           {
            "marker": {
             "colorbar": {
              "outlinewidth": 0,
              "ticks": ""
             }
            },
            "type": "scatterpolar"
           }
          ],
          "scatterpolargl": [
           {
            "marker": {
             "colorbar": {
              "outlinewidth": 0,
              "ticks": ""
             }
            },
            "type": "scatterpolargl"
           }
          ],
          "scatterternary": [
           {
            "marker": {
             "colorbar": {
              "outlinewidth": 0,
              "ticks": ""
             }
            },
            "type": "scatterternary"
           }
          ],
          "surface": [
           {
            "colorbar": {
             "outlinewidth": 0,
             "ticks": ""
            },
            "colorscale": [
             [
              0,
              "#0d0887"
             ],
             [
              0.1111111111111111,
              "#46039f"
             ],
             [
              0.2222222222222222,
              "#7201a8"
             ],
             [
              0.3333333333333333,
              "#9c179e"
             ],
             [
              0.4444444444444444,
              "#bd3786"
             ],
             [
              0.5555555555555556,
              "#d8576b"
             ],
             [
              0.6666666666666666,
              "#ed7953"
             ],
             [
              0.7777777777777778,
              "#fb9f3a"
             ],
             [
              0.8888888888888888,
              "#fdca26"
             ],
             [
              1,
              "#f0f921"
             ]
            ],
            "type": "surface"
           }
          ],
          "table": [
           {
            "cells": {
             "fill": {
              "color": "#EBF0F8"
             },
             "line": {
              "color": "white"
             }
            },
            "header": {
             "fill": {
              "color": "#C8D4E3"
             },
             "line": {
              "color": "white"
             }
            },
            "type": "table"
           }
          ]
         },
         "layout": {
          "annotationdefaults": {
           "arrowcolor": "#2a3f5f",
           "arrowhead": 0,
           "arrowwidth": 1
          },
          "autotypenumbers": "strict",
          "coloraxis": {
           "colorbar": {
            "outlinewidth": 0,
            "ticks": ""
           }
          },
          "colorscale": {
           "diverging": [
            [
             0,
             "#8e0152"
            ],
            [
             0.1,
             "#c51b7d"
            ],
            [
             0.2,
             "#de77ae"
            ],
            [
             0.3,
             "#f1b6da"
            ],
            [
             0.4,
             "#fde0ef"
            ],
            [
             0.5,
             "#f7f7f7"
            ],
            [
             0.6,
             "#e6f5d0"
            ],
            [
             0.7,
             "#b8e186"
            ],
            [
             0.8,
             "#7fbc41"
            ],
            [
             0.9,
             "#4d9221"
            ],
            [
             1,
             "#276419"
            ]
           ],
           "sequential": [
            [
             0,
             "#0d0887"
            ],
            [
             0.1111111111111111,
             "#46039f"
            ],
            [
             0.2222222222222222,
             "#7201a8"
            ],
            [
             0.3333333333333333,
             "#9c179e"
            ],
            [
             0.4444444444444444,
             "#bd3786"
            ],
            [
             0.5555555555555556,
             "#d8576b"
            ],
            [
             0.6666666666666666,
             "#ed7953"
            ],
            [
             0.7777777777777778,
             "#fb9f3a"
            ],
            [
             0.8888888888888888,
             "#fdca26"
            ],
            [
             1,
             "#f0f921"
            ]
           ],
           "sequentialminus": [
            [
             0,
             "#0d0887"
            ],
            [
             0.1111111111111111,
             "#46039f"
            ],
            [
             0.2222222222222222,
             "#7201a8"
            ],
            [
             0.3333333333333333,
             "#9c179e"
            ],
            [
             0.4444444444444444,
             "#bd3786"
            ],
            [
             0.5555555555555556,
             "#d8576b"
            ],
            [
             0.6666666666666666,
             "#ed7953"
            ],
            [
             0.7777777777777778,
             "#fb9f3a"
            ],
            [
             0.8888888888888888,
             "#fdca26"
            ],
            [
             1,
             "#f0f921"
            ]
           ]
          },
          "colorway": [
           "#636efa",
           "#EF553B",
           "#00cc96",
           "#ab63fa",
           "#FFA15A",
           "#19d3f3",
           "#FF6692",
           "#B6E880",
           "#FF97FF",
           "#FECB52"
          ],
          "font": {
           "color": "#2a3f5f"
          },
          "geo": {
           "bgcolor": "white",
           "lakecolor": "white",
           "landcolor": "#E5ECF6",
           "showlakes": true,
           "showland": true,
           "subunitcolor": "white"
          },
          "hoverlabel": {
           "align": "left"
          },
          "hovermode": "closest",
          "mapbox": {
           "style": "light"
          },
          "paper_bgcolor": "white",
          "plot_bgcolor": "#E5ECF6",
          "polar": {
           "angularaxis": {
            "gridcolor": "white",
            "linecolor": "white",
            "ticks": ""
           },
           "bgcolor": "#E5ECF6",
           "radialaxis": {
            "gridcolor": "white",
            "linecolor": "white",
            "ticks": ""
           }
          },
          "scene": {
           "xaxis": {
            "backgroundcolor": "#E5ECF6",
            "gridcolor": "white",
            "gridwidth": 2,
            "linecolor": "white",
            "showbackground": true,
            "ticks": "",
            "zerolinecolor": "white"
           },
           "yaxis": {
            "backgroundcolor": "#E5ECF6",
            "gridcolor": "white",
            "gridwidth": 2,
            "linecolor": "white",
            "showbackground": true,
            "ticks": "",
            "zerolinecolor": "white"
           },
           "zaxis": {
            "backgroundcolor": "#E5ECF6",
            "gridcolor": "white",
            "gridwidth": 2,
            "linecolor": "white",
            "showbackground": true,
            "ticks": "",
            "zerolinecolor": "white"
           }
          },
          "shapedefaults": {
           "line": {
            "color": "#2a3f5f"
           }
          },
          "ternary": {
           "aaxis": {
            "gridcolor": "white",
            "linecolor": "white",
            "ticks": ""
           },
           "baxis": {
            "gridcolor": "white",
            "linecolor": "white",
            "ticks": ""
           },
           "bgcolor": "#E5ECF6",
           "caxis": {
            "gridcolor": "white",
            "linecolor": "white",
            "ticks": ""
           }
          },
          "title": {
           "x": 0.05
          },
          "xaxis": {
           "automargin": true,
           "gridcolor": "white",
           "linecolor": "white",
           "ticks": "",
           "title": {
            "standoff": 15
           },
           "zerolinecolor": "white",
           "zerolinewidth": 2
          },
          "yaxis": {
           "automargin": true,
           "gridcolor": "white",
           "linecolor": "white",
           "ticks": "",
           "title": {
            "standoff": 15
           },
           "zerolinecolor": "white",
           "zerolinewidth": 2
          }
         }
        },
        "title": {
         "text": "Top 5 Productos Vendidos por Día de la Semana"
        },
        "width": 1000
       }
      }
     },
     "metadata": {},
     "output_type": "display_data"
    }
   ],
   "source": [
    "ventas_producto_dia = (data\n",
    "    .groupby(['dia_semana', 'nombre item'])['Venta']\n",
    "    .sum()\n",
    "    .reset_index()\n",
    ")\n",
    "\n",
    "top_5_productos_dia = (ventas_producto_dia\n",
    "    .sort_values(by=['dia_semana', 'Venta'], ascending=False)\n",
    "    .groupby('dia_semana')\n",
    "    .head(5)\n",
    ")\n",
    "\n",
    "fig = px.treemap(\n",
    "    top_5_productos_dia,\n",
    "    path=['dia_semana', 'nombre item'],\n",
    "    values='Venta',\n",
    "    title='Top 5 Productos Vendidos por Día de la Semana',\n",
    "    color='Venta',\n",
    "    color_continuous_scale='Reds',\n",
    "    labels={'Venta': 'Total Ventas'}, width=1000, height = 800\n",
    ")\n",
    "\n",
    "fig.update_traces(textfont=dict(size=16, color='black'))\n",
    "\n",
    "fig.show()"
   ]
  },
  {
   "cell_type": "code",
   "execution_count": 883,
   "metadata": {},
   "outputs": [
    {
     "name": "stderr",
     "output_type": "stream",
     "text": [
      "C:\\Users\\JUANC\\AppData\\Local\\Temp\\ipykernel_17676\\987488074.py:2: FutureWarning:\n",
      "\n",
      "The default of observed=False is deprecated and will be changed to True in a future version of pandas. Pass observed=False to retain current behavior or observed=True to adopt the future default and silence this warning.\n",
      "\n",
      "C:\\Users\\JUANC\\AppData\\Local\\Temp\\ipykernel_17676\\987488074.py:9: FutureWarning:\n",
      "\n",
      "The default of observed=False is deprecated and will be changed to True in a future version of pandas. Pass observed=False to retain current behavior or observed=True to adopt the future default and silence this warning.\n",
      "\n",
      "c:\\Users\\JUANC\\OneDrive\\Documents\\Pruebas Tecnicas\\Skandia\\.venv\\Lib\\site-packages\\plotly\\express\\_core.py:1727: FutureWarning:\n",
      "\n",
      "The default of observed=False is deprecated and will be changed to True in a future version of pandas. Pass observed=False to retain current behavior or observed=True to adopt the future default and silence this warning.\n",
      "\n",
      "c:\\Users\\JUANC\\OneDrive\\Documents\\Pruebas Tecnicas\\Skandia\\.venv\\Lib\\site-packages\\plotly\\express\\_core.py:1727: FutureWarning:\n",
      "\n",
      "The default of observed=False is deprecated and will be changed to True in a future version of pandas. Pass observed=False to retain current behavior or observed=True to adopt the future default and silence this warning.\n",
      "\n"
     ]
    },
    {
     "data": {
      "application/vnd.plotly.v1+json": {
       "config": {
        "plotlyServerURL": "https://plot.ly"
       },
       "data": [
        {
         "branchvalues": "total",
         "customdata": [
          [
           17099931
          ],
          [
           null
          ],
          [
           null
          ],
          [
           14776759
          ],
          [
           null
          ],
          [
           null
          ],
          [
           17126641
          ],
          [
           null
          ],
          [
           46103258
          ],
          [
           27752563
          ],
          [
           109443122
          ],
          [
           75425889
          ],
          [
           11307524
          ],
          [
           null
          ],
          [
           null
          ],
          [
           null
          ],
          [
           165298121
          ],
          [
           48578474
          ],
          [
           null
          ],
          [
           106716320
          ],
          [
           null
          ],
          [
           null
          ],
          [
           287806956
          ],
          [
           82711303
          ],
          [
           null
          ],
          [
           191869641.99999997
          ],
          [
           54308828
          ],
          [
           19328649.391865168
          ],
          [
           197804767.0980434
          ],
          [
           65005690.88434233
          ]
         ],
         "domain": {
          "x": [
           0,
           1
          ],
          "y": [
           0,
           1
          ]
         },
         "hovertemplate": "labels=%{label}<br>Venta_sum=%{value}<br>parent=%{parent}<br>id=%{id}<br>Total Ventas=%{color}<extra></extra>",
         "ids": [
          "Mañana/LLV CORRAL",
          "Tarde/LLV CORRAL",
          "Noche/LLV CORRAL",
          "Mañana/LLV CORRAL QUESO",
          "Tarde/LLV CORRAL QUESO",
          "Noche/LLV CORRAL QUESO",
          "Mañana/LLV GASEOSA PET 400 ML",
          "Tarde/LLV GASEOSA PET 400 ML",
          "Noche/LLV GASEOSA PET 400 ML",
          "Mañana/LLV PAPAS CORRAL MEDIANAS",
          "Tarde/LLV PAPAS CORRAL MEDIANAS",
          "Noche/LLV PAPAS CORRAL MEDIANAS",
          "Mañana/LLV TODOTERRENO TOCINETA",
          "Tarde/LLV TODOTERRENO TOCINETA",
          "Noche/LLV TODOTERRENO TOCINETA",
          "Mañana/PT GASEOSA DISPENSADOR 473 ML",
          "Tarde/PT GASEOSA DISPENSADOR 473 ML",
          "Noche/PT GASEOSA DISPENSADOR 473 ML",
          "Mañana/PT PAPAS CORRAL GRANDES",
          "Tarde/PT PAPAS CORRAL GRANDES",
          "Noche/PT PAPAS CORRAL GRANDES",
          "Mañana/PT PAPAS CORRAL MEDIANAS",
          "Tarde/PT PAPAS CORRAL MEDIANAS",
          "Noche/PT PAPAS CORRAL MEDIANAS",
          "Mañana/PT TODOTERRENO TOCINETA",
          "Tarde/PT TODOTERRENO TOCINETA",
          "Noche/PT TODOTERRENO TOCINETA",
          "Mañana",
          "Tarde",
          "Noche"
         ],
         "labels": [
          "LLV CORRAL",
          "LLV CORRAL",
          "LLV CORRAL",
          "LLV CORRAL QUESO",
          "LLV CORRAL QUESO",
          "LLV CORRAL QUESO",
          "LLV GASEOSA PET 400 ML",
          "LLV GASEOSA PET 400 ML",
          "LLV GASEOSA PET 400 ML",
          "LLV PAPAS CORRAL MEDIANAS",
          "LLV PAPAS CORRAL MEDIANAS",
          "LLV PAPAS CORRAL MEDIANAS",
          "LLV TODOTERRENO TOCINETA",
          "LLV TODOTERRENO TOCINETA",
          "LLV TODOTERRENO TOCINETA",
          "PT GASEOSA DISPENSADOR 473 ML",
          "PT GASEOSA DISPENSADOR 473 ML",
          "PT GASEOSA DISPENSADOR 473 ML",
          "PT PAPAS CORRAL GRANDES",
          "PT PAPAS CORRAL GRANDES",
          "PT PAPAS CORRAL GRANDES",
          "PT PAPAS CORRAL MEDIANAS",
          "PT PAPAS CORRAL MEDIANAS",
          "PT PAPAS CORRAL MEDIANAS",
          "PT TODOTERRENO TOCINETA",
          "PT TODOTERRENO TOCINETA",
          "PT TODOTERRENO TOCINETA",
          "Mañana",
          "Tarde",
          "Noche"
         ],
         "marker": {
          "coloraxis": "coloraxis",
          "colors": [
           17099931,
           null,
           null,
           14776759,
           null,
           null,
           17126641,
           null,
           46103258,
           27752563,
           109443122,
           75425889,
           11307524,
           null,
           null,
           null,
           165298121,
           48578474,
           null,
           106716320,
           null,
           null,
           287806956,
           82711303,
           null,
           191869641.99999997,
           54308828,
           19328649.391865168,
           197804767.0980434,
           65005690.88434233
          ]
         },
         "name": "",
         "parents": [
          "Mañana",
          "Tarde",
          "Noche",
          "Mañana",
          "Tarde",
          "Noche",
          "Mañana",
          "Tarde",
          "Noche",
          "Mañana",
          "Tarde",
          "Noche",
          "Mañana",
          "Tarde",
          "Noche",
          "Mañana",
          "Tarde",
          "Noche",
          "Mañana",
          "Tarde",
          "Noche",
          "Mañana",
          "Tarde",
          "Noche",
          "Mañana",
          "Tarde",
          "Noche",
          "",
          "",
          ""
         ],
         "textfont": {
          "color": "black",
          "size": 16
         },
         "type": "treemap",
         "values": [
          17099931,
          0,
          0,
          14776759,
          0,
          0,
          17126641,
          0,
          46103258,
          27752563,
          109443122,
          75425889,
          11307524,
          0,
          0,
          0,
          165298121,
          48578474,
          0,
          106716320,
          0,
          0,
          287806956,
          82711303,
          0,
          191869642,
          54308828,
          88063418,
          861134161,
          307127752
         ]
        }
       ],
       "layout": {
        "coloraxis": {
         "colorbar": {
          "title": {
           "text": "Total Ventas"
          }
         },
         "colorscale": [
          [
           0,
           "rgb(255,245,240)"
          ],
          [
           0.125,
           "rgb(254,224,210)"
          ],
          [
           0.25,
           "rgb(252,187,161)"
          ],
          [
           0.375,
           "rgb(252,146,114)"
          ],
          [
           0.5,
           "rgb(251,106,74)"
          ],
          [
           0.625,
           "rgb(239,59,44)"
          ],
          [
           0.75,
           "rgb(203,24,29)"
          ],
          [
           0.875,
           "rgb(165,15,21)"
          ],
          [
           1,
           "rgb(103,0,13)"
          ]
         ]
        },
        "height": 800,
        "legend": {
         "tracegroupgap": 0
        },
        "template": {
         "data": {
          "bar": [
           {
            "error_x": {
             "color": "#2a3f5f"
            },
            "error_y": {
             "color": "#2a3f5f"
            },
            "marker": {
             "line": {
              "color": "#E5ECF6",
              "width": 0.5
             },
             "pattern": {
              "fillmode": "overlay",
              "size": 10,
              "solidity": 0.2
             }
            },
            "type": "bar"
           }
          ],
          "barpolar": [
           {
            "marker": {
             "line": {
              "color": "#E5ECF6",
              "width": 0.5
             },
             "pattern": {
              "fillmode": "overlay",
              "size": 10,
              "solidity": 0.2
             }
            },
            "type": "barpolar"
           }
          ],
          "carpet": [
           {
            "aaxis": {
             "endlinecolor": "#2a3f5f",
             "gridcolor": "white",
             "linecolor": "white",
             "minorgridcolor": "white",
             "startlinecolor": "#2a3f5f"
            },
            "baxis": {
             "endlinecolor": "#2a3f5f",
             "gridcolor": "white",
             "linecolor": "white",
             "minorgridcolor": "white",
             "startlinecolor": "#2a3f5f"
            },
            "type": "carpet"
           }
          ],
          "choropleth": [
           {
            "colorbar": {
             "outlinewidth": 0,
             "ticks": ""
            },
            "type": "choropleth"
           }
          ],
          "contour": [
           {
            "colorbar": {
             "outlinewidth": 0,
             "ticks": ""
            },
            "colorscale": [
             [
              0,
              "#0d0887"
             ],
             [
              0.1111111111111111,
              "#46039f"
             ],
             [
              0.2222222222222222,
              "#7201a8"
             ],
             [
              0.3333333333333333,
              "#9c179e"
             ],
             [
              0.4444444444444444,
              "#bd3786"
             ],
             [
              0.5555555555555556,
              "#d8576b"
             ],
             [
              0.6666666666666666,
              "#ed7953"
             ],
             [
              0.7777777777777778,
              "#fb9f3a"
             ],
             [
              0.8888888888888888,
              "#fdca26"
             ],
             [
              1,
              "#f0f921"
             ]
            ],
            "type": "contour"
           }
          ],
          "contourcarpet": [
           {
            "colorbar": {
             "outlinewidth": 0,
             "ticks": ""
            },
            "type": "contourcarpet"
           }
          ],
          "heatmap": [
           {
            "colorbar": {
             "outlinewidth": 0,
             "ticks": ""
            },
            "colorscale": [
             [
              0,
              "#0d0887"
             ],
             [
              0.1111111111111111,
              "#46039f"
             ],
             [
              0.2222222222222222,
              "#7201a8"
             ],
             [
              0.3333333333333333,
              "#9c179e"
             ],
             [
              0.4444444444444444,
              "#bd3786"
             ],
             [
              0.5555555555555556,
              "#d8576b"
             ],
             [
              0.6666666666666666,
              "#ed7953"
             ],
             [
              0.7777777777777778,
              "#fb9f3a"
             ],
             [
              0.8888888888888888,
              "#fdca26"
             ],
             [
              1,
              "#f0f921"
             ]
            ],
            "type": "heatmap"
           }
          ],
          "heatmapgl": [
           {
            "colorbar": {
             "outlinewidth": 0,
             "ticks": ""
            },
            "colorscale": [
             [
              0,
              "#0d0887"
             ],
             [
              0.1111111111111111,
              "#46039f"
             ],
             [
              0.2222222222222222,
              "#7201a8"
             ],
             [
              0.3333333333333333,
              "#9c179e"
             ],
             [
              0.4444444444444444,
              "#bd3786"
             ],
             [
              0.5555555555555556,
              "#d8576b"
             ],
             [
              0.6666666666666666,
              "#ed7953"
             ],
             [
              0.7777777777777778,
              "#fb9f3a"
             ],
             [
              0.8888888888888888,
              "#fdca26"
             ],
             [
              1,
              "#f0f921"
             ]
            ],
            "type": "heatmapgl"
           }
          ],
          "histogram": [
           {
            "marker": {
             "pattern": {
              "fillmode": "overlay",
              "size": 10,
              "solidity": 0.2
             }
            },
            "type": "histogram"
           }
          ],
          "histogram2d": [
           {
            "colorbar": {
             "outlinewidth": 0,
             "ticks": ""
            },
            "colorscale": [
             [
              0,
              "#0d0887"
             ],
             [
              0.1111111111111111,
              "#46039f"
             ],
             [
              0.2222222222222222,
              "#7201a8"
             ],
             [
              0.3333333333333333,
              "#9c179e"
             ],
             [
              0.4444444444444444,
              "#bd3786"
             ],
             [
              0.5555555555555556,
              "#d8576b"
             ],
             [
              0.6666666666666666,
              "#ed7953"
             ],
             [
              0.7777777777777778,
              "#fb9f3a"
             ],
             [
              0.8888888888888888,
              "#fdca26"
             ],
             [
              1,
              "#f0f921"
             ]
            ],
            "type": "histogram2d"
           }
          ],
          "histogram2dcontour": [
           {
            "colorbar": {
             "outlinewidth": 0,
             "ticks": ""
            },
            "colorscale": [
             [
              0,
              "#0d0887"
             ],
             [
              0.1111111111111111,
              "#46039f"
             ],
             [
              0.2222222222222222,
              "#7201a8"
             ],
             [
              0.3333333333333333,
              "#9c179e"
             ],
             [
              0.4444444444444444,
              "#bd3786"
             ],
             [
              0.5555555555555556,
              "#d8576b"
             ],
             [
              0.6666666666666666,
              "#ed7953"
             ],
             [
              0.7777777777777778,
              "#fb9f3a"
             ],
             [
              0.8888888888888888,
              "#fdca26"
             ],
             [
              1,
              "#f0f921"
             ]
            ],
            "type": "histogram2dcontour"
           }
          ],
          "mesh3d": [
           {
            "colorbar": {
             "outlinewidth": 0,
             "ticks": ""
            },
            "type": "mesh3d"
           }
          ],
          "parcoords": [
           {
            "line": {
             "colorbar": {
              "outlinewidth": 0,
              "ticks": ""
             }
            },
            "type": "parcoords"
           }
          ],
          "pie": [
           {
            "automargin": true,
            "type": "pie"
           }
          ],
          "scatter": [
           {
            "fillpattern": {
             "fillmode": "overlay",
             "size": 10,
             "solidity": 0.2
            },
            "type": "scatter"
           }
          ],
          "scatter3d": [
           {
            "line": {
             "colorbar": {
              "outlinewidth": 0,
              "ticks": ""
             }
            },
            "marker": {
             "colorbar": {
              "outlinewidth": 0,
              "ticks": ""
             }
            },
            "type": "scatter3d"
           }
          ],
          "scattercarpet": [
           {
            "marker": {
             "colorbar": {
              "outlinewidth": 0,
              "ticks": ""
             }
            },
            "type": "scattercarpet"
           }
          ],
          "scattergeo": [
           {
            "marker": {
             "colorbar": {
              "outlinewidth": 0,
              "ticks": ""
             }
            },
            "type": "scattergeo"
           }
          ],
          "scattergl": [
           {
            "marker": {
             "colorbar": {
              "outlinewidth": 0,
              "ticks": ""
             }
            },
            "type": "scattergl"
           }
          ],
          "scattermapbox": [
           {
            "marker": {
             "colorbar": {
              "outlinewidth": 0,
              "ticks": ""
             }
            },
            "type": "scattermapbox"
           }
          ],
          "scatterpolar": [
           {
            "marker": {
             "colorbar": {
              "outlinewidth": 0,
              "ticks": ""
             }
            },
            "type": "scatterpolar"
           }
          ],
          "scatterpolargl": [
           {
            "marker": {
             "colorbar": {
              "outlinewidth": 0,
              "ticks": ""
             }
            },
            "type": "scatterpolargl"
           }
          ],
          "scatterternary": [
           {
            "marker": {
             "colorbar": {
              "outlinewidth": 0,
              "ticks": ""
             }
            },
            "type": "scatterternary"
           }
          ],
          "surface": [
           {
            "colorbar": {
             "outlinewidth": 0,
             "ticks": ""
            },
            "colorscale": [
             [
              0,
              "#0d0887"
             ],
             [
              0.1111111111111111,
              "#46039f"
             ],
             [
              0.2222222222222222,
              "#7201a8"
             ],
             [
              0.3333333333333333,
              "#9c179e"
             ],
             [
              0.4444444444444444,
              "#bd3786"
             ],
             [
              0.5555555555555556,
              "#d8576b"
             ],
             [
              0.6666666666666666,
              "#ed7953"
             ],
             [
              0.7777777777777778,
              "#fb9f3a"
             ],
             [
              0.8888888888888888,
              "#fdca26"
             ],
             [
              1,
              "#f0f921"
             ]
            ],
            "type": "surface"
           }
          ],
          "table": [
           {
            "cells": {
             "fill": {
              "color": "#EBF0F8"
             },
             "line": {
              "color": "white"
             }
            },
            "header": {
             "fill": {
              "color": "#C8D4E3"
             },
             "line": {
              "color": "white"
             }
            },
            "type": "table"
           }
          ]
         },
         "layout": {
          "annotationdefaults": {
           "arrowcolor": "#2a3f5f",
           "arrowhead": 0,
           "arrowwidth": 1
          },
          "autotypenumbers": "strict",
          "coloraxis": {
           "colorbar": {
            "outlinewidth": 0,
            "ticks": ""
           }
          },
          "colorscale": {
           "diverging": [
            [
             0,
             "#8e0152"
            ],
            [
             0.1,
             "#c51b7d"
            ],
            [
             0.2,
             "#de77ae"
            ],
            [
             0.3,
             "#f1b6da"
            ],
            [
             0.4,
             "#fde0ef"
            ],
            [
             0.5,
             "#f7f7f7"
            ],
            [
             0.6,
             "#e6f5d0"
            ],
            [
             0.7,
             "#b8e186"
            ],
            [
             0.8,
             "#7fbc41"
            ],
            [
             0.9,
             "#4d9221"
            ],
            [
             1,
             "#276419"
            ]
           ],
           "sequential": [
            [
             0,
             "#0d0887"
            ],
            [
             0.1111111111111111,
             "#46039f"
            ],
            [
             0.2222222222222222,
             "#7201a8"
            ],
            [
             0.3333333333333333,
             "#9c179e"
            ],
            [
             0.4444444444444444,
             "#bd3786"
            ],
            [
             0.5555555555555556,
             "#d8576b"
            ],
            [
             0.6666666666666666,
             "#ed7953"
            ],
            [
             0.7777777777777778,
             "#fb9f3a"
            ],
            [
             0.8888888888888888,
             "#fdca26"
            ],
            [
             1,
             "#f0f921"
            ]
           ],
           "sequentialminus": [
            [
             0,
             "#0d0887"
            ],
            [
             0.1111111111111111,
             "#46039f"
            ],
            [
             0.2222222222222222,
             "#7201a8"
            ],
            [
             0.3333333333333333,
             "#9c179e"
            ],
            [
             0.4444444444444444,
             "#bd3786"
            ],
            [
             0.5555555555555556,
             "#d8576b"
            ],
            [
             0.6666666666666666,
             "#ed7953"
            ],
            [
             0.7777777777777778,
             "#fb9f3a"
            ],
            [
             0.8888888888888888,
             "#fdca26"
            ],
            [
             1,
             "#f0f921"
            ]
           ]
          },
          "colorway": [
           "#636efa",
           "#EF553B",
           "#00cc96",
           "#ab63fa",
           "#FFA15A",
           "#19d3f3",
           "#FF6692",
           "#B6E880",
           "#FF97FF",
           "#FECB52"
          ],
          "font": {
           "color": "#2a3f5f"
          },
          "geo": {
           "bgcolor": "white",
           "lakecolor": "white",
           "landcolor": "#E5ECF6",
           "showlakes": true,
           "showland": true,
           "subunitcolor": "white"
          },
          "hoverlabel": {
           "align": "left"
          },
          "hovermode": "closest",
          "mapbox": {
           "style": "light"
          },
          "paper_bgcolor": "white",
          "plot_bgcolor": "#E5ECF6",
          "polar": {
           "angularaxis": {
            "gridcolor": "white",
            "linecolor": "white",
            "ticks": ""
           },
           "bgcolor": "#E5ECF6",
           "radialaxis": {
            "gridcolor": "white",
            "linecolor": "white",
            "ticks": ""
           }
          },
          "scene": {
           "xaxis": {
            "backgroundcolor": "#E5ECF6",
            "gridcolor": "white",
            "gridwidth": 2,
            "linecolor": "white",
            "showbackground": true,
            "ticks": "",
            "zerolinecolor": "white"
           },
           "yaxis": {
            "backgroundcolor": "#E5ECF6",
            "gridcolor": "white",
            "gridwidth": 2,
            "linecolor": "white",
            "showbackground": true,
            "ticks": "",
            "zerolinecolor": "white"
           },
           "zaxis": {
            "backgroundcolor": "#E5ECF6",
            "gridcolor": "white",
            "gridwidth": 2,
            "linecolor": "white",
            "showbackground": true,
            "ticks": "",
            "zerolinecolor": "white"
           }
          },
          "shapedefaults": {
           "line": {
            "color": "#2a3f5f"
           }
          },
          "ternary": {
           "aaxis": {
            "gridcolor": "white",
            "linecolor": "white",
            "ticks": ""
           },
           "baxis": {
            "gridcolor": "white",
            "linecolor": "white",
            "ticks": ""
           },
           "bgcolor": "#E5ECF6",
           "caxis": {
            "gridcolor": "white",
            "linecolor": "white",
            "ticks": ""
           }
          },
          "title": {
           "x": 0.05
          },
          "xaxis": {
           "automargin": true,
           "gridcolor": "white",
           "linecolor": "white",
           "ticks": "",
           "title": {
            "standoff": 15
           },
           "zerolinecolor": "white",
           "zerolinewidth": 2
          },
          "yaxis": {
           "automargin": true,
           "gridcolor": "white",
           "linecolor": "white",
           "ticks": "",
           "title": {
            "standoff": 15
           },
           "zerolinecolor": "white",
           "zerolinewidth": 2
          }
         }
        },
        "title": {
         "text": "Top 5 Productos Vendidos por Día de la Semana"
        },
        "width": 1000
       }
      }
     },
     "metadata": {},
     "output_type": "display_data"
    }
   ],
   "source": [
    "ventas_producto_dia = (data\n",
    "    .groupby(['franja_horaria', 'nombre item'])['Venta']\n",
    "    .sum()\n",
    "    .reset_index()\n",
    ")\n",
    "\n",
    "top_5_productos_dia = (ventas_producto_dia\n",
    "    .sort_values(by=['franja_horaria', 'Venta'], ascending=False)\n",
    "    .groupby('franja_horaria')\n",
    "    .head(5)\n",
    ")\n",
    "\n",
    "fig = px.treemap(\n",
    "    top_5_productos_dia,\n",
    "    path=['franja_horaria', 'nombre item'],\n",
    "    values='Venta',\n",
    "    title='Top 5 Productos Vendidos por Día de la Semana',\n",
    "    color='Venta',\n",
    "    color_continuous_scale='Reds',\n",
    "    labels={'Venta': 'Total Ventas'}, width=1000, height = 800\n",
    ")\n",
    "\n",
    "fig.update_traces(textfont=dict(size=16, color='black'))\n",
    "\n",
    "fig.show()"
   ]
  },
  {
   "cell_type": "code",
   "execution_count": 884,
   "metadata": {},
   "outputs": [
    {
     "data": {
      "application/vnd.plotly.v1+json": {
       "config": {
        "plotlyServerURL": "https://plot.ly"
       },
       "data": [
        {
         "branchvalues": "total",
         "customdata": [
          [
           39152759
          ],
          [
           523047
          ],
          [
           3610387
          ],
          [
           3320957
          ],
          [
           3086291
          ],
          [
           6429998
          ],
          [
           33985591
          ],
          [
           2248588
          ],
          [
           1876597
          ],
          [
           25754506
          ],
          [
           24439415
          ],
          [
           5572725
          ],
          [
           129369548
          ],
          [
           72088380
          ],
          [
           212621573.99999997
          ],
          [
           121223520.99999999
          ],
          [
           22977361
          ],
          [
           34672149
          ],
          [
           3281836
          ],
          [
           16422757
          ],
          [
           6206403
          ],
          [
           2898802
          ],
          [
           66286989
          ],
          [
           43538449
          ],
          [
           36886647
          ],
          [
           37790976
          ],
          [
           127284454
          ],
          [
           18874425
          ],
          [
           8703
          ],
          [
           1990088
          ],
          [
           3463710
          ],
          [
           2251156
          ],
          [
           2735138
          ],
          [
           24816880
          ],
          [
           23804820
          ],
          [
           218233449
          ],
          [
           25979211
          ],
          [
           27162505
          ],
          [
           23603611
          ],
          [
           25029384
          ],
          [
           20290555
          ],
          [
           140934250
          ],
          [
           378873707
          ],
          [
           131481040.99999999
          ],
          [
           105841620
          ],
          [
           251482473.99999997
          ],
          [
           19751682
          ],
          [
           25217737
          ],
          [
           15891069
          ],
          [
           15619417
          ],
          [
           22129646
          ],
          [
           255730777.33095527
          ],
          [
           5325562.340984141
          ],
          [
           146123016.9685692
          ],
          [
           14827088.510084286
          ],
          [
           2600377.157175358
          ],
          [
           23968809.100386918
          ],
          [
           166319600.18932027
          ],
          [
           28835737.14468155
          ],
          [
           39152759
          ],
          [
           25387784.66602941
          ],
          [
           16868779.895200633
          ]
         ],
         "domain": {
          "x": [
           0,
           1
          ],
          "y": [
           0,
           1
          ]
         },
         "hovertemplate": "labels=%{label}<br>Venta_sum=%{value}<br>parent=%{parent}<br>id=%{id}<br>Total Ventas=%{color}<extra></extra>",
         "ids": [
          "Otros/DOMICILIOS RESTAURANTES EC",
          "Corralito/K CORRALITO INFANTIL FILETES DE PECHUGA",
          "Corralito/K MENU INFANTIL CORRALITO HAMBURGUESA",
          "Wrap/K WRAP LOMO EN COMBO",
          "Adiciones/LLV AD. TAJADA DE QUESO TIPO MOZAREL",
          "Adiciones/LLV AD. TOCINETA (PICADA)",
          "Bebidas/LLV AGUA CRISTAL BOTELLA 600 ML",
          "Corralito/LLV CORRALITO FILETES DE POLLO",
          "Desayunos/LLV DESAYUNO TODOTERRENO",
          "Ensaladas/LLV ENSALADA COBB",
          "Ensaladas/LLV ENSALADA CORRAL",
          "Adiciones/LLV FILETES DE PECHUGA APANADO X5",
          "Bebidas/LLV GASEOSA PET 400 ML",
          "Acompañamientos/LLV PAPAS CORRAL GRANDES",
          "Acompañamientos/LLV PAPAS CORRAL MEDIANAS",
          "Hamburguesas/LLV TODOTERRENO TOCINETA",
          "Vaqueros/LLV VAQUERO CALLEJERO",
          "Vaqueros/LLV VAQUERO ESPECIAL",
          "Wrap/LLV WRAP LOMO",
          "Wrap/LLV WRAP POLLO",
          "Adiciones/PT AD. TOCINETA (PICADA)",
          "Adiciones/PT AD. UNA TAJADA DE QUESO TIPO MOZARELL",
          "Bebidas/PT AGUA CRISTAL BOTELLA 600 ML",
          "Bebidas/PT AGUA H2OH BOTELLA 400 ML",
          "Acompañamientos/PT ANILLOS DE CEBOLLA",
          "Malteadas, postres y helados/PT CONO UNA BOLA GALLETA",
          "Hamburguesas/PT CORRAL QUESO",
          "Corralito/PT CORRALITO INFANTIL HAMBURGUESA",
          "Corralito/PT CORRALITO INFANTIL VAQUERO",
          "Desayunos/PT DESAYUNO 3 QUESOS TOCINETA",
          "Desayunos/PT DESAYUNO QUESO TOCINETA",
          "Desayunos/PT DESAYUNO RANCHERO",
          "Desayunos/PT DESAYUNO TODOTERRENO",
          "Ensaladas/PT ENSALADA COBB",
          "Ensaladas/PT ENSALADA CORRAL",
          "Bebidas/PT GASEOSA DISPENSADOR 473 ML",
          "Malteadas, postres y helados/PT MALTEADA DE CHOCOLATE 355 ML",
          "Malteadas, postres y helados/PT MALTEADA DE FRUTOS DEL BOSQUE 355 ML",
          "Malteadas, postres y helados/PT MALTEADA DE MACADAMIA 355 ML",
          "Malteadas, postres y helados/PT MALTEADA DE VAINILLA 355 ML",
          "Ensaladas/PT MR TEA DISPENSADOR 473 ML",
          "Acompañamientos/PT PAPAS CORRAL GRANDES",
          "Acompañamientos/PT PAPAS CORRAL MEDIANAS",
          "Hamburguesas/PT TODOTERRENO CALLEJERA",
          "Hamburguesas/PT TODOTERRENO CLASICA",
          "Hamburguesas/PT TODOTERRENO TOCINETA",
          "Vaqueros/PT VAQUERO CALLEJERO",
          "Vaqueros/PT VAQUERO ESPECIAL",
          "Vaqueros/PT VAQUERO HAWAIANO",
          "Wrap/PT WRAP LOMO",
          "Wrap/PT WRAP POLLO",
          "Acompañamientos",
          "Adiciones",
          "Bebidas",
          "Corralito",
          "Desayunos",
          "Ensaladas",
          "Hamburguesas",
          "Malteadas, postres y helados",
          "Otros",
          "Vaqueros",
          "Wrap"
         ],
         "labels": [
          "DOMICILIOS RESTAURANTES EC",
          "K CORRALITO INFANTIL FILETES DE PECHUGA",
          "K MENU INFANTIL CORRALITO HAMBURGUESA",
          "K WRAP LOMO EN COMBO",
          "LLV AD. TAJADA DE QUESO TIPO MOZAREL",
          "LLV AD. TOCINETA (PICADA)",
          "LLV AGUA CRISTAL BOTELLA 600 ML",
          "LLV CORRALITO FILETES DE POLLO",
          "LLV DESAYUNO TODOTERRENO",
          "LLV ENSALADA COBB",
          "LLV ENSALADA CORRAL",
          "LLV FILETES DE PECHUGA APANADO X5",
          "LLV GASEOSA PET 400 ML",
          "LLV PAPAS CORRAL GRANDES",
          "LLV PAPAS CORRAL MEDIANAS",
          "LLV TODOTERRENO TOCINETA",
          "LLV VAQUERO CALLEJERO",
          "LLV VAQUERO ESPECIAL",
          "LLV WRAP LOMO",
          "LLV WRAP POLLO",
          "PT AD. TOCINETA (PICADA)",
          "PT AD. UNA TAJADA DE QUESO TIPO MOZARELL",
          "PT AGUA CRISTAL BOTELLA 600 ML",
          "PT AGUA H2OH BOTELLA 400 ML",
          "PT ANILLOS DE CEBOLLA",
          "PT CONO UNA BOLA GALLETA",
          "PT CORRAL QUESO",
          "PT CORRALITO INFANTIL HAMBURGUESA",
          "PT CORRALITO INFANTIL VAQUERO",
          "PT DESAYUNO 3 QUESOS TOCINETA",
          "PT DESAYUNO QUESO TOCINETA",
          "PT DESAYUNO RANCHERO",
          "PT DESAYUNO TODOTERRENO",
          "PT ENSALADA COBB",
          "PT ENSALADA CORRAL",
          "PT GASEOSA DISPENSADOR 473 ML",
          "PT MALTEADA DE CHOCOLATE 355 ML",
          "PT MALTEADA DE FRUTOS DEL BOSQUE 355 ML",
          "PT MALTEADA DE MACADAMIA 355 ML",
          "PT MALTEADA DE VAINILLA 355 ML",
          "PT MR TEA DISPENSADOR 473 ML",
          "PT PAPAS CORRAL GRANDES",
          "PT PAPAS CORRAL MEDIANAS",
          "PT TODOTERRENO CALLEJERA",
          "PT TODOTERRENO CLASICA",
          "PT TODOTERRENO TOCINETA",
          "PT VAQUERO CALLEJERO",
          "PT VAQUERO ESPECIAL",
          "PT VAQUERO HAWAIANO",
          "PT WRAP LOMO",
          "PT WRAP POLLO",
          "Acompañamientos",
          "Adiciones",
          "Bebidas",
          "Corralito",
          "Desayunos",
          "Ensaladas",
          "Hamburguesas",
          "Malteadas, postres y helados",
          "Otros",
          "Vaqueros",
          "Wrap"
         ],
         "marker": {
          "coloraxis": "coloraxis",
          "colors": [
           39152759,
           523047,
           3610387,
           3320957,
           3086291,
           6429998,
           33985591,
           2248588,
           1876597,
           25754506,
           24439415,
           5572725,
           129369548,
           72088380,
           212621573.99999997,
           121223520.99999999,
           22977361,
           34672149,
           3281836,
           16422757,
           6206403,
           2898802,
           66286989,
           43538449,
           36886647,
           37790976,
           127284454,
           18874425,
           8703,
           1990088,
           3463710,
           2251156,
           2735138,
           24816880,
           23804820,
           218233449,
           25979211,
           27162505,
           23603611,
           25029384,
           20290555,
           140934250,
           378873707,
           131481040.99999999,
           105841620,
           251482473.99999997,
           19751682,
           25217737,
           15891069,
           15619417,
           22129646,
           255730777.33095527,
           5325562.340984141,
           146123016.9685692,
           14827088.510084286,
           2600377.157175358,
           23968809.100386918,
           166319600.18932027,
           28835737.14468155,
           39152759,
           25387784.66602941,
           16868779.895200633
          ]
         },
         "name": "",
         "parents": [
          "Otros",
          "Corralito",
          "Corralito",
          "Wrap",
          "Adiciones",
          "Adiciones",
          "Bebidas",
          "Corralito",
          "Desayunos",
          "Ensaladas",
          "Ensaladas",
          "Adiciones",
          "Bebidas",
          "Acompañamientos",
          "Acompañamientos",
          "Hamburguesas",
          "Vaqueros",
          "Vaqueros",
          "Wrap",
          "Wrap",
          "Adiciones",
          "Adiciones",
          "Bebidas",
          "Bebidas",
          "Acompañamientos",
          "Malteadas, postres y helados",
          "Hamburguesas",
          "Corralito",
          "Corralito",
          "Desayunos",
          "Desayunos",
          "Desayunos",
          "Desayunos",
          "Ensaladas",
          "Ensaladas",
          "Bebidas",
          "Malteadas, postres y helados",
          "Malteadas, postres y helados",
          "Malteadas, postres y helados",
          "Malteadas, postres y helados",
          "Ensaladas",
          "Acompañamientos",
          "Acompañamientos",
          "Hamburguesas",
          "Hamburguesas",
          "Hamburguesas",
          "Vaqueros",
          "Vaqueros",
          "Vaqueros",
          "Wrap",
          "Wrap",
          "",
          "",
          "",
          "",
          "",
          "",
          "",
          "",
          "",
          "",
          ""
         ],
         "textfont": {
          "color": "black",
          "size": 16
         },
         "type": "treemap",
         "values": [
          39152759,
          523047,
          3610387,
          3320957,
          3086291,
          6429998,
          33985591,
          2248588,
          1876597,
          25754506,
          24439415,
          5572725,
          129369548,
          72088380,
          212621574,
          121223521,
          22977361,
          34672149,
          3281836,
          16422757,
          6206403,
          2898802,
          66286989,
          43538449,
          36886647,
          37790976,
          127284454,
          18874425,
          8703,
          1990088,
          3463710,
          2251156,
          2735138,
          24816880,
          23804820,
          218233449,
          25979211,
          27162505,
          23603611,
          25029384,
          20290555,
          140934250,
          378873707,
          131481041,
          105841620,
          251482474,
          19751682,
          25217737,
          15891069,
          15619417,
          22129646,
          841404558,
          24194219,
          491414026,
          25265150,
          12316689,
          119106176,
          737313110,
          139565687,
          39152759,
          118509998,
          60774613
         ]
        }
       ],
       "layout": {
        "coloraxis": {
         "colorbar": {
          "title": {
           "text": "Total Ventas"
          }
         },
         "colorscale": [
          [
           0,
           "rgb(255,245,240)"
          ],
          [
           0.125,
           "rgb(254,224,210)"
          ],
          [
           0.25,
           "rgb(252,187,161)"
          ],
          [
           0.375,
           "rgb(252,146,114)"
          ],
          [
           0.5,
           "rgb(251,106,74)"
          ],
          [
           0.625,
           "rgb(239,59,44)"
          ],
          [
           0.75,
           "rgb(203,24,29)"
          ],
          [
           0.875,
           "rgb(165,15,21)"
          ],
          [
           1,
           "rgb(103,0,13)"
          ]
         ]
        },
        "height": 800,
        "legend": {
         "tracegroupgap": 0
        },
        "template": {
         "data": {
          "bar": [
           {
            "error_x": {
             "color": "#2a3f5f"
            },
            "error_y": {
             "color": "#2a3f5f"
            },
            "marker": {
             "line": {
              "color": "#E5ECF6",
              "width": 0.5
             },
             "pattern": {
              "fillmode": "overlay",
              "size": 10,
              "solidity": 0.2
             }
            },
            "type": "bar"
           }
          ],
          "barpolar": [
           {
            "marker": {
             "line": {
              "color": "#E5ECF6",
              "width": 0.5
             },
             "pattern": {
              "fillmode": "overlay",
              "size": 10,
              "solidity": 0.2
             }
            },
            "type": "barpolar"
           }
          ],
          "carpet": [
           {
            "aaxis": {
             "endlinecolor": "#2a3f5f",
             "gridcolor": "white",
             "linecolor": "white",
             "minorgridcolor": "white",
             "startlinecolor": "#2a3f5f"
            },
            "baxis": {
             "endlinecolor": "#2a3f5f",
             "gridcolor": "white",
             "linecolor": "white",
             "minorgridcolor": "white",
             "startlinecolor": "#2a3f5f"
            },
            "type": "carpet"
           }
          ],
          "choropleth": [
           {
            "colorbar": {
             "outlinewidth": 0,
             "ticks": ""
            },
            "type": "choropleth"
           }
          ],
          "contour": [
           {
            "colorbar": {
             "outlinewidth": 0,
             "ticks": ""
            },
            "colorscale": [
             [
              0,
              "#0d0887"
             ],
             [
              0.1111111111111111,
              "#46039f"
             ],
             [
              0.2222222222222222,
              "#7201a8"
             ],
             [
              0.3333333333333333,
              "#9c179e"
             ],
             [
              0.4444444444444444,
              "#bd3786"
             ],
             [
              0.5555555555555556,
              "#d8576b"
             ],
             [
              0.6666666666666666,
              "#ed7953"
             ],
             [
              0.7777777777777778,
              "#fb9f3a"
             ],
             [
              0.8888888888888888,
              "#fdca26"
             ],
             [
              1,
              "#f0f921"
             ]
            ],
            "type": "contour"
           }
          ],
          "contourcarpet": [
           {
            "colorbar": {
             "outlinewidth": 0,
             "ticks": ""
            },
            "type": "contourcarpet"
           }
          ],
          "heatmap": [
           {
            "colorbar": {
             "outlinewidth": 0,
             "ticks": ""
            },
            "colorscale": [
             [
              0,
              "#0d0887"
             ],
             [
              0.1111111111111111,
              "#46039f"
             ],
             [
              0.2222222222222222,
              "#7201a8"
             ],
             [
              0.3333333333333333,
              "#9c179e"
             ],
             [
              0.4444444444444444,
              "#bd3786"
             ],
             [
              0.5555555555555556,
              "#d8576b"
             ],
             [
              0.6666666666666666,
              "#ed7953"
             ],
             [
              0.7777777777777778,
              "#fb9f3a"
             ],
             [
              0.8888888888888888,
              "#fdca26"
             ],
             [
              1,
              "#f0f921"
             ]
            ],
            "type": "heatmap"
           }
          ],
          "heatmapgl": [
           {
            "colorbar": {
             "outlinewidth": 0,
             "ticks": ""
            },
            "colorscale": [
             [
              0,
              "#0d0887"
             ],
             [
              0.1111111111111111,
              "#46039f"
             ],
             [
              0.2222222222222222,
              "#7201a8"
             ],
             [
              0.3333333333333333,
              "#9c179e"
             ],
             [
              0.4444444444444444,
              "#bd3786"
             ],
             [
              0.5555555555555556,
              "#d8576b"
             ],
             [
              0.6666666666666666,
              "#ed7953"
             ],
             [
              0.7777777777777778,
              "#fb9f3a"
             ],
             [
              0.8888888888888888,
              "#fdca26"
             ],
             [
              1,
              "#f0f921"
             ]
            ],
            "type": "heatmapgl"
           }
          ],
          "histogram": [
           {
            "marker": {
             "pattern": {
              "fillmode": "overlay",
              "size": 10,
              "solidity": 0.2
             }
            },
            "type": "histogram"
           }
          ],
          "histogram2d": [
           {
            "colorbar": {
             "outlinewidth": 0,
             "ticks": ""
            },
            "colorscale": [
             [
              0,
              "#0d0887"
             ],
             [
              0.1111111111111111,
              "#46039f"
             ],
             [
              0.2222222222222222,
              "#7201a8"
             ],
             [
              0.3333333333333333,
              "#9c179e"
             ],
             [
              0.4444444444444444,
              "#bd3786"
             ],
             [
              0.5555555555555556,
              "#d8576b"
             ],
             [
              0.6666666666666666,
              "#ed7953"
             ],
             [
              0.7777777777777778,
              "#fb9f3a"
             ],
             [
              0.8888888888888888,
              "#fdca26"
             ],
             [
              1,
              "#f0f921"
             ]
            ],
            "type": "histogram2d"
           }
          ],
          "histogram2dcontour": [
           {
            "colorbar": {
             "outlinewidth": 0,
             "ticks": ""
            },
            "colorscale": [
             [
              0,
              "#0d0887"
             ],
             [
              0.1111111111111111,
              "#46039f"
             ],
             [
              0.2222222222222222,
              "#7201a8"
             ],
             [
              0.3333333333333333,
              "#9c179e"
             ],
             [
              0.4444444444444444,
              "#bd3786"
             ],
             [
              0.5555555555555556,
              "#d8576b"
             ],
             [
              0.6666666666666666,
              "#ed7953"
             ],
             [
              0.7777777777777778,
              "#fb9f3a"
             ],
             [
              0.8888888888888888,
              "#fdca26"
             ],
             [
              1,
              "#f0f921"
             ]
            ],
            "type": "histogram2dcontour"
           }
          ],
          "mesh3d": [
           {
            "colorbar": {
             "outlinewidth": 0,
             "ticks": ""
            },
            "type": "mesh3d"
           }
          ],
          "parcoords": [
           {
            "line": {
             "colorbar": {
              "outlinewidth": 0,
              "ticks": ""
             }
            },
            "type": "parcoords"
           }
          ],
          "pie": [
           {
            "automargin": true,
            "type": "pie"
           }
          ],
          "scatter": [
           {
            "fillpattern": {
             "fillmode": "overlay",
             "size": 10,
             "solidity": 0.2
            },
            "type": "scatter"
           }
          ],
          "scatter3d": [
           {
            "line": {
             "colorbar": {
              "outlinewidth": 0,
              "ticks": ""
             }
            },
            "marker": {
             "colorbar": {
              "outlinewidth": 0,
              "ticks": ""
             }
            },
            "type": "scatter3d"
           }
          ],
          "scattercarpet": [
           {
            "marker": {
             "colorbar": {
              "outlinewidth": 0,
              "ticks": ""
             }
            },
            "type": "scattercarpet"
           }
          ],
          "scattergeo": [
           {
            "marker": {
             "colorbar": {
              "outlinewidth": 0,
              "ticks": ""
             }
            },
            "type": "scattergeo"
           }
          ],
          "scattergl": [
           {
            "marker": {
             "colorbar": {
              "outlinewidth": 0,
              "ticks": ""
             }
            },
            "type": "scattergl"
           }
          ],
          "scattermapbox": [
           {
            "marker": {
             "colorbar": {
              "outlinewidth": 0,
              "ticks": ""
             }
            },
            "type": "scattermapbox"
           }
          ],
          "scatterpolar": [
           {
            "marker": {
             "colorbar": {
              "outlinewidth": 0,
              "ticks": ""
             }
            },
            "type": "scatterpolar"
           }
          ],
          "scatterpolargl": [
           {
            "marker": {
             "colorbar": {
              "outlinewidth": 0,
              "ticks": ""
             }
            },
            "type": "scatterpolargl"
           }
          ],
          "scatterternary": [
           {
            "marker": {
             "colorbar": {
              "outlinewidth": 0,
              "ticks": ""
             }
            },
            "type": "scatterternary"
           }
          ],
          "surface": [
           {
            "colorbar": {
             "outlinewidth": 0,
             "ticks": ""
            },
            "colorscale": [
             [
              0,
              "#0d0887"
             ],
             [
              0.1111111111111111,
              "#46039f"
             ],
             [
              0.2222222222222222,
              "#7201a8"
             ],
             [
              0.3333333333333333,
              "#9c179e"
             ],
             [
              0.4444444444444444,
              "#bd3786"
             ],
             [
              0.5555555555555556,
              "#d8576b"
             ],
             [
              0.6666666666666666,
              "#ed7953"
             ],
             [
              0.7777777777777778,
              "#fb9f3a"
             ],
             [
              0.8888888888888888,
              "#fdca26"
             ],
             [
              1,
              "#f0f921"
             ]
            ],
            "type": "surface"
           }
          ],
          "table": [
           {
            "cells": {
             "fill": {
              "color": "#EBF0F8"
             },
             "line": {
              "color": "white"
             }
            },
            "header": {
             "fill": {
              "color": "#C8D4E3"
             },
             "line": {
              "color": "white"
             }
            },
            "type": "table"
           }
          ]
         },
         "layout": {
          "annotationdefaults": {
           "arrowcolor": "#2a3f5f",
           "arrowhead": 0,
           "arrowwidth": 1
          },
          "autotypenumbers": "strict",
          "coloraxis": {
           "colorbar": {
            "outlinewidth": 0,
            "ticks": ""
           }
          },
          "colorscale": {
           "diverging": [
            [
             0,
             "#8e0152"
            ],
            [
             0.1,
             "#c51b7d"
            ],
            [
             0.2,
             "#de77ae"
            ],
            [
             0.3,
             "#f1b6da"
            ],
            [
             0.4,
             "#fde0ef"
            ],
            [
             0.5,
             "#f7f7f7"
            ],
            [
             0.6,
             "#e6f5d0"
            ],
            [
             0.7,
             "#b8e186"
            ],
            [
             0.8,
             "#7fbc41"
            ],
            [
             0.9,
             "#4d9221"
            ],
            [
             1,
             "#276419"
            ]
           ],
           "sequential": [
            [
             0,
             "#0d0887"
            ],
            [
             0.1111111111111111,
             "#46039f"
            ],
            [
             0.2222222222222222,
             "#7201a8"
            ],
            [
             0.3333333333333333,
             "#9c179e"
            ],
            [
             0.4444444444444444,
             "#bd3786"
            ],
            [
             0.5555555555555556,
             "#d8576b"
            ],
            [
             0.6666666666666666,
             "#ed7953"
            ],
            [
             0.7777777777777778,
             "#fb9f3a"
            ],
            [
             0.8888888888888888,
             "#fdca26"
            ],
            [
             1,
             "#f0f921"
            ]
           ],
           "sequentialminus": [
            [
             0,
             "#0d0887"
            ],
            [
             0.1111111111111111,
             "#46039f"
            ],
            [
             0.2222222222222222,
             "#7201a8"
            ],
            [
             0.3333333333333333,
             "#9c179e"
            ],
            [
             0.4444444444444444,
             "#bd3786"
            ],
            [
             0.5555555555555556,
             "#d8576b"
            ],
            [
             0.6666666666666666,
             "#ed7953"
            ],
            [
             0.7777777777777778,
             "#fb9f3a"
            ],
            [
             0.8888888888888888,
             "#fdca26"
            ],
            [
             1,
             "#f0f921"
            ]
           ]
          },
          "colorway": [
           "#636efa",
           "#EF553B",
           "#00cc96",
           "#ab63fa",
           "#FFA15A",
           "#19d3f3",
           "#FF6692",
           "#B6E880",
           "#FF97FF",
           "#FECB52"
          ],
          "font": {
           "color": "#2a3f5f"
          },
          "geo": {
           "bgcolor": "white",
           "lakecolor": "white",
           "landcolor": "#E5ECF6",
           "showlakes": true,
           "showland": true,
           "subunitcolor": "white"
          },
          "hoverlabel": {
           "align": "left"
          },
          "hovermode": "closest",
          "mapbox": {
           "style": "light"
          },
          "paper_bgcolor": "white",
          "plot_bgcolor": "#E5ECF6",
          "polar": {
           "angularaxis": {
            "gridcolor": "white",
            "linecolor": "white",
            "ticks": ""
           },
           "bgcolor": "#E5ECF6",
           "radialaxis": {
            "gridcolor": "white",
            "linecolor": "white",
            "ticks": ""
           }
          },
          "scene": {
           "xaxis": {
            "backgroundcolor": "#E5ECF6",
            "gridcolor": "white",
            "gridwidth": 2,
            "linecolor": "white",
            "showbackground": true,
            "ticks": "",
            "zerolinecolor": "white"
           },
           "yaxis": {
            "backgroundcolor": "#E5ECF6",
            "gridcolor": "white",
            "gridwidth": 2,
            "linecolor": "white",
            "showbackground": true,
            "ticks": "",
            "zerolinecolor": "white"
           },
           "zaxis": {
            "backgroundcolor": "#E5ECF6",
            "gridcolor": "white",
            "gridwidth": 2,
            "linecolor": "white",
            "showbackground": true,
            "ticks": "",
            "zerolinecolor": "white"
           }
          },
          "shapedefaults": {
           "line": {
            "color": "#2a3f5f"
           }
          },
          "ternary": {
           "aaxis": {
            "gridcolor": "white",
            "linecolor": "white",
            "ticks": ""
           },
           "baxis": {
            "gridcolor": "white",
            "linecolor": "white",
            "ticks": ""
           },
           "bgcolor": "#E5ECF6",
           "caxis": {
            "gridcolor": "white",
            "linecolor": "white",
            "ticks": ""
           }
          },
          "title": {
           "x": 0.05
          },
          "xaxis": {
           "automargin": true,
           "gridcolor": "white",
           "linecolor": "white",
           "ticks": "",
           "title": {
            "standoff": 15
           },
           "zerolinecolor": "white",
           "zerolinewidth": 2
          },
          "yaxis": {
           "automargin": true,
           "gridcolor": "white",
           "linecolor": "white",
           "ticks": "",
           "title": {
            "standoff": 15
           },
           "zerolinecolor": "white",
           "zerolinewidth": 2
          }
         }
        },
        "title": {
         "text": "Top 5 Productos Vendidos por Día de la Semana"
        },
        "width": 1000
       }
      }
     },
     "metadata": {},
     "output_type": "display_data"
    }
   ],
   "source": [
    "ventas_producto_dia = (data\n",
    "    .groupby(['Item', 'nombre item'])['Venta']\n",
    "    .sum()\n",
    "    .reset_index()\n",
    ")\n",
    "\n",
    "top_5_productos_dia = (ventas_producto_dia\n",
    "    .sort_values(by=['Item', 'Venta'], ascending=False)\n",
    "    .groupby('Item')\n",
    "    .head(5)\n",
    ")\n",
    "\n",
    "fig = px.treemap(\n",
    "    top_5_productos_dia,\n",
    "    path=['Item', 'nombre item'],\n",
    "    values='Venta',\n",
    "    title='Top 5 Productos Vendidos por Día de la Semana',\n",
    "    color='Venta',\n",
    "    color_continuous_scale='Reds',\n",
    "    labels={'Venta': 'Total Ventas'}, width=1000, height = 800\n",
    ")\n",
    "\n",
    "fig.update_traces(textfont=dict(size=16, color='black'))\n",
    "\n",
    "fig.show()"
   ]
  },
  {
   "cell_type": "code",
   "execution_count": 885,
   "metadata": {},
   "outputs": [
    {
     "data": {
      "application/vnd.plotly.v1+json": {
       "config": {
        "plotlyServerURL": "https://plot.ly"
       },
       "data": [
        {
         "branchvalues": "total",
         "customdata": [
          [
           39152759
          ],
          [
           31708386
          ],
          [
           3176186
          ],
          [
           34298525
          ],
          [
           2717059
          ],
          [
           253796
          ],
          [
           934914
          ],
          [
           523047
          ],
          [
           3610387
          ],
          [
           3362059
          ],
          [
           5349770
          ],
          [
           30554121
          ],
          [
           21539335
          ],
          [
           57891877
          ],
          [
           3320957
          ],
          [
           3086291
          ],
          [
           6429998
          ],
          [
           33985591
          ],
          [
           247780
          ],
          [
           367591
          ],
          [
           152772
          ],
          [
           13117464
          ],
          [
           7052383
          ],
          [
           3929881
          ],
          [
           2248588
          ],
          [
           1876597
          ],
          [
           25754506
          ],
          [
           24439415
          ],
          [
           5572725
          ],
          [
           129369548
          ],
          [
           476414
          ],
          [
           1969637
          ],
          [
           26626894
          ],
          [
           21244118
          ],
          [
           72088380
          ],
          [
           212621573.99999997
          ],
          [
           7319934
          ],
          [
           139446
          ],
          [
           121223520.99999999
          ],
          [
           22977361
          ],
          [
           34672149
          ],
          [
           3281836
          ],
          [
           16422757
          ],
          [
           6206403
          ],
          [
           2898802
          ],
          [
           66286989
          ],
          [
           5252407
          ],
          [
           43538449
          ],
          [
           36886647
          ],
          [
           1353350
          ],
          [
           1457037
          ],
          [
           285277
          ],
          [
           4809512
          ],
          [
           1457367
          ],
          [
           8126052
          ],
          [
           13875289
          ],
          [
           11745395
          ],
          [
           37790976
          ],
          [
           27887730
          ],
          [
           46253054
          ],
          [
           127284454
          ],
          [
           14463168
          ],
          [
           938138
          ],
          [
           18874425
          ],
          [
           8703
          ],
          [
           1990088
          ],
          [
           3463710
          ],
          [
           2251156
          ],
          [
           2735138
          ],
          [
           24816880
          ],
          [
           23804820
          ],
          [
           218233449
          ],
          [
           24460390
          ],
          [
           32276395
          ],
          [
           928732
          ],
          [
           1356874
          ],
          [
           2660212
          ],
          [
           25979211
          ],
          [
           27162505
          ],
          [
           15555283
          ],
          [
           23603611
          ],
          [
           25029384
          ],
          [
           20290555
          ],
          [
           9519310
          ],
          [
           140934250
          ],
          [
           378873707
          ],
          [
           17330499
          ],
          [
           2512266
          ],
          [
           131481040.99999999
          ],
          [
           105841620
          ],
          [
           251482473.99999997
          ],
          [
           19751682
          ],
          [
           25217737
          ],
          [
           15891069
          ],
          [
           15619417
          ],
          [
           22129646
          ],
          [
           255730777.33095527
          ],
          [
           5325562.340984141
          ],
          [
           46565801.94830238
          ],
          [
           1812093.3231581615
          ],
          [
           3604821.6547494605
          ],
          [
           14827088.510084286
          ],
          [
           2600377.157175358
          ],
          [
           23968809.100386918
          ],
          [
           156147136.00515893
          ],
          [
           23628869.557469383
          ],
          [
           1878661.3068777327
          ],
          [
           24190646.655333605
          ],
          [
           39152759
          ],
          [
           30766746.147463474
          ],
          [
           4206895.539665537
          ],
          [
           166319600.18932027
          ],
          [
           39381151.619435094
          ],
          [
           25387784.66602941
          ],
          [
           10335399.324607922
          ],
          [
           2260825.5309874965
          ],
          [
           16868779.895200633
          ]
         ],
         "domain": {
          "x": [
           0,
           1
          ],
          "y": [
           0,
           1
          ]
         },
         "hovertemplate": "labels=%{label}<br>Venta_sum=%{value}<br>parent=%{parent}<br>id=%{id}<br>Total Ventas=%{color}<extra></extra>",
         "ids": [
          "Otros/DOMICILIOS RESTAURANTES EC",
          "Res - Combo/K CALLEJERA EN COMBO",
          "Pollo - Combo/K COMBO SANDWICH POLLO",
          "Res - Combo/K CORRAL EN COMBO",
          "Vegetal - Combo/K CORRAL VEK EN COMBO",
          "Vegetal/K CORRAL VEK INDIVIDUAL",
          "Vegetal - Combo/K CORRAL VEK SENCILLA EN COMBO",
          "Corralito/K CORRALITO INFANTIL FILETES DE PECHUGA",
          "Corralito/K MENU INFANTIL CORRALITO HAMBURGUESA",
          "Pollo - Combo/K POLLO MEXICANO EN COMBO",
          "Pollo - Combo/K POLLO PARILLERO EN COMBO",
          "Res - Combo/K TODOTERRENO CALLEJERA EN COMBO",
          "Res - Combo/K TODOTERRENO CLASICA EN COMBO",
          "Res - Combo/K TODOTERRENO TOCINETA EN COMBO",
          "Wrap/K WRAP LOMO EN COMBO",
          "Adiciones/LLV AD. TAJADA DE QUESO TIPO MOZAREL",
          "Adiciones/LLV AD. TOCINETA (PICADA)",
          "Agua/LLV AGUA CRISTAL BOTELLA 600 ML",
          "Cafe/LLV CAFE LATTE",
          "Cerveza/LLV CERVEZA CLUB COLOMBIA",
          "Cerveza/LLV CERVEZA CORONA",
          "Pollo/LLV CORRAL POLLO",
          "Vegetal/LLV CORRAL VEK",
          "Vegetal/LLV CORRAL VEK SENCILLA",
          "Corralito/LLV CORRALITO FILETES DE POLLO",
          "Desayunos/LLV DESAYUNO TODOTERRENO",
          "Ensaladas/LLV ENSALADA COBB",
          "Ensaladas/LLV ENSALADA CORRAL",
          "Adiciones/LLV FILETES DE PECHUGA APANADO X5",
          "Gaseosa/LLV GASEOSA PET 400 ML",
          "Jugo/LLV JUGO DE NARANJA 355ML",
          "Jugo/LLV JUGO HIT 200 ML",
          "Agua/LLV K AGUA H2OH BOTELLA 400 ML",
          "Gaseosa/LLV MR TEA BOTELLA 500 ML",
          "Acompañamientos/LLV PAPAS CORRAL GRANDES",
          "Acompañamientos/LLV PAPAS CORRAL MEDIANAS",
          "Pollo/LLV POLLO MEXICANO",
          "Cafe/LLV TINTO/CAFE TRADICIONAL",
          "Res/LLV TODOTERRENO TOCINETA",
          "Vaqueros/LLV VAQUERO CALLEJERO",
          "Vaqueros/LLV VAQUERO ESPECIAL",
          "Wrap/LLV WRAP LOMO",
          "Wrap/LLV WRAP POLLO",
          "Adiciones/PT AD. TOCINETA (PICADA)",
          "Adiciones/PT AD. UNA TAJADA DE QUESO TIPO MOZARELL",
          "Agua/PT AGUA CRISTAL BOTELLA 600 ML",
          "Agua/PT AGUA CRISTAL PARA ENSALADA",
          "Agua/PT AGUA H2OH BOTELLA 400 ML",
          "Acompañamientos/PT ANILLOS DE CEBOLLA",
          "Cafe/PT CAFE LATTE",
          "Cafe/PT CAPUCCINO",
          "Cerveza/PT CERVEZA AGUILA",
          "Cerveza/PT CERVEZA CLUB COLOMBIA",
          "Cerveza/PT CERVEZA CORONA",
          "Helado/PT CONO DOS BOLAS EN VASO",
          "Helado/PT CONO DOS BOLAS GALLETA",
          "Helado/PT CONO UNA BOLA EN VASO",
          "Helado/PT CONO UNA BOLA GALLETA",
          "Pollo/PT CORRAL POLLO",
          "Pollo/PT CORRAL POLLO PARRILLERO",
          "Res/PT CORRAL QUESO",
          "Vegetal/PT CORRAL VEK",
          "Vegetal/PT CORRAL VEK SENCILLA",
          "Corralito/PT CORRALITO INFANTIL HAMBURGUESA",
          "Corralito/PT CORRALITO INFANTIL VAQUERO",
          "Desayunos/PT DESAYUNO 3 QUESOS TOCINETA",
          "Desayunos/PT DESAYUNO QUESO TOCINETA",
          "Desayunos/PT DESAYUNO RANCHERO",
          "Desayunos/PT DESAYUNO TODOTERRENO",
          "Ensaladas/PT ENSALADA COBB",
          "Ensaladas/PT ENSALADA CORRAL",
          "Gaseosa/PT GASEOSA DISPENSADOR 473 ML",
          "Gaseosa/PT GASEOSA DISPENSADOR 650 ML",
          "Gaseosa/PT GASEOSA PET 400 ML",
          "Jugo/PT JUGO DE NARANJA 355ML",
          "Jugo/PT JUGO HIT 200 ML",
          "Jugo/PT JUGO HIT 200 ML CORRALITO",
          "Malteada/PT MALTEADA DE CHOCOLATE 355 ML",
          "Malteada/PT MALTEADA DE FRUTOS DEL BOSQUE 355 ML",
          "Malteada/PT MALTEADA DE FRUTOS DEL BOSQUE 473 ML",
          "Malteada/PT MALTEADA DE MACADAMIA 355 ML",
          "Malteada/PT MALTEADA DE VAINILLA 355 ML",
          "Ensaladas/PT MR TEA DISPENSADOR 473 ML",
          "Helado/PT PALETA CUBIERTA DE CHOCOLATE",
          "Acompañamientos/PT PAPAS CORRAL GRANDES",
          "Acompañamientos/PT PAPAS CORRAL MEDIANAS",
          "Pollo/PT POLLO MEXICANO",
          "Cafe/PT TINTO/CAFE TRADICIONAL",
          "Res/PT TODOTERRENO CALLEJERA",
          "Res/PT TODOTERRENO CLASICA",
          "Res/PT TODOTERRENO TOCINETA",
          "Vaqueros/PT VAQUERO CALLEJERO",
          "Vaqueros/PT VAQUERO ESPECIAL",
          "Vaqueros/PT VAQUERO HAWAIANO",
          "Wrap/PT WRAP LOMO",
          "Wrap/PT WRAP POLLO",
          "Acompañamientos",
          "Adiciones",
          "Agua",
          "Cafe",
          "Cerveza",
          "Corralito",
          "Desayunos",
          "Ensaladas",
          "Gaseosa",
          "Helado",
          "Jugo",
          "Malteada",
          "Otros",
          "Pollo",
          "Pollo - Combo",
          "Res",
          "Res - Combo",
          "Vaqueros",
          "Vegetal",
          "Vegetal - Combo",
          "Wrap"
         ],
         "labels": [
          "DOMICILIOS RESTAURANTES EC",
          "K CALLEJERA EN COMBO",
          "K COMBO SANDWICH POLLO",
          "K CORRAL EN COMBO",
          "K CORRAL VEK EN COMBO",
          "K CORRAL VEK INDIVIDUAL",
          "K CORRAL VEK SENCILLA EN COMBO",
          "K CORRALITO INFANTIL FILETES DE PECHUGA",
          "K MENU INFANTIL CORRALITO HAMBURGUESA",
          "K POLLO MEXICANO EN COMBO",
          "K POLLO PARILLERO EN COMBO",
          "K TODOTERRENO CALLEJERA EN COMBO",
          "K TODOTERRENO CLASICA EN COMBO",
          "K TODOTERRENO TOCINETA EN COMBO",
          "K WRAP LOMO EN COMBO",
          "LLV AD. TAJADA DE QUESO TIPO MOZAREL",
          "LLV AD. TOCINETA (PICADA)",
          "LLV AGUA CRISTAL BOTELLA 600 ML",
          "LLV CAFE LATTE",
          "LLV CERVEZA CLUB COLOMBIA",
          "LLV CERVEZA CORONA",
          "LLV CORRAL POLLO",
          "LLV CORRAL VEK",
          "LLV CORRAL VEK SENCILLA",
          "LLV CORRALITO FILETES DE POLLO",
          "LLV DESAYUNO TODOTERRENO",
          "LLV ENSALADA COBB",
          "LLV ENSALADA CORRAL",
          "LLV FILETES DE PECHUGA APANADO X5",
          "LLV GASEOSA PET 400 ML",
          "LLV JUGO DE NARANJA 355ML",
          "LLV JUGO HIT 200 ML",
          "LLV K AGUA H2OH BOTELLA 400 ML",
          "LLV MR TEA BOTELLA 500 ML",
          "LLV PAPAS CORRAL GRANDES",
          "LLV PAPAS CORRAL MEDIANAS",
          "LLV POLLO MEXICANO",
          "LLV TINTO/CAFE TRADICIONAL",
          "LLV TODOTERRENO TOCINETA",
          "LLV VAQUERO CALLEJERO",
          "LLV VAQUERO ESPECIAL",
          "LLV WRAP LOMO",
          "LLV WRAP POLLO",
          "PT AD. TOCINETA (PICADA)",
          "PT AD. UNA TAJADA DE QUESO TIPO MOZARELL",
          "PT AGUA CRISTAL BOTELLA 600 ML",
          "PT AGUA CRISTAL PARA ENSALADA",
          "PT AGUA H2OH BOTELLA 400 ML",
          "PT ANILLOS DE CEBOLLA",
          "PT CAFE LATTE",
          "PT CAPUCCINO",
          "PT CERVEZA AGUILA",
          "PT CERVEZA CLUB COLOMBIA",
          "PT CERVEZA CORONA",
          "PT CONO DOS BOLAS EN VASO",
          "PT CONO DOS BOLAS GALLETA",
          "PT CONO UNA BOLA EN VASO",
          "PT CONO UNA BOLA GALLETA",
          "PT CORRAL POLLO",
          "PT CORRAL POLLO PARRILLERO",
          "PT CORRAL QUESO",
          "PT CORRAL VEK",
          "PT CORRAL VEK SENCILLA",
          "PT CORRALITO INFANTIL HAMBURGUESA",
          "PT CORRALITO INFANTIL VAQUERO",
          "PT DESAYUNO 3 QUESOS TOCINETA",
          "PT DESAYUNO QUESO TOCINETA",
          "PT DESAYUNO RANCHERO",
          "PT DESAYUNO TODOTERRENO",
          "PT ENSALADA COBB",
          "PT ENSALADA CORRAL",
          "PT GASEOSA DISPENSADOR 473 ML",
          "PT GASEOSA DISPENSADOR 650 ML",
          "PT GASEOSA PET 400 ML",
          "PT JUGO DE NARANJA 355ML",
          "PT JUGO HIT 200 ML",
          "PT JUGO HIT 200 ML CORRALITO",
          "PT MALTEADA DE CHOCOLATE 355 ML",
          "PT MALTEADA DE FRUTOS DEL BOSQUE 355 ML",
          "PT MALTEADA DE FRUTOS DEL BOSQUE 473 ML",
          "PT MALTEADA DE MACADAMIA 355 ML",
          "PT MALTEADA DE VAINILLA 355 ML",
          "PT MR TEA DISPENSADOR 473 ML",
          "PT PALETA CUBIERTA DE CHOCOLATE",
          "PT PAPAS CORRAL GRANDES",
          "PT PAPAS CORRAL MEDIANAS",
          "PT POLLO MEXICANO",
          "PT TINTO/CAFE TRADICIONAL",
          "PT TODOTERRENO CALLEJERA",
          "PT TODOTERRENO CLASICA",
          "PT TODOTERRENO TOCINETA",
          "PT VAQUERO CALLEJERO",
          "PT VAQUERO ESPECIAL",
          "PT VAQUERO HAWAIANO",
          "PT WRAP LOMO",
          "PT WRAP POLLO",
          "Acompañamientos",
          "Adiciones",
          "Agua",
          "Cafe",
          "Cerveza",
          "Corralito",
          "Desayunos",
          "Ensaladas",
          "Gaseosa",
          "Helado",
          "Jugo",
          "Malteada",
          "Otros",
          "Pollo",
          "Pollo - Combo",
          "Res",
          "Res - Combo",
          "Vaqueros",
          "Vegetal",
          "Vegetal - Combo",
          "Wrap"
         ],
         "marker": {
          "coloraxis": "coloraxis",
          "colors": [
           39152759,
           31708386,
           3176186,
           34298525,
           2717059,
           253796,
           934914,
           523047,
           3610387,
           3362059,
           5349770,
           30554121,
           21539335,
           57891877,
           3320957,
           3086291,
           6429998,
           33985591,
           247780,
           367591,
           152772,
           13117464,
           7052383,
           3929881,
           2248588,
           1876597,
           25754506,
           24439415,
           5572725,
           129369548,
           476414,
           1969637,
           26626894,
           21244118,
           72088380,
           212621573.99999997,
           7319934,
           139446,
           121223520.99999999,
           22977361,
           34672149,
           3281836,
           16422757,
           6206403,
           2898802,
           66286989,
           5252407,
           43538449,
           36886647,
           1353350,
           1457037,
           285277,
           4809512,
           1457367,
           8126052,
           13875289,
           11745395,
           37790976,
           27887730,
           46253054,
           127284454,
           14463168,
           938138,
           18874425,
           8703,
           1990088,
           3463710,
           2251156,
           2735138,
           24816880,
           23804820,
           218233449,
           24460390,
           32276395,
           928732,
           1356874,
           2660212,
           25979211,
           27162505,
           15555283,
           23603611,
           25029384,
           20290555,
           9519310,
           140934250,
           378873707,
           17330499,
           2512266,
           131481040.99999999,
           105841620,
           251482473.99999997,
           19751682,
           25217737,
           15891069,
           15619417,
           22129646,
           255730777.33095527,
           5325562.340984141,
           46565801.94830238,
           1812093.3231581615,
           3604821.6547494605,
           14827088.510084286,
           2600377.157175358,
           23968809.100386918,
           156147136.00515893,
           23628869.557469383,
           1878661.3068777327,
           24190646.655333605,
           39152759,
           30766746.147463474,
           4206895.539665537,
           166319600.18932027,
           39381151.619435094,
           25387784.66602941,
           10335399.324607922,
           2260825.5309874965,
           16868779.895200633
          ]
         },
         "name": "",
         "parents": [
          "Otros",
          "Res - Combo",
          "Pollo - Combo",
          "Res - Combo",
          "Vegetal - Combo",
          "Vegetal",
          "Vegetal - Combo",
          "Corralito",
          "Corralito",
          "Pollo - Combo",
          "Pollo - Combo",
          "Res - Combo",
          "Res - Combo",
          "Res - Combo",
          "Wrap",
          "Adiciones",
          "Adiciones",
          "Agua",
          "Cafe",
          "Cerveza",
          "Cerveza",
          "Pollo",
          "Vegetal",
          "Vegetal",
          "Corralito",
          "Desayunos",
          "Ensaladas",
          "Ensaladas",
          "Adiciones",
          "Gaseosa",
          "Jugo",
          "Jugo",
          "Agua",
          "Gaseosa",
          "Acompañamientos",
          "Acompañamientos",
          "Pollo",
          "Cafe",
          "Res",
          "Vaqueros",
          "Vaqueros",
          "Wrap",
          "Wrap",
          "Adiciones",
          "Adiciones",
          "Agua",
          "Agua",
          "Agua",
          "Acompañamientos",
          "Cafe",
          "Cafe",
          "Cerveza",
          "Cerveza",
          "Cerveza",
          "Helado",
          "Helado",
          "Helado",
          "Helado",
          "Pollo",
          "Pollo",
          "Res",
          "Vegetal",
          "Vegetal",
          "Corralito",
          "Corralito",
          "Desayunos",
          "Desayunos",
          "Desayunos",
          "Desayunos",
          "Ensaladas",
          "Ensaladas",
          "Gaseosa",
          "Gaseosa",
          "Gaseosa",
          "Jugo",
          "Jugo",
          "Jugo",
          "Malteada",
          "Malteada",
          "Malteada",
          "Malteada",
          "Malteada",
          "Ensaladas",
          "Helado",
          "Acompañamientos",
          "Acompañamientos",
          "Pollo",
          "Cafe",
          "Res",
          "Res",
          "Res",
          "Vaqueros",
          "Vaqueros",
          "Vaqueros",
          "Wrap",
          "Wrap",
          "",
          "",
          "",
          "",
          "",
          "",
          "",
          "",
          "",
          "",
          "",
          "",
          "",
          "",
          "",
          "",
          "",
          "",
          "",
          "",
          ""
         ],
         "textfont": {
          "color": "black",
          "size": 16
         },
         "type": "treemap",
         "values": [
          39152759,
          31708386,
          3176186,
          34298525,
          2717059,
          253796,
          934914,
          523047,
          3610387,
          3362059,
          5349770,
          30554121,
          21539335,
          57891877,
          3320957,
          3086291,
          6429998,
          33985591,
          247780,
          367591,
          152772,
          13117464,
          7052383,
          3929881,
          2248588,
          1876597,
          25754506,
          24439415,
          5572725,
          129369548,
          476414,
          1969637,
          26626894,
          21244118,
          72088380,
          212621574,
          7319934,
          139446,
          121223521,
          22977361,
          34672149,
          3281836,
          16422757,
          6206403,
          2898802,
          66286989,
          5252407,
          43538449,
          36886647,
          1353350,
          1457037,
          285277,
          4809512,
          1457367,
          8126052,
          13875289,
          11745395,
          37790976,
          27887730,
          46253054,
          127284454,
          14463168,
          938138,
          18874425,
          8703,
          1990088,
          3463710,
          2251156,
          2735138,
          24816880,
          23804820,
          218233449,
          24460390,
          32276395,
          928732,
          1356874,
          2660212,
          25979211,
          27162505,
          15555283,
          23603611,
          25029384,
          20290555,
          9519310,
          140934250,
          378873707,
          17330499,
          2512266,
          131481041,
          105841620,
          251482474,
          19751682,
          25217737,
          15891069,
          15619417,
          22129646,
          841404558,
          24194219,
          175690330,
          5709879,
          7072519,
          25265150,
          12316689,
          119106176,
          425583900,
          81057022,
          7391869,
          117329994,
          39152759,
          111908681,
          11888015,
          737313110,
          175992244,
          118509998,
          26637366,
          3651973,
          60774613
         ]
        }
       ],
       "layout": {
        "coloraxis": {
         "colorbar": {
          "title": {
           "text": "Total Ventas"
          }
         },
         "colorscale": [
          [
           0,
           "rgb(255,245,240)"
          ],
          [
           0.125,
           "rgb(254,224,210)"
          ],
          [
           0.25,
           "rgb(252,187,161)"
          ],
          [
           0.375,
           "rgb(252,146,114)"
          ],
          [
           0.5,
           "rgb(251,106,74)"
          ],
          [
           0.625,
           "rgb(239,59,44)"
          ],
          [
           0.75,
           "rgb(203,24,29)"
          ],
          [
           0.875,
           "rgb(165,15,21)"
          ],
          [
           1,
           "rgb(103,0,13)"
          ]
         ]
        },
        "height": 800,
        "legend": {
         "tracegroupgap": 0
        },
        "template": {
         "data": {
          "bar": [
           {
            "error_x": {
             "color": "#2a3f5f"
            },
            "error_y": {
             "color": "#2a3f5f"
            },
            "marker": {
             "line": {
              "color": "#E5ECF6",
              "width": 0.5
             },
             "pattern": {
              "fillmode": "overlay",
              "size": 10,
              "solidity": 0.2
             }
            },
            "type": "bar"
           }
          ],
          "barpolar": [
           {
            "marker": {
             "line": {
              "color": "#E5ECF6",
              "width": 0.5
             },
             "pattern": {
              "fillmode": "overlay",
              "size": 10,
              "solidity": 0.2
             }
            },
            "type": "barpolar"
           }
          ],
          "carpet": [
           {
            "aaxis": {
             "endlinecolor": "#2a3f5f",
             "gridcolor": "white",
             "linecolor": "white",
             "minorgridcolor": "white",
             "startlinecolor": "#2a3f5f"
            },
            "baxis": {
             "endlinecolor": "#2a3f5f",
             "gridcolor": "white",
             "linecolor": "white",
             "minorgridcolor": "white",
             "startlinecolor": "#2a3f5f"
            },
            "type": "carpet"
           }
          ],
          "choropleth": [
           {
            "colorbar": {
             "outlinewidth": 0,
             "ticks": ""
            },
            "type": "choropleth"
           }
          ],
          "contour": [
           {
            "colorbar": {
             "outlinewidth": 0,
             "ticks": ""
            },
            "colorscale": [
             [
              0,
              "#0d0887"
             ],
             [
              0.1111111111111111,
              "#46039f"
             ],
             [
              0.2222222222222222,
              "#7201a8"
             ],
             [
              0.3333333333333333,
              "#9c179e"
             ],
             [
              0.4444444444444444,
              "#bd3786"
             ],
             [
              0.5555555555555556,
              "#d8576b"
             ],
             [
              0.6666666666666666,
              "#ed7953"
             ],
             [
              0.7777777777777778,
              "#fb9f3a"
             ],
             [
              0.8888888888888888,
              "#fdca26"
             ],
             [
              1,
              "#f0f921"
             ]
            ],
            "type": "contour"
           }
          ],
          "contourcarpet": [
           {
            "colorbar": {
             "outlinewidth": 0,
             "ticks": ""
            },
            "type": "contourcarpet"
           }
          ],
          "heatmap": [
           {
            "colorbar": {
             "outlinewidth": 0,
             "ticks": ""
            },
            "colorscale": [
             [
              0,
              "#0d0887"
             ],
             [
              0.1111111111111111,
              "#46039f"
             ],
             [
              0.2222222222222222,
              "#7201a8"
             ],
             [
              0.3333333333333333,
              "#9c179e"
             ],
             [
              0.4444444444444444,
              "#bd3786"
             ],
             [
              0.5555555555555556,
              "#d8576b"
             ],
             [
              0.6666666666666666,
              "#ed7953"
             ],
             [
              0.7777777777777778,
              "#fb9f3a"
             ],
             [
              0.8888888888888888,
              "#fdca26"
             ],
             [
              1,
              "#f0f921"
             ]
            ],
            "type": "heatmap"
           }
          ],
          "heatmapgl": [
           {
            "colorbar": {
             "outlinewidth": 0,
             "ticks": ""
            },
            "colorscale": [
             [
              0,
              "#0d0887"
             ],
             [
              0.1111111111111111,
              "#46039f"
             ],
             [
              0.2222222222222222,
              "#7201a8"
             ],
             [
              0.3333333333333333,
              "#9c179e"
             ],
             [
              0.4444444444444444,
              "#bd3786"
             ],
             [
              0.5555555555555556,
              "#d8576b"
             ],
             [
              0.6666666666666666,
              "#ed7953"
             ],
             [
              0.7777777777777778,
              "#fb9f3a"
             ],
             [
              0.8888888888888888,
              "#fdca26"
             ],
             [
              1,
              "#f0f921"
             ]
            ],
            "type": "heatmapgl"
           }
          ],
          "histogram": [
           {
            "marker": {
             "pattern": {
              "fillmode": "overlay",
              "size": 10,
              "solidity": 0.2
             }
            },
            "type": "histogram"
           }
          ],
          "histogram2d": [
           {
            "colorbar": {
             "outlinewidth": 0,
             "ticks": ""
            },
            "colorscale": [
             [
              0,
              "#0d0887"
             ],
             [
              0.1111111111111111,
              "#46039f"
             ],
             [
              0.2222222222222222,
              "#7201a8"
             ],
             [
              0.3333333333333333,
              "#9c179e"
             ],
             [
              0.4444444444444444,
              "#bd3786"
             ],
             [
              0.5555555555555556,
              "#d8576b"
             ],
             [
              0.6666666666666666,
              "#ed7953"
             ],
             [
              0.7777777777777778,
              "#fb9f3a"
             ],
             [
              0.8888888888888888,
              "#fdca26"
             ],
             [
              1,
              "#f0f921"
             ]
            ],
            "type": "histogram2d"
           }
          ],
          "histogram2dcontour": [
           {
            "colorbar": {
             "outlinewidth": 0,
             "ticks": ""
            },
            "colorscale": [
             [
              0,
              "#0d0887"
             ],
             [
              0.1111111111111111,
              "#46039f"
             ],
             [
              0.2222222222222222,
              "#7201a8"
             ],
             [
              0.3333333333333333,
              "#9c179e"
             ],
             [
              0.4444444444444444,
              "#bd3786"
             ],
             [
              0.5555555555555556,
              "#d8576b"
             ],
             [
              0.6666666666666666,
              "#ed7953"
             ],
             [
              0.7777777777777778,
              "#fb9f3a"
             ],
             [
              0.8888888888888888,
              "#fdca26"
             ],
             [
              1,
              "#f0f921"
             ]
            ],
            "type": "histogram2dcontour"
           }
          ],
          "mesh3d": [
           {
            "colorbar": {
             "outlinewidth": 0,
             "ticks": ""
            },
            "type": "mesh3d"
           }
          ],
          "parcoords": [
           {
            "line": {
             "colorbar": {
              "outlinewidth": 0,
              "ticks": ""
             }
            },
            "type": "parcoords"
           }
          ],
          "pie": [
           {
            "automargin": true,
            "type": "pie"
           }
          ],
          "scatter": [
           {
            "fillpattern": {
             "fillmode": "overlay",
             "size": 10,
             "solidity": 0.2
            },
            "type": "scatter"
           }
          ],
          "scatter3d": [
           {
            "line": {
             "colorbar": {
              "outlinewidth": 0,
              "ticks": ""
             }
            },
            "marker": {
             "colorbar": {
              "outlinewidth": 0,
              "ticks": ""
             }
            },
            "type": "scatter3d"
           }
          ],
          "scattercarpet": [
           {
            "marker": {
             "colorbar": {
              "outlinewidth": 0,
              "ticks": ""
             }
            },
            "type": "scattercarpet"
           }
          ],
          "scattergeo": [
           {
            "marker": {
             "colorbar": {
              "outlinewidth": 0,
              "ticks": ""
             }
            },
            "type": "scattergeo"
           }
          ],
          "scattergl": [
           {
            "marker": {
             "colorbar": {
              "outlinewidth": 0,
              "ticks": ""
             }
            },
            "type": "scattergl"
           }
          ],
          "scattermapbox": [
           {
            "marker": {
             "colorbar": {
              "outlinewidth": 0,
              "ticks": ""
             }
            },
            "type": "scattermapbox"
           }
          ],
          "scatterpolar": [
           {
            "marker": {
             "colorbar": {
              "outlinewidth": 0,
              "ticks": ""
             }
            },
            "type": "scatterpolar"
           }
          ],
          "scatterpolargl": [
           {
            "marker": {
             "colorbar": {
              "outlinewidth": 0,
              "ticks": ""
             }
            },
            "type": "scatterpolargl"
           }
          ],
          "scatterternary": [
           {
            "marker": {
             "colorbar": {
              "outlinewidth": 0,
              "ticks": ""
             }
            },
            "type": "scatterternary"
           }
          ],
          "surface": [
           {
            "colorbar": {
             "outlinewidth": 0,
             "ticks": ""
            },
            "colorscale": [
             [
              0,
              "#0d0887"
             ],
             [
              0.1111111111111111,
              "#46039f"
             ],
             [
              0.2222222222222222,
              "#7201a8"
             ],
             [
              0.3333333333333333,
              "#9c179e"
             ],
             [
              0.4444444444444444,
              "#bd3786"
             ],
             [
              0.5555555555555556,
              "#d8576b"
             ],
             [
              0.6666666666666666,
              "#ed7953"
             ],
             [
              0.7777777777777778,
              "#fb9f3a"
             ],
             [
              0.8888888888888888,
              "#fdca26"
             ],
             [
              1,
              "#f0f921"
             ]
            ],
            "type": "surface"
           }
          ],
          "table": [
           {
            "cells": {
             "fill": {
              "color": "#EBF0F8"
             },
             "line": {
              "color": "white"
             }
            },
            "header": {
             "fill": {
              "color": "#C8D4E3"
             },
             "line": {
              "color": "white"
             }
            },
            "type": "table"
           }
          ]
         },
         "layout": {
          "annotationdefaults": {
           "arrowcolor": "#2a3f5f",
           "arrowhead": 0,
           "arrowwidth": 1
          },
          "autotypenumbers": "strict",
          "coloraxis": {
           "colorbar": {
            "outlinewidth": 0,
            "ticks": ""
           }
          },
          "colorscale": {
           "diverging": [
            [
             0,
             "#8e0152"
            ],
            [
             0.1,
             "#c51b7d"
            ],
            [
             0.2,
             "#de77ae"
            ],
            [
             0.3,
             "#f1b6da"
            ],
            [
             0.4,
             "#fde0ef"
            ],
            [
             0.5,
             "#f7f7f7"
            ],
            [
             0.6,
             "#e6f5d0"
            ],
            [
             0.7,
             "#b8e186"
            ],
            [
             0.8,
             "#7fbc41"
            ],
            [
             0.9,
             "#4d9221"
            ],
            [
             1,
             "#276419"
            ]
           ],
           "sequential": [
            [
             0,
             "#0d0887"
            ],
            [
             0.1111111111111111,
             "#46039f"
            ],
            [
             0.2222222222222222,
             "#7201a8"
            ],
            [
             0.3333333333333333,
             "#9c179e"
            ],
            [
             0.4444444444444444,
             "#bd3786"
            ],
            [
             0.5555555555555556,
             "#d8576b"
            ],
            [
             0.6666666666666666,
             "#ed7953"
            ],
            [
             0.7777777777777778,
             "#fb9f3a"
            ],
            [
             0.8888888888888888,
             "#fdca26"
            ],
            [
             1,
             "#f0f921"
            ]
           ],
           "sequentialminus": [
            [
             0,
             "#0d0887"
            ],
            [
             0.1111111111111111,
             "#46039f"
            ],
            [
             0.2222222222222222,
             "#7201a8"
            ],
            [
             0.3333333333333333,
             "#9c179e"
            ],
            [
             0.4444444444444444,
             "#bd3786"
            ],
            [
             0.5555555555555556,
             "#d8576b"
            ],
            [
             0.6666666666666666,
             "#ed7953"
            ],
            [
             0.7777777777777778,
             "#fb9f3a"
            ],
            [
             0.8888888888888888,
             "#fdca26"
            ],
            [
             1,
             "#f0f921"
            ]
           ]
          },
          "colorway": [
           "#636efa",
           "#EF553B",
           "#00cc96",
           "#ab63fa",
           "#FFA15A",
           "#19d3f3",
           "#FF6692",
           "#B6E880",
           "#FF97FF",
           "#FECB52"
          ],
          "font": {
           "color": "#2a3f5f"
          },
          "geo": {
           "bgcolor": "white",
           "lakecolor": "white",
           "landcolor": "#E5ECF6",
           "showlakes": true,
           "showland": true,
           "subunitcolor": "white"
          },
          "hoverlabel": {
           "align": "left"
          },
          "hovermode": "closest",
          "mapbox": {
           "style": "light"
          },
          "paper_bgcolor": "white",
          "plot_bgcolor": "#E5ECF6",
          "polar": {
           "angularaxis": {
            "gridcolor": "white",
            "linecolor": "white",
            "ticks": ""
           },
           "bgcolor": "#E5ECF6",
           "radialaxis": {
            "gridcolor": "white",
            "linecolor": "white",
            "ticks": ""
           }
          },
          "scene": {
           "xaxis": {
            "backgroundcolor": "#E5ECF6",
            "gridcolor": "white",
            "gridwidth": 2,
            "linecolor": "white",
            "showbackground": true,
            "ticks": "",
            "zerolinecolor": "white"
           },
           "yaxis": {
            "backgroundcolor": "#E5ECF6",
            "gridcolor": "white",
            "gridwidth": 2,
            "linecolor": "white",
            "showbackground": true,
            "ticks": "",
            "zerolinecolor": "white"
           },
           "zaxis": {
            "backgroundcolor": "#E5ECF6",
            "gridcolor": "white",
            "gridwidth": 2,
            "linecolor": "white",
            "showbackground": true,
            "ticks": "",
            "zerolinecolor": "white"
           }
          },
          "shapedefaults": {
           "line": {
            "color": "#2a3f5f"
           }
          },
          "ternary": {
           "aaxis": {
            "gridcolor": "white",
            "linecolor": "white",
            "ticks": ""
           },
           "baxis": {
            "gridcolor": "white",
            "linecolor": "white",
            "ticks": ""
           },
           "bgcolor": "#E5ECF6",
           "caxis": {
            "gridcolor": "white",
            "linecolor": "white",
            "ticks": ""
           }
          },
          "title": {
           "x": 0.05
          },
          "xaxis": {
           "automargin": true,
           "gridcolor": "white",
           "linecolor": "white",
           "ticks": "",
           "title": {
            "standoff": 15
           },
           "zerolinecolor": "white",
           "zerolinewidth": 2
          },
          "yaxis": {
           "automargin": true,
           "gridcolor": "white",
           "linecolor": "white",
           "ticks": "",
           "title": {
            "standoff": 15
           },
           "zerolinecolor": "white",
           "zerolinewidth": 2
          }
         }
        },
        "title": {
         "text": "Top 5 Productos Vendidos por Día de la Semana"
        },
        "width": 1000
       }
      }
     },
     "metadata": {},
     "output_type": "display_data"
    }
   ],
   "source": [
    "ventas_producto_dia = (data\n",
    "    .groupby(['Clasificacion', 'nombre item'])['Venta']\n",
    "    .sum()\n",
    "    .reset_index()\n",
    ")\n",
    "\n",
    "top_5_productos_dia = (ventas_producto_dia\n",
    "    .sort_values(by=['Clasificacion', 'Venta'], ascending=False)\n",
    "    .groupby('Clasificacion')\n",
    "    .head(5)\n",
    ")\n",
    "\n",
    "fig = px.treemap(\n",
    "    top_5_productos_dia,\n",
    "    path=['Clasificacion', 'nombre item'],\n",
    "    values='Venta',\n",
    "    title='Top 5 Productos Vendidos por Día de la Semana',\n",
    "    color='Venta',\n",
    "    color_continuous_scale='Reds',\n",
    "    labels={'Venta': 'Total Ventas'}, width=1000, height = 800\n",
    ")\n",
    "\n",
    "fig.update_traces(textfont=dict(size=16, color='black'))\n",
    "\n",
    "fig.show()"
   ]
  },
  {
   "cell_type": "markdown",
   "metadata": {},
   "source": [
    "# Cluster"
   ]
  },
  {
   "cell_type": "code",
   "execution_count": 886,
   "metadata": {},
   "outputs": [],
   "source": [
    "df_cluster = data.copy()"
   ]
  },
  {
   "cell_type": "code",
   "execution_count": 887,
   "metadata": {},
   "outputs": [
    {
     "name": "stderr",
     "output_type": "stream",
     "text": [
      "C:\\Users\\JUANC\\AppData\\Local\\Temp\\ipykernel_17676\\1856689428.py:3: SettingWithCopyWarning:\n",
      "\n",
      "\n",
      "A value is trying to be set on a copy of a slice from a DataFrame.\n",
      "Try using .loc[row_indexer,col_indexer] = value instead\n",
      "\n",
      "See the caveats in the documentation: https://pandas.pydata.org/pandas-docs/stable/user_guide/indexing.html#returning-a-view-versus-a-copy\n",
      "\n",
      "C:\\Users\\JUANC\\AppData\\Local\\Temp\\ipykernel_17676\\1856689428.py:4: SettingWithCopyWarning:\n",
      "\n",
      "\n",
      "A value is trying to be set on a copy of a slice from a DataFrame\n",
      "\n",
      "See the caveats in the documentation: https://pandas.pydata.org/pandas-docs/stable/user_guide/indexing.html#returning-a-view-versus-a-copy\n",
      "\n",
      "C:\\Users\\JUANC\\AppData\\Local\\Temp\\ipykernel_17676\\1856689428.py:5: SettingWithCopyWarning:\n",
      "\n",
      "\n",
      "A value is trying to be set on a copy of a slice from a DataFrame\n",
      "\n",
      "See the caveats in the documentation: https://pandas.pydata.org/pandas-docs/stable/user_guide/indexing.html#returning-a-view-versus-a-copy\n",
      "\n",
      "C:\\Users\\JUANC\\AppData\\Local\\Temp\\ipykernel_17676\\1856689428.py:7: SettingWithCopyWarning:\n",
      "\n",
      "\n",
      "A value is trying to be set on a copy of a slice from a DataFrame.\n",
      "Try using .loc[row_indexer,col_indexer] = value instead\n",
      "\n",
      "See the caveats in the documentation: https://pandas.pydata.org/pandas-docs/stable/user_guide/indexing.html#returning-a-view-versus-a-copy\n",
      "\n",
      "C:\\Users\\JUANC\\AppData\\Local\\Temp\\ipykernel_17676\\1856689428.py:8: SettingWithCopyWarning:\n",
      "\n",
      "\n",
      "A value is trying to be set on a copy of a slice from a DataFrame.\n",
      "Try using .loc[row_indexer,col_indexer] = value instead\n",
      "\n",
      "See the caveats in the documentation: https://pandas.pydata.org/pandas-docs/stable/user_guide/indexing.html#returning-a-view-versus-a-copy\n",
      "\n"
     ]
    }
   ],
   "source": [
    "# Frecuencia de compra\n",
    "df_frecuencia = df_cluster[[\"fecha_creacion\", \"cliente\"]]\n",
    "df_frecuencia['fecha_creacion'] =df_frecuencia['fecha_creacion'].dt.date\n",
    "df_frecuencia.drop_duplicates(inplace=True)\n",
    "df_frecuencia.sort_values(by='fecha_creacion', inplace=True)\n",
    "\n",
    "df_frecuencia['fecha_creacion'] = pd.to_datetime(df_frecuencia['fecha_creacion'])\n",
    "df_frecuencia['frecuencia'] =df_frecuencia.groupby('cliente')['fecha_creacion'].diff().dt.days\n",
    "df_frecuencia = df_frecuencia.groupby('cliente')['frecuencia'].mean().reset_index()\n",
    "df_frecuencia.set_index(\"cliente\", inplace=True)"
   ]
  },
  {
   "cell_type": "code",
   "execution_count": 888,
   "metadata": {},
   "outputs": [],
   "source": [
    "df_cluster.drop(columns=[\"nombre item\", \"Mes\", \"Hora\", \"Dia de la Semana\", \"Item\", \"Cantidad\"], inplace=True)\n",
    "df_cluster.set_index(\"cliente\", inplace=True)"
   ]
  },
  {
   "cell_type": "code",
   "execution_count": 892,
   "metadata": {},
   "outputs": [],
   "source": [
    "cuali = df_cluster[['Clasificacion', 'dia_semana', 'franja_horaria', 'Venta']]\n",
    "cuali = pd.get_dummies(cuali, columns=['Clasificacion', 'dia_semana', 'franja_horaria'], prefix='', prefix_sep='')\n",
    "# Convertir las columnas de clasificación a 1 y 0\n",
    "cuali[cuali.columns.difference(['Factura', \n",
    "                                            'fecha_creacion', \n",
    "                                            'Venta', \n",
    "                                            'cliente'])] = cuali[cuali.columns.difference(['Factura', \n",
    "                                                                                                       'fecha_creacion', \n",
    "                                                                                                       'Venta', \n",
    "                                                                                                       'cliente'])].astype(int)"
   ]
  },
  {
   "cell_type": "code",
   "execution_count": 893,
   "metadata": {},
   "outputs": [],
   "source": [
    "for col in cuali.columns:\n",
    "    if col != 'Venta':\n",
    "        cuali[col] = cuali[col] * cuali['Venta']\n",
    "        \n",
    "cuali.drop(columns='Venta', inplace=True)"
   ]
  },
  {
   "cell_type": "code",
   "execution_count": 894,
   "metadata": {},
   "outputs": [
    {
     "data": {
      "text/html": [
       "<div>\n",
       "<style scoped>\n",
       "    .dataframe tbody tr th:only-of-type {\n",
       "        vertical-align: middle;\n",
       "    }\n",
       "\n",
       "    .dataframe tbody tr th {\n",
       "        vertical-align: top;\n",
       "    }\n",
       "\n",
       "    .dataframe thead th {\n",
       "        text-align: right;\n",
       "    }\n",
       "</style>\n",
       "<table border=\"1\" class=\"dataframe\">\n",
       "  <thead>\n",
       "    <tr style=\"text-align: right;\">\n",
       "      <th></th>\n",
       "      <th>Acompañamientos</th>\n",
       "      <th>Adiciones</th>\n",
       "      <th>Agua</th>\n",
       "      <th>Cafe</th>\n",
       "      <th>Cerveza</th>\n",
       "      <th>Corralito</th>\n",
       "      <th>Desayunos</th>\n",
       "      <th>Ensaladas</th>\n",
       "      <th>Gaseosa</th>\n",
       "      <th>Helado</th>\n",
       "      <th>...</th>\n",
       "      <th>Monday</th>\n",
       "      <th>Tuesday</th>\n",
       "      <th>Wednesday</th>\n",
       "      <th>Thursday</th>\n",
       "      <th>Friday</th>\n",
       "      <th>Saturday</th>\n",
       "      <th>Sunday</th>\n",
       "      <th>Mañana</th>\n",
       "      <th>Tarde</th>\n",
       "      <th>Noche</th>\n",
       "    </tr>\n",
       "    <tr>\n",
       "      <th>cliente</th>\n",
       "      <th></th>\n",
       "      <th></th>\n",
       "      <th></th>\n",
       "      <th></th>\n",
       "      <th></th>\n",
       "      <th></th>\n",
       "      <th></th>\n",
       "      <th></th>\n",
       "      <th></th>\n",
       "      <th></th>\n",
       "      <th></th>\n",
       "      <th></th>\n",
       "      <th></th>\n",
       "      <th></th>\n",
       "      <th></th>\n",
       "      <th></th>\n",
       "      <th></th>\n",
       "      <th></th>\n",
       "      <th></th>\n",
       "      <th></th>\n",
       "      <th></th>\n",
       "    </tr>\n",
       "  </thead>\n",
       "  <tbody>\n",
       "    <tr>\n",
       "      <th>1</th>\n",
       "      <td>966094.00</td>\n",
       "      <td>61113.00</td>\n",
       "      <td>151203.00</td>\n",
       "      <td>4167.00</td>\n",
       "      <td>0.00</td>\n",
       "      <td>9722.00</td>\n",
       "      <td>0.00</td>\n",
       "      <td>134536.00</td>\n",
       "      <td>439259.00</td>\n",
       "      <td>91576.00</td>\n",
       "      <td>...</td>\n",
       "      <td>730879.00</td>\n",
       "      <td>793887.00</td>\n",
       "      <td>1184717.00</td>\n",
       "      <td>706112.00</td>\n",
       "      <td>1311756.00</td>\n",
       "      <td>607683.00</td>\n",
       "      <td>531248.00</td>\n",
       "      <td>290553.00</td>\n",
       "      <td>3700735.00</td>\n",
       "      <td>1874994.00</td>\n",
       "    </tr>\n",
       "    <tr>\n",
       "      <th>10</th>\n",
       "      <td>908921.00</td>\n",
       "      <td>35649.00</td>\n",
       "      <td>166854.00</td>\n",
       "      <td>9444.00</td>\n",
       "      <td>0.00</td>\n",
       "      <td>20278.00</td>\n",
       "      <td>12870.00</td>\n",
       "      <td>224907.00</td>\n",
       "      <td>387219.00</td>\n",
       "      <td>72501.00</td>\n",
       "      <td>...</td>\n",
       "      <td>459076.00</td>\n",
       "      <td>730555.00</td>\n",
       "      <td>915830.00</td>\n",
       "      <td>1093882.00</td>\n",
       "      <td>997123.00</td>\n",
       "      <td>432684.00</td>\n",
       "      <td>599816.00</td>\n",
       "      <td>75742.00</td>\n",
       "      <td>4015451.00</td>\n",
       "      <td>1137773.00</td>\n",
       "    </tr>\n",
       "    <tr>\n",
       "      <th>100</th>\n",
       "      <td>1289020.00</td>\n",
       "      <td>40279.00</td>\n",
       "      <td>259539.00</td>\n",
       "      <td>6111.00</td>\n",
       "      <td>14075.00</td>\n",
       "      <td>51945.00</td>\n",
       "      <td>17500.00</td>\n",
       "      <td>222869.00</td>\n",
       "      <td>563150.00</td>\n",
       "      <td>154540.00</td>\n",
       "      <td>...</td>\n",
       "      <td>905647.00</td>\n",
       "      <td>1035556.00</td>\n",
       "      <td>1335379.00</td>\n",
       "      <td>1323239.00</td>\n",
       "      <td>1282825.00</td>\n",
       "      <td>605834.00</td>\n",
       "      <td>1055926.00</td>\n",
       "      <td>419353.00</td>\n",
       "      <td>5302834.00</td>\n",
       "      <td>1822219.00</td>\n",
       "    </tr>\n",
       "    <tr>\n",
       "      <th>1000</th>\n",
       "      <td>864808.00</td>\n",
       "      <td>62039.00</td>\n",
       "      <td>169260.00</td>\n",
       "      <td>0.00</td>\n",
       "      <td>5463.00</td>\n",
       "      <td>30092.00</td>\n",
       "      <td>12870.00</td>\n",
       "      <td>120277.00</td>\n",
       "      <td>403890.00</td>\n",
       "      <td>108340.00</td>\n",
       "      <td>...</td>\n",
       "      <td>611207.00</td>\n",
       "      <td>411757.00</td>\n",
       "      <td>820462.00</td>\n",
       "      <td>895136.00</td>\n",
       "      <td>1445834.00</td>\n",
       "      <td>363427.00</td>\n",
       "      <td>339813.00</td>\n",
       "      <td>175835.00</td>\n",
       "      <td>3078138.00</td>\n",
       "      <td>1633663.00</td>\n",
       "    </tr>\n",
       "    <tr>\n",
       "      <th>101</th>\n",
       "      <td>752529.00</td>\n",
       "      <td>21760.00</td>\n",
       "      <td>117593.00</td>\n",
       "      <td>1852.00</td>\n",
       "      <td>16389.00</td>\n",
       "      <td>0.00</td>\n",
       "      <td>16574.00</td>\n",
       "      <td>183425.00</td>\n",
       "      <td>388243.00</td>\n",
       "      <td>142594.00</td>\n",
       "      <td>...</td>\n",
       "      <td>187040.00</td>\n",
       "      <td>1144533.00</td>\n",
       "      <td>948148.00</td>\n",
       "      <td>758053.00</td>\n",
       "      <td>823056.00</td>\n",
       "      <td>402960.00</td>\n",
       "      <td>366298.00</td>\n",
       "      <td>207222.00</td>\n",
       "      <td>3006019.00</td>\n",
       "      <td>1416847.00</td>\n",
       "    </tr>\n",
       "    <tr>\n",
       "      <th>...</th>\n",
       "      <td>...</td>\n",
       "      <td>...</td>\n",
       "      <td>...</td>\n",
       "      <td>...</td>\n",
       "      <td>...</td>\n",
       "      <td>...</td>\n",
       "      <td>...</td>\n",
       "      <td>...</td>\n",
       "      <td>...</td>\n",
       "      <td>...</td>\n",
       "      <td>...</td>\n",
       "      <td>...</td>\n",
       "      <td>...</td>\n",
       "      <td>...</td>\n",
       "      <td>...</td>\n",
       "      <td>...</td>\n",
       "      <td>...</td>\n",
       "      <td>...</td>\n",
       "      <td>...</td>\n",
       "      <td>...</td>\n",
       "      <td>...</td>\n",
       "    </tr>\n",
       "    <tr>\n",
       "      <th>995</th>\n",
       "      <td>943049.00</td>\n",
       "      <td>38425.00</td>\n",
       "      <td>205835.00</td>\n",
       "      <td>0.00</td>\n",
       "      <td>5463.00</td>\n",
       "      <td>38333.00</td>\n",
       "      <td>25740.00</td>\n",
       "      <td>207962.00</td>\n",
       "      <td>450185.00</td>\n",
       "      <td>70375.00</td>\n",
       "      <td>...</td>\n",
       "      <td>909164.00</td>\n",
       "      <td>1078145.00</td>\n",
       "      <td>561298.00</td>\n",
       "      <td>1102499.00</td>\n",
       "      <td>449909.00</td>\n",
       "      <td>682877.00</td>\n",
       "      <td>771018.00</td>\n",
       "      <td>159632.00</td>\n",
       "      <td>4346945.00</td>\n",
       "      <td>1048333.00</td>\n",
       "    </tr>\n",
       "    <tr>\n",
       "      <th>996</th>\n",
       "      <td>827057.00</td>\n",
       "      <td>51855.00</td>\n",
       "      <td>138148.00</td>\n",
       "      <td>0.00</td>\n",
       "      <td>27315.00</td>\n",
       "      <td>19444.00</td>\n",
       "      <td>0.00</td>\n",
       "      <td>114907.00</td>\n",
       "      <td>357316.00</td>\n",
       "      <td>90652.00</td>\n",
       "      <td>...</td>\n",
       "      <td>295555.00</td>\n",
       "      <td>639214.00</td>\n",
       "      <td>1036017.00</td>\n",
       "      <td>571201.00</td>\n",
       "      <td>937866.00</td>\n",
       "      <td>595969.00</td>\n",
       "      <td>502869.00</td>\n",
       "      <td>104350.00</td>\n",
       "      <td>3123604.00</td>\n",
       "      <td>1350737.00</td>\n",
       "    </tr>\n",
       "    <tr>\n",
       "      <th>997</th>\n",
       "      <td>677311.00</td>\n",
       "      <td>25002.00</td>\n",
       "      <td>131205.00</td>\n",
       "      <td>4167.00</td>\n",
       "      <td>5463.00</td>\n",
       "      <td>0.00</td>\n",
       "      <td>37778.00</td>\n",
       "      <td>132315.00</td>\n",
       "      <td>302869.00</td>\n",
       "      <td>88890.00</td>\n",
       "      <td>...</td>\n",
       "      <td>302038.00</td>\n",
       "      <td>940001.00</td>\n",
       "      <td>423888.00</td>\n",
       "      <td>901022.00</td>\n",
       "      <td>881294.00</td>\n",
       "      <td>442961.00</td>\n",
       "      <td>507043.00</td>\n",
       "      <td>250372.00</td>\n",
       "      <td>2935098.00</td>\n",
       "      <td>1212777.00</td>\n",
       "    </tr>\n",
       "    <tr>\n",
       "      <th>998</th>\n",
       "      <td>562951.00</td>\n",
       "      <td>26853.00</td>\n",
       "      <td>151019.00</td>\n",
       "      <td>6852.00</td>\n",
       "      <td>0.00</td>\n",
       "      <td>9722.00</td>\n",
       "      <td>0.00</td>\n",
       "      <td>223147.00</td>\n",
       "      <td>221853.00</td>\n",
       "      <td>124078.00</td>\n",
       "      <td>...</td>\n",
       "      <td>217177.00</td>\n",
       "      <td>488241.00</td>\n",
       "      <td>551114.00</td>\n",
       "      <td>757033.00</td>\n",
       "      <td>1000837.00</td>\n",
       "      <td>272404.00</td>\n",
       "      <td>611294.00</td>\n",
       "      <td>118241.00</td>\n",
       "      <td>3089907.00</td>\n",
       "      <td>689952.00</td>\n",
       "    </tr>\n",
       "    <tr>\n",
       "      <th>999</th>\n",
       "      <td>838174.00</td>\n",
       "      <td>64818.00</td>\n",
       "      <td>137038.00</td>\n",
       "      <td>0.00</td>\n",
       "      <td>7870.00</td>\n",
       "      <td>12037.00</td>\n",
       "      <td>0.00</td>\n",
       "      <td>186480.00</td>\n",
       "      <td>433704.00</td>\n",
       "      <td>135838.00</td>\n",
       "      <td>...</td>\n",
       "      <td>551762.00</td>\n",
       "      <td>609904.00</td>\n",
       "      <td>1257681.00</td>\n",
       "      <td>831854.00</td>\n",
       "      <td>425182.00</td>\n",
       "      <td>586947.00</td>\n",
       "      <td>1003516.00</td>\n",
       "      <td>350463.00</td>\n",
       "      <td>3801105.00</td>\n",
       "      <td>1115278.00</td>\n",
       "    </tr>\n",
       "  </tbody>\n",
       "</table>\n",
       "<p>1000 rows × 31 columns</p>\n",
       "</div>"
      ],
      "text/plain": [
       "         Acompañamientos  Adiciones      Agua    Cafe  Cerveza  Corralito  \\\n",
       "cliente                                                                     \n",
       "1              966094.00   61113.00 151203.00 4167.00     0.00    9722.00   \n",
       "10             908921.00   35649.00 166854.00 9444.00     0.00   20278.00   \n",
       "100           1289020.00   40279.00 259539.00 6111.00 14075.00   51945.00   \n",
       "1000           864808.00   62039.00 169260.00    0.00  5463.00   30092.00   \n",
       "101            752529.00   21760.00 117593.00 1852.00 16389.00       0.00   \n",
       "...                  ...        ...       ...     ...      ...        ...   \n",
       "995            943049.00   38425.00 205835.00    0.00  5463.00   38333.00   \n",
       "996            827057.00   51855.00 138148.00    0.00 27315.00   19444.00   \n",
       "997            677311.00   25002.00 131205.00 4167.00  5463.00       0.00   \n",
       "998            562951.00   26853.00 151019.00 6852.00     0.00    9722.00   \n",
       "999            838174.00   64818.00 137038.00    0.00  7870.00   12037.00   \n",
       "\n",
       "         Desayunos  Ensaladas   Gaseosa    Helado  ...    Monday    Tuesday  \\\n",
       "cliente                                            ...                        \n",
       "1             0.00  134536.00 439259.00  91576.00  ... 730879.00  793887.00   \n",
       "10        12870.00  224907.00 387219.00  72501.00  ... 459076.00  730555.00   \n",
       "100       17500.00  222869.00 563150.00 154540.00  ... 905647.00 1035556.00   \n",
       "1000      12870.00  120277.00 403890.00 108340.00  ... 611207.00  411757.00   \n",
       "101       16574.00  183425.00 388243.00 142594.00  ... 187040.00 1144533.00   \n",
       "...            ...        ...       ...       ...  ...       ...        ...   \n",
       "995       25740.00  207962.00 450185.00  70375.00  ... 909164.00 1078145.00   \n",
       "996           0.00  114907.00 357316.00  90652.00  ... 295555.00  639214.00   \n",
       "997       37778.00  132315.00 302869.00  88890.00  ... 302038.00  940001.00   \n",
       "998           0.00  223147.00 221853.00 124078.00  ... 217177.00  488241.00   \n",
       "999           0.00  186480.00 433704.00 135838.00  ... 551762.00  609904.00   \n",
       "\n",
       "         Wednesday   Thursday     Friday  Saturday     Sunday    Mañana  \\\n",
       "cliente                                                                   \n",
       "1       1184717.00  706112.00 1311756.00 607683.00  531248.00 290553.00   \n",
       "10       915830.00 1093882.00  997123.00 432684.00  599816.00  75742.00   \n",
       "100     1335379.00 1323239.00 1282825.00 605834.00 1055926.00 419353.00   \n",
       "1000     820462.00  895136.00 1445834.00 363427.00  339813.00 175835.00   \n",
       "101      948148.00  758053.00  823056.00 402960.00  366298.00 207222.00   \n",
       "...            ...        ...        ...       ...        ...       ...   \n",
       "995      561298.00 1102499.00  449909.00 682877.00  771018.00 159632.00   \n",
       "996     1036017.00  571201.00  937866.00 595969.00  502869.00 104350.00   \n",
       "997      423888.00  901022.00  881294.00 442961.00  507043.00 250372.00   \n",
       "998      551114.00  757033.00 1000837.00 272404.00  611294.00 118241.00   \n",
       "999     1257681.00  831854.00  425182.00 586947.00 1003516.00 350463.00   \n",
       "\n",
       "             Tarde      Noche  \n",
       "cliente                        \n",
       "1       3700735.00 1874994.00  \n",
       "10      4015451.00 1137773.00  \n",
       "100     5302834.00 1822219.00  \n",
       "1000    3078138.00 1633663.00  \n",
       "101     3006019.00 1416847.00  \n",
       "...            ...        ...  \n",
       "995     4346945.00 1048333.00  \n",
       "996     3123604.00 1350737.00  \n",
       "997     2935098.00 1212777.00  \n",
       "998     3089907.00  689952.00  \n",
       "999     3801105.00 1115278.00  \n",
       "\n",
       "[1000 rows x 31 columns]"
      ]
     },
     "execution_count": 894,
     "metadata": {},
     "output_type": "execute_result"
    }
   ],
   "source": [
    "cuali = cuali.groupby(cuali.index).sum()\n",
    "cuali"
   ]
  },
  {
   "cell_type": "code",
   "execution_count": 896,
   "metadata": {},
   "outputs": [],
   "source": [
    "df = pd.concat([cuali, df_frecuencia], axis=1)"
   ]
  },
  {
   "cell_type": "code",
   "execution_count": 897,
   "metadata": {},
   "outputs": [
    {
     "data": {
      "image/png": "[encoded data removed]",
      "text/plain": [
       "<Figure size 2400x1200 with 1 Axes>"
      ]
     },
     "metadata": {},
     "output_type": "display_data"
    }
   ],
   "source": [
    "numerical_columns = df.select_dtypes(include=['float64', 'int64']).columns\n",
    "plt.figure(figsize=(24, 12))\n",
    "df[numerical_columns].boxplot()\n",
    "plt.xticks(rotation=45)\n",
    "plt.title('Box Plot para Variables Numéricas')\n",
    "plt.ylabel('Valores')\n",
    "plt.show()"
   ]
  },
  {
   "cell_type": "code",
   "execution_count": 898,
   "metadata": {},
   "outputs": [
    {
     "name": "stdout",
     "output_type": "stream",
     "text": [
      "Outliers en 'Acompañamientos': 17\n",
      "Outliers en 'Adiciones': 18\n",
      "Outliers en 'Agua': 19\n",
      "Outliers en 'Cafe': 28\n",
      "Outliers en 'Cerveza': 38\n",
      "Outliers en 'Corralito': 22\n",
      "Outliers en 'Desayunos': 53\n",
      "Outliers en 'Ensaladas': 16\n",
      "Outliers en 'Gaseosa': 17\n",
      "Outliers en 'Helado': 12\n",
      "Outliers en 'Jugo': 23\n",
      "Outliers en 'Malteada': 16\n",
      "Outliers en 'Otros': 12\n",
      "Outliers en 'Pollo': 14\n",
      "Outliers en 'Pollo - Combo': 23\n",
      "Outliers en 'Res': 10\n",
      "Outliers en 'Res - Combo': 13\n",
      "Outliers en 'Vaqueros': 8\n",
      "Outliers en 'Vegetal': 17\n",
      "Outliers en 'Vegetal - Combo': 96\n",
      "Outliers en 'Wrap': 21\n",
      "Outliers en 'Monday': 20\n",
      "Outliers en 'Tuesday': 23\n",
      "Outliers en 'Wednesday': 22\n",
      "Outliers en 'Thursday': 24\n",
      "Outliers en 'Friday': 18\n",
      "Outliers en 'Saturday': 16\n",
      "Outliers en 'Sunday': 13\n",
      "Outliers en 'Mañana': 74\n",
      "Outliers en 'Tarde': 6\n",
      "Outliers en 'Noche': 12\n",
      "Outliers en 'frecuencia': 12\n"
     ]
    }
   ],
   "source": [
    "def detectar_outliers_1(df, columna):\n",
    "    Q1 = df[columna].quantile(0.25)\n",
    "    Q3 = df[columna].quantile(0.75)\n",
    "    IQR = Q3 - Q1\n",
    "    \n",
    "    limite_inferior = Q1 - 1.5 * IQR\n",
    "    limite_superior = Q3 + 1.5 * IQR\n",
    "    outliers = df[(df[columna] < limite_inferior) | (df[columna] > limite_superior)]\n",
    "    print(f\"Outliers en '{columna}': {len(outliers)}\")\n",
    "    return outliers\n",
    "\n",
    "for columna in df.select_dtypes(include=['float64', 'int64']).columns:\n",
    "    outliers = detectar_outliers_1(df, columna)\n",
    "    f\"Outliers en la columna {columna}: {outliers}\""
   ]
  },
  {
   "cell_type": "code",
   "execution_count": 899,
   "metadata": {},
   "outputs": [
    {
     "name": "stdout",
     "output_type": "stream",
     "text": [
      "Winsorización aplicada a la columna Acompañamientos\n",
      "Winsorización aplicada a la columna Adiciones\n",
      "Winsorización aplicada a la columna Agua\n",
      "Winsorización aplicada a la columna Cafe\n",
      "Winsorización aplicada a la columna Cerveza\n",
      "Winsorización aplicada a la columna Corralito\n",
      "Winsorización aplicada a la columna Desayunos\n",
      "Winsorización aplicada a la columna Ensaladas\n",
      "Winsorización aplicada a la columna Gaseosa\n",
      "Winsorización aplicada a la columna Helado\n",
      "Winsorización aplicada a la columna Jugo\n",
      "Winsorización aplicada a la columna Malteada\n",
      "Winsorización aplicada a la columna Otros\n",
      "Winsorización aplicada a la columna Pollo\n",
      "Winsorización aplicada a la columna Pollo - Combo\n",
      "Winsorización aplicada a la columna Res\n",
      "Winsorización aplicada a la columna Res - Combo\n",
      "Winsorización aplicada a la columna Vaqueros\n",
      "Winsorización aplicada a la columna Vegetal\n",
      "Winsorización aplicada a la columna Vegetal - Combo\n",
      "Winsorización aplicada a la columna Wrap\n",
      "Winsorización aplicada a la columna Monday\n",
      "Winsorización aplicada a la columna Tuesday\n",
      "Winsorización aplicada a la columna Wednesday\n",
      "Winsorización aplicada a la columna Thursday\n",
      "Winsorización aplicada a la columna Friday\n",
      "Winsorización aplicada a la columna Saturday\n",
      "Winsorización aplicada a la columna Sunday\n",
      "Winsorización aplicada a la columna Mañana\n",
      "Winsorización aplicada a la columna Tarde\n",
      "Winsorización aplicada a la columna Noche\n",
      "Winsorización aplicada a la columna frecuencia\n"
     ]
    }
   ],
   "source": [
    "def detectar_outliers(df, columna):\n",
    "    Q1 = df[columna].quantile(0.25)\n",
    "    Q3 = df[columna].quantile(0.75)\n",
    "    IQR = Q3 - Q1\n",
    "    lower_bound = Q1 - 1.5 * IQR\n",
    "    upper_bound = Q3 + 1.5 * IQR\n",
    "    return lower_bound, upper_bound\n",
    "\n",
    "def winsorize_column(df, columna):\n",
    "    lower_bound, upper_bound = detectar_outliers(df, columna)\n",
    "    df[columna] = np.where(df[columna] < lower_bound, lower_bound, df[columna])\n",
    "    df[columna] = np.where(df[columna] > upper_bound, upper_bound, df[columna])\n",
    "\n",
    "for columna in df.select_dtypes(include=['float64', 'int64']).columns:\n",
    "    lower_bound, upper_bound = detectar_outliers(df, columna)\n",
    "    if (df[columna] < lower_bound).any() or (df[columna] > upper_bound).any():\n",
    "        winsorize_column(df, columna)\n",
    "        print(f\"Winsorización aplicada a la columna {columna}\")"
   ]
  },
  {
   "cell_type": "code",
   "execution_count": 900,
   "metadata": {},
   "outputs": [
    {
     "data": {
      "image/png": "[encoded data removed]",
      "text/plain": [
       "<Figure size 2400x1200 with 1 Axes>"
      ]
     },
     "metadata": {},
     "output_type": "display_data"
    }
   ],
   "source": [
    "numerical_columns = df.select_dtypes(include=['float64', 'int64']).columns\n",
    "plt.figure(figsize=(24, 12))\n",
    "df[numerical_columns].boxplot()\n",
    "plt.xticks(rotation=45)\n",
    "plt.title('Box Plot para Variables Numéricas')\n",
    "plt.ylabel('Valores')\n",
    "plt.show()"
   ]
  },
  {
   "cell_type": "code",
   "execution_count": 901,
   "metadata": {},
   "outputs": [
    {
     "name": "stdout",
     "output_type": "stream",
     "text": [
      "Outliers en 'Acompañamientos': 0\n",
      "Outliers en 'Adiciones': 0\n",
      "Outliers en 'Agua': 0\n",
      "Outliers en 'Cafe': 0\n",
      "Outliers en 'Cerveza': 0\n",
      "Outliers en 'Corralito': 0\n",
      "Outliers en 'Desayunos': 0\n",
      "Outliers en 'Ensaladas': 0\n",
      "Outliers en 'Gaseosa': 0\n",
      "Outliers en 'Helado': 0\n",
      "Outliers en 'Jugo': 0\n",
      "Outliers en 'Malteada': 0\n",
      "Outliers en 'Otros': 0\n",
      "Outliers en 'Pollo': 0\n",
      "Outliers en 'Pollo - Combo': 0\n",
      "Outliers en 'Res': 0\n",
      "Outliers en 'Res - Combo': 0\n",
      "Outliers en 'Vaqueros': 0\n",
      "Outliers en 'Vegetal': 0\n",
      "Outliers en 'Vegetal - Combo': 0\n",
      "Outliers en 'Wrap': 0\n",
      "Outliers en 'Monday': 0\n",
      "Outliers en 'Tuesday': 0\n",
      "Outliers en 'Wednesday': 0\n",
      "Outliers en 'Thursday': 0\n",
      "Outliers en 'Friday': 0\n",
      "Outliers en 'Saturday': 0\n",
      "Outliers en 'Sunday': 0\n",
      "Outliers en 'Mañana': 0\n",
      "Outliers en 'Tarde': 0\n",
      "Outliers en 'Noche': 0\n",
      "Outliers en 'frecuencia': 0\n"
     ]
    }
   ],
   "source": [
    "def detectar_outliers_1(df, columna):\n",
    "    Q1 = df[columna].quantile(0.25)\n",
    "    Q3 = df[columna].quantile(0.75)\n",
    "    IQR = Q3 - Q1\n",
    "    \n",
    "    limite_inferior = Q1 - 1.5 * IQR\n",
    "    limite_superior = Q3 + 1.5 * IQR\n",
    "    outliers = df[(df[columna] < limite_inferior) | (df[columna] > limite_superior)]\n",
    "    print(f\"Outliers en '{columna}': {len(outliers)}\")\n",
    "    return outliers\n",
    "\n",
    "for columna in df.select_dtypes(include=['float64', 'int64']).columns:\n",
    "    outliers = detectar_outliers_1(df, columna)\n",
    "    f\"Outliers en la columna {columna}: {outliers}\""
   ]
  }
 ],
 "metadata": {
  "kernelspec": {
   "display_name": ".venv",
   "language": "python",
   "name": "python3"
  },
  "language_info": {
   "codemirror_mode": {
    "name": "ipython",
    "version": 3
   },
   "file_extension": ".py",
   "mimetype": "text/x-python",
   "name": "python",
   "nbconvert_exporter": "python",
   "pygments_lexer": "ipython3",
   "version": "3.12.5"
  }
 },
 "nbformat": 4,
 "nbformat_minor": 2
}
